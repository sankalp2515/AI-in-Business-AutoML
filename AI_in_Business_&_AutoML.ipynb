{
  "nbformat": 4,
  "nbformat_minor": 0,
  "metadata": {
    "colab": {
      "name": "AI in Business & AutoML",
      "provenance": [],
      "collapsed_sections": []
    },
    "kernelspec": {
      "name": "python3",
      "display_name": "Python 3"
    }
  },
  "cells": [
    {
      "cell_type": "markdown",
      "metadata": {
        "id": "qrM11qy46His"
      },
      "source": [
        "# TASK #1: UNDERSTAND THE PROBLEM STATEMENT AND BUSINESS CASE"
      ]
    },
    {
      "cell_type": "markdown",
      "metadata": {
        "id": "KzAol5aeBOfp"
      },
      "source": [
        "![alt text](https://drive.google.com/uc?id=1DdfcCuoUZL7MuLgpCXnvCla7ylP6O7x6)"
      ]
    },
    {
      "cell_type": "markdown",
      "metadata": {
        "id": "jj6vbDkaO7gk"
      },
      "source": [
        "![alt text](https://drive.google.com/uc?id=19PlsX8wH0uDQs_UtEThfitkTTvogXiVW)"
      ]
    },
    {
      "cell_type": "markdown",
      "metadata": {
        "id": "_aSS2gGhPMW7"
      },
      "source": [
        "![alt text](https://drive.google.com/uc?id=1yAGwj4jwm3o-JVAh3NNcKTHg5TU1D6mn)"
      ]
    },
    {
      "cell_type": "markdown",
      "metadata": {
        "id": "lOnlTCNgPWei"
      },
      "source": [
        "![alt text](https://drive.google.com/uc?id=1lrb-KWEaQH91wfRAq9hrdj38gd-sMLhR)"
      ]
    },
    {
      "cell_type": "markdown",
      "metadata": {
        "id": "LfpAhVZC9YHj"
      },
      "source": [
        "Any publications based on this dataset should acknowledge the following:\n",
        "\n",
        "Lichman, M. (2013). UCI Machine Learning Repository [http://archive.ics.uci.edu/ml]. Irvine, CA: University of California, School of Information and Computer Science.\n",
        "\n",
        "The original dataset can be found here at the UCI Machine Learning Repository.\n",
        "\n"
      ]
    },
    {
      "cell_type": "markdown",
      "metadata": {
        "id": "IJwsNqB76MBy"
      },
      "source": [
        "# TASK #2: IMPORT LIBRARIES AND DATASETS"
      ]
    },
    {
      "cell_type": "code",
      "metadata": {
        "id": "ETf0YAwI6NDN"
      },
      "source": [
        "import pandas as pd\n",
        "import numpy as np\n",
        "import seaborn as sns\n",
        "import matplotlib.pyplot as plt"
      ],
      "execution_count": null,
      "outputs": []
    },
    {
      "cell_type": "code",
      "metadata": {
        "id": "5oDTMhZP6QNx",
        "colab": {
          "base_uri": "https://localhost:8080/",
          "height": 34
        },
        "outputId": "c61a6d7b-8e01-47e9-f92c-c499e2f2f2d0"
      },
      "source": [
        "# You will need to mount your drive using the following commands:\n",
        "# For more information regarding mounting, please check this out: https://stackoverflow.com/questions/46986398/import-data-into-google-colaboratory\n",
        "\n",
        "from google.colab import drive\n",
        "drive.mount('/content/drive')"
      ],
      "execution_count": null,
      "outputs": [
        {
          "output_type": "stream",
          "text": [
            "Drive already mounted at /content/drive; to attempt to forcibly remount, call drive.mount(\"/content/drive\", force_remount=True).\n"
          ],
          "name": "stdout"
        }
      ]
    },
    {
      "cell_type": "code",
      "metadata": {
        "id": "ZhDnHNiN6R7A"
      },
      "source": [
        "# You have to include the full link to the csv file containing your dataset\n",
        "creditcard_df = pd.read_csv('/content/drive/My Drive/Colab Notebooks/Modern AI Portfolio Builder/Business AI/UCI_Credit_Card.csv')\n"
      ],
      "execution_count": null,
      "outputs": []
    },
    {
      "cell_type": "code",
      "metadata": {
        "id": "TQf9G6QF6pVV",
        "colab": {
          "base_uri": "https://localhost:8080/",
          "height": 422
        },
        "outputId": "e61c8efe-a867-44f7-99a5-06dd69aa8abd"
      },
      "source": [
        "creditcard_df"
      ],
      "execution_count": null,
      "outputs": [
        {
          "output_type": "execute_result",
          "data": {
            "text/html": [
              "<div>\n",
              "<style scoped>\n",
              "    .dataframe tbody tr th:only-of-type {\n",
              "        vertical-align: middle;\n",
              "    }\n",
              "\n",
              "    .dataframe tbody tr th {\n",
              "        vertical-align: top;\n",
              "    }\n",
              "\n",
              "    .dataframe thead th {\n",
              "        text-align: right;\n",
              "    }\n",
              "</style>\n",
              "<table border=\"1\" class=\"dataframe\">\n",
              "  <thead>\n",
              "    <tr style=\"text-align: right;\">\n",
              "      <th></th>\n",
              "      <th>ID</th>\n",
              "      <th>LIMIT_BAL</th>\n",
              "      <th>SEX</th>\n",
              "      <th>EDUCATION</th>\n",
              "      <th>MARRIAGE</th>\n",
              "      <th>AGE</th>\n",
              "      <th>PAY_0</th>\n",
              "      <th>PAY_2</th>\n",
              "      <th>PAY_3</th>\n",
              "      <th>PAY_4</th>\n",
              "      <th>PAY_5</th>\n",
              "      <th>PAY_6</th>\n",
              "      <th>BILL_AMT1</th>\n",
              "      <th>BILL_AMT2</th>\n",
              "      <th>BILL_AMT3</th>\n",
              "      <th>BILL_AMT4</th>\n",
              "      <th>BILL_AMT5</th>\n",
              "      <th>BILL_AMT6</th>\n",
              "      <th>PAY_AMT1</th>\n",
              "      <th>PAY_AMT2</th>\n",
              "      <th>PAY_AMT3</th>\n",
              "      <th>PAY_AMT4</th>\n",
              "      <th>PAY_AMT5</th>\n",
              "      <th>PAY_AMT6</th>\n",
              "      <th>default.payment.next.month</th>\n",
              "    </tr>\n",
              "  </thead>\n",
              "  <tbody>\n",
              "    <tr>\n",
              "      <th>0</th>\n",
              "      <td>1</td>\n",
              "      <td>20000.0</td>\n",
              "      <td>2</td>\n",
              "      <td>2</td>\n",
              "      <td>1</td>\n",
              "      <td>24</td>\n",
              "      <td>2</td>\n",
              "      <td>2</td>\n",
              "      <td>-1</td>\n",
              "      <td>-1</td>\n",
              "      <td>-2</td>\n",
              "      <td>-2</td>\n",
              "      <td>3913.0</td>\n",
              "      <td>3102.0</td>\n",
              "      <td>689.0</td>\n",
              "      <td>0.0</td>\n",
              "      <td>0.0</td>\n",
              "      <td>0.0</td>\n",
              "      <td>0.0</td>\n",
              "      <td>689.0</td>\n",
              "      <td>0.0</td>\n",
              "      <td>0.0</td>\n",
              "      <td>0.0</td>\n",
              "      <td>0.0</td>\n",
              "      <td>1</td>\n",
              "    </tr>\n",
              "    <tr>\n",
              "      <th>1</th>\n",
              "      <td>2</td>\n",
              "      <td>120000.0</td>\n",
              "      <td>2</td>\n",
              "      <td>2</td>\n",
              "      <td>2</td>\n",
              "      <td>26</td>\n",
              "      <td>-1</td>\n",
              "      <td>2</td>\n",
              "      <td>0</td>\n",
              "      <td>0</td>\n",
              "      <td>0</td>\n",
              "      <td>2</td>\n",
              "      <td>2682.0</td>\n",
              "      <td>1725.0</td>\n",
              "      <td>2682.0</td>\n",
              "      <td>3272.0</td>\n",
              "      <td>3455.0</td>\n",
              "      <td>3261.0</td>\n",
              "      <td>0.0</td>\n",
              "      <td>1000.0</td>\n",
              "      <td>1000.0</td>\n",
              "      <td>1000.0</td>\n",
              "      <td>0.0</td>\n",
              "      <td>2000.0</td>\n",
              "      <td>1</td>\n",
              "    </tr>\n",
              "    <tr>\n",
              "      <th>2</th>\n",
              "      <td>3</td>\n",
              "      <td>90000.0</td>\n",
              "      <td>2</td>\n",
              "      <td>2</td>\n",
              "      <td>2</td>\n",
              "      <td>34</td>\n",
              "      <td>0</td>\n",
              "      <td>0</td>\n",
              "      <td>0</td>\n",
              "      <td>0</td>\n",
              "      <td>0</td>\n",
              "      <td>0</td>\n",
              "      <td>29239.0</td>\n",
              "      <td>14027.0</td>\n",
              "      <td>13559.0</td>\n",
              "      <td>14331.0</td>\n",
              "      <td>14948.0</td>\n",
              "      <td>15549.0</td>\n",
              "      <td>1518.0</td>\n",
              "      <td>1500.0</td>\n",
              "      <td>1000.0</td>\n",
              "      <td>1000.0</td>\n",
              "      <td>1000.0</td>\n",
              "      <td>5000.0</td>\n",
              "      <td>0</td>\n",
              "    </tr>\n",
              "    <tr>\n",
              "      <th>3</th>\n",
              "      <td>4</td>\n",
              "      <td>50000.0</td>\n",
              "      <td>2</td>\n",
              "      <td>2</td>\n",
              "      <td>1</td>\n",
              "      <td>37</td>\n",
              "      <td>0</td>\n",
              "      <td>0</td>\n",
              "      <td>0</td>\n",
              "      <td>0</td>\n",
              "      <td>0</td>\n",
              "      <td>0</td>\n",
              "      <td>46990.0</td>\n",
              "      <td>48233.0</td>\n",
              "      <td>49291.0</td>\n",
              "      <td>28314.0</td>\n",
              "      <td>28959.0</td>\n",
              "      <td>29547.0</td>\n",
              "      <td>2000.0</td>\n",
              "      <td>2019.0</td>\n",
              "      <td>1200.0</td>\n",
              "      <td>1100.0</td>\n",
              "      <td>1069.0</td>\n",
              "      <td>1000.0</td>\n",
              "      <td>0</td>\n",
              "    </tr>\n",
              "    <tr>\n",
              "      <th>4</th>\n",
              "      <td>5</td>\n",
              "      <td>50000.0</td>\n",
              "      <td>1</td>\n",
              "      <td>2</td>\n",
              "      <td>1</td>\n",
              "      <td>57</td>\n",
              "      <td>-1</td>\n",
              "      <td>0</td>\n",
              "      <td>-1</td>\n",
              "      <td>0</td>\n",
              "      <td>0</td>\n",
              "      <td>0</td>\n",
              "      <td>8617.0</td>\n",
              "      <td>5670.0</td>\n",
              "      <td>35835.0</td>\n",
              "      <td>20940.0</td>\n",
              "      <td>19146.0</td>\n",
              "      <td>19131.0</td>\n",
              "      <td>2000.0</td>\n",
              "      <td>36681.0</td>\n",
              "      <td>10000.0</td>\n",
              "      <td>9000.0</td>\n",
              "      <td>689.0</td>\n",
              "      <td>679.0</td>\n",
              "      <td>0</td>\n",
              "    </tr>\n",
              "    <tr>\n",
              "      <th>...</th>\n",
              "      <td>...</td>\n",
              "      <td>...</td>\n",
              "      <td>...</td>\n",
              "      <td>...</td>\n",
              "      <td>...</td>\n",
              "      <td>...</td>\n",
              "      <td>...</td>\n",
              "      <td>...</td>\n",
              "      <td>...</td>\n",
              "      <td>...</td>\n",
              "      <td>...</td>\n",
              "      <td>...</td>\n",
              "      <td>...</td>\n",
              "      <td>...</td>\n",
              "      <td>...</td>\n",
              "      <td>...</td>\n",
              "      <td>...</td>\n",
              "      <td>...</td>\n",
              "      <td>...</td>\n",
              "      <td>...</td>\n",
              "      <td>...</td>\n",
              "      <td>...</td>\n",
              "      <td>...</td>\n",
              "      <td>...</td>\n",
              "      <td>...</td>\n",
              "    </tr>\n",
              "    <tr>\n",
              "      <th>29995</th>\n",
              "      <td>29996</td>\n",
              "      <td>220000.0</td>\n",
              "      <td>1</td>\n",
              "      <td>3</td>\n",
              "      <td>1</td>\n",
              "      <td>39</td>\n",
              "      <td>0</td>\n",
              "      <td>0</td>\n",
              "      <td>0</td>\n",
              "      <td>0</td>\n",
              "      <td>0</td>\n",
              "      <td>0</td>\n",
              "      <td>188948.0</td>\n",
              "      <td>192815.0</td>\n",
              "      <td>208365.0</td>\n",
              "      <td>88004.0</td>\n",
              "      <td>31237.0</td>\n",
              "      <td>15980.0</td>\n",
              "      <td>8500.0</td>\n",
              "      <td>20000.0</td>\n",
              "      <td>5003.0</td>\n",
              "      <td>3047.0</td>\n",
              "      <td>5000.0</td>\n",
              "      <td>1000.0</td>\n",
              "      <td>0</td>\n",
              "    </tr>\n",
              "    <tr>\n",
              "      <th>29996</th>\n",
              "      <td>29997</td>\n",
              "      <td>150000.0</td>\n",
              "      <td>1</td>\n",
              "      <td>3</td>\n",
              "      <td>2</td>\n",
              "      <td>43</td>\n",
              "      <td>-1</td>\n",
              "      <td>-1</td>\n",
              "      <td>-1</td>\n",
              "      <td>-1</td>\n",
              "      <td>0</td>\n",
              "      <td>0</td>\n",
              "      <td>1683.0</td>\n",
              "      <td>1828.0</td>\n",
              "      <td>3502.0</td>\n",
              "      <td>8979.0</td>\n",
              "      <td>5190.0</td>\n",
              "      <td>0.0</td>\n",
              "      <td>1837.0</td>\n",
              "      <td>3526.0</td>\n",
              "      <td>8998.0</td>\n",
              "      <td>129.0</td>\n",
              "      <td>0.0</td>\n",
              "      <td>0.0</td>\n",
              "      <td>0</td>\n",
              "    </tr>\n",
              "    <tr>\n",
              "      <th>29997</th>\n",
              "      <td>29998</td>\n",
              "      <td>30000.0</td>\n",
              "      <td>1</td>\n",
              "      <td>2</td>\n",
              "      <td>2</td>\n",
              "      <td>37</td>\n",
              "      <td>4</td>\n",
              "      <td>3</td>\n",
              "      <td>2</td>\n",
              "      <td>-1</td>\n",
              "      <td>0</td>\n",
              "      <td>0</td>\n",
              "      <td>3565.0</td>\n",
              "      <td>3356.0</td>\n",
              "      <td>2758.0</td>\n",
              "      <td>20878.0</td>\n",
              "      <td>20582.0</td>\n",
              "      <td>19357.0</td>\n",
              "      <td>0.0</td>\n",
              "      <td>0.0</td>\n",
              "      <td>22000.0</td>\n",
              "      <td>4200.0</td>\n",
              "      <td>2000.0</td>\n",
              "      <td>3100.0</td>\n",
              "      <td>1</td>\n",
              "    </tr>\n",
              "    <tr>\n",
              "      <th>29998</th>\n",
              "      <td>29999</td>\n",
              "      <td>80000.0</td>\n",
              "      <td>1</td>\n",
              "      <td>3</td>\n",
              "      <td>1</td>\n",
              "      <td>41</td>\n",
              "      <td>1</td>\n",
              "      <td>-1</td>\n",
              "      <td>0</td>\n",
              "      <td>0</td>\n",
              "      <td>0</td>\n",
              "      <td>-1</td>\n",
              "      <td>-1645.0</td>\n",
              "      <td>78379.0</td>\n",
              "      <td>76304.0</td>\n",
              "      <td>52774.0</td>\n",
              "      <td>11855.0</td>\n",
              "      <td>48944.0</td>\n",
              "      <td>85900.0</td>\n",
              "      <td>3409.0</td>\n",
              "      <td>1178.0</td>\n",
              "      <td>1926.0</td>\n",
              "      <td>52964.0</td>\n",
              "      <td>1804.0</td>\n",
              "      <td>1</td>\n",
              "    </tr>\n",
              "    <tr>\n",
              "      <th>29999</th>\n",
              "      <td>30000</td>\n",
              "      <td>50000.0</td>\n",
              "      <td>1</td>\n",
              "      <td>2</td>\n",
              "      <td>1</td>\n",
              "      <td>46</td>\n",
              "      <td>0</td>\n",
              "      <td>0</td>\n",
              "      <td>0</td>\n",
              "      <td>0</td>\n",
              "      <td>0</td>\n",
              "      <td>0</td>\n",
              "      <td>47929.0</td>\n",
              "      <td>48905.0</td>\n",
              "      <td>49764.0</td>\n",
              "      <td>36535.0</td>\n",
              "      <td>32428.0</td>\n",
              "      <td>15313.0</td>\n",
              "      <td>2078.0</td>\n",
              "      <td>1800.0</td>\n",
              "      <td>1430.0</td>\n",
              "      <td>1000.0</td>\n",
              "      <td>1000.0</td>\n",
              "      <td>1000.0</td>\n",
              "      <td>1</td>\n",
              "    </tr>\n",
              "  </tbody>\n",
              "</table>\n",
              "<p>30000 rows × 25 columns</p>\n",
              "</div>"
            ],
            "text/plain": [
              "          ID  LIMIT_BAL  SEX  ...  PAY_AMT5  PAY_AMT6  default.payment.next.month\n",
              "0          1    20000.0    2  ...       0.0       0.0                           1\n",
              "1          2   120000.0    2  ...       0.0    2000.0                           1\n",
              "2          3    90000.0    2  ...    1000.0    5000.0                           0\n",
              "3          4    50000.0    2  ...    1069.0    1000.0                           0\n",
              "4          5    50000.0    1  ...     689.0     679.0                           0\n",
              "...      ...        ...  ...  ...       ...       ...                         ...\n",
              "29995  29996   220000.0    1  ...    5000.0    1000.0                           0\n",
              "29996  29997   150000.0    1  ...       0.0       0.0                           0\n",
              "29997  29998    30000.0    1  ...    2000.0    3100.0                           1\n",
              "29998  29999    80000.0    1  ...   52964.0    1804.0                           1\n",
              "29999  30000    50000.0    1  ...    1000.0    1000.0                           1\n",
              "\n",
              "[30000 rows x 25 columns]"
            ]
          },
          "metadata": {
            "tags": []
          },
          "execution_count": 29
        }
      ]
    },
    {
      "cell_type": "code",
      "metadata": {
        "id": "UtamBsKS8fNR",
        "colab": {
          "base_uri": "https://localhost:8080/",
          "height": 554
        },
        "outputId": "21817acd-6c51-4694-8647-7eaf0e6c6976"
      },
      "source": [
        "creditcard_df.info()\n",
        "# 24 features in total, each contains 30000 data points"
      ],
      "execution_count": null,
      "outputs": [
        {
          "output_type": "stream",
          "text": [
            "<class 'pandas.core.frame.DataFrame'>\n",
            "RangeIndex: 30000 entries, 0 to 29999\n",
            "Data columns (total 25 columns):\n",
            " #   Column                      Non-Null Count  Dtype  \n",
            "---  ------                      --------------  -----  \n",
            " 0   ID                          30000 non-null  int64  \n",
            " 1   LIMIT_BAL                   30000 non-null  float64\n",
            " 2   SEX                         30000 non-null  int64  \n",
            " 3   EDUCATION                   30000 non-null  int64  \n",
            " 4   MARRIAGE                    30000 non-null  int64  \n",
            " 5   AGE                         30000 non-null  int64  \n",
            " 6   PAY_0                       30000 non-null  int64  \n",
            " 7   PAY_2                       30000 non-null  int64  \n",
            " 8   PAY_3                       30000 non-null  int64  \n",
            " 9   PAY_4                       30000 non-null  int64  \n",
            " 10  PAY_5                       30000 non-null  int64  \n",
            " 11  PAY_6                       30000 non-null  int64  \n",
            " 12  BILL_AMT1                   30000 non-null  float64\n",
            " 13  BILL_AMT2                   30000 non-null  float64\n",
            " 14  BILL_AMT3                   30000 non-null  float64\n",
            " 15  BILL_AMT4                   30000 non-null  float64\n",
            " 16  BILL_AMT5                   30000 non-null  float64\n",
            " 17  BILL_AMT6                   30000 non-null  float64\n",
            " 18  PAY_AMT1                    30000 non-null  float64\n",
            " 19  PAY_AMT2                    30000 non-null  float64\n",
            " 20  PAY_AMT3                    30000 non-null  float64\n",
            " 21  PAY_AMT4                    30000 non-null  float64\n",
            " 22  PAY_AMT5                    30000 non-null  float64\n",
            " 23  PAY_AMT6                    30000 non-null  float64\n",
            " 24  default.payment.next.month  30000 non-null  int64  \n",
            "dtypes: float64(13), int64(12)\n",
            "memory usage: 5.7 MB\n"
          ],
          "name": "stdout"
        }
      ]
    },
    {
      "cell_type": "code",
      "metadata": {
        "id": "ENzZ7eo28lu2",
        "colab": {
          "base_uri": "https://localhost:8080/",
          "height": 304
        },
        "outputId": "f5e98e8b-7299-40cc-9f8c-b4213637f094"
      },
      "source": [
        "creditcard_df.describe()\n",
        "# the mean for LIMIT_BAL = 1500, min =1, and max = 30000\n",
        "# the mean for AGE = 25 years old, min = 21, and max = 79\n",
        "# PAY_AMT average is around 5k"
      ],
      "execution_count": null,
      "outputs": [
        {
          "output_type": "execute_result",
          "data": {
            "text/html": [
              "<div>\n",
              "<style scoped>\n",
              "    .dataframe tbody tr th:only-of-type {\n",
              "        vertical-align: middle;\n",
              "    }\n",
              "\n",
              "    .dataframe tbody tr th {\n",
              "        vertical-align: top;\n",
              "    }\n",
              "\n",
              "    .dataframe thead th {\n",
              "        text-align: right;\n",
              "    }\n",
              "</style>\n",
              "<table border=\"1\" class=\"dataframe\">\n",
              "  <thead>\n",
              "    <tr style=\"text-align: right;\">\n",
              "      <th></th>\n",
              "      <th>ID</th>\n",
              "      <th>LIMIT_BAL</th>\n",
              "      <th>SEX</th>\n",
              "      <th>EDUCATION</th>\n",
              "      <th>MARRIAGE</th>\n",
              "      <th>AGE</th>\n",
              "      <th>PAY_0</th>\n",
              "      <th>PAY_2</th>\n",
              "      <th>PAY_3</th>\n",
              "      <th>PAY_4</th>\n",
              "      <th>PAY_5</th>\n",
              "      <th>PAY_6</th>\n",
              "      <th>BILL_AMT1</th>\n",
              "      <th>BILL_AMT2</th>\n",
              "      <th>BILL_AMT3</th>\n",
              "      <th>BILL_AMT4</th>\n",
              "      <th>BILL_AMT5</th>\n",
              "      <th>BILL_AMT6</th>\n",
              "      <th>PAY_AMT1</th>\n",
              "      <th>PAY_AMT2</th>\n",
              "      <th>PAY_AMT3</th>\n",
              "      <th>PAY_AMT4</th>\n",
              "      <th>PAY_AMT5</th>\n",
              "      <th>PAY_AMT6</th>\n",
              "      <th>default.payment.next.month</th>\n",
              "    </tr>\n",
              "  </thead>\n",
              "  <tbody>\n",
              "    <tr>\n",
              "      <th>count</th>\n",
              "      <td>30000.000000</td>\n",
              "      <td>30000.000000</td>\n",
              "      <td>30000.000000</td>\n",
              "      <td>30000.000000</td>\n",
              "      <td>30000.000000</td>\n",
              "      <td>30000.000000</td>\n",
              "      <td>30000.000000</td>\n",
              "      <td>30000.000000</td>\n",
              "      <td>30000.000000</td>\n",
              "      <td>30000.000000</td>\n",
              "      <td>30000.000000</td>\n",
              "      <td>30000.000000</td>\n",
              "      <td>30000.000000</td>\n",
              "      <td>30000.000000</td>\n",
              "      <td>3.000000e+04</td>\n",
              "      <td>30000.000000</td>\n",
              "      <td>30000.000000</td>\n",
              "      <td>30000.000000</td>\n",
              "      <td>30000.000000</td>\n",
              "      <td>3.000000e+04</td>\n",
              "      <td>30000.00000</td>\n",
              "      <td>30000.000000</td>\n",
              "      <td>30000.000000</td>\n",
              "      <td>30000.000000</td>\n",
              "      <td>30000.000000</td>\n",
              "    </tr>\n",
              "    <tr>\n",
              "      <th>mean</th>\n",
              "      <td>15000.500000</td>\n",
              "      <td>167484.322667</td>\n",
              "      <td>1.603733</td>\n",
              "      <td>1.853133</td>\n",
              "      <td>1.551867</td>\n",
              "      <td>35.485500</td>\n",
              "      <td>-0.016700</td>\n",
              "      <td>-0.133767</td>\n",
              "      <td>-0.166200</td>\n",
              "      <td>-0.220667</td>\n",
              "      <td>-0.266200</td>\n",
              "      <td>-0.291100</td>\n",
              "      <td>51223.330900</td>\n",
              "      <td>49179.075167</td>\n",
              "      <td>4.701315e+04</td>\n",
              "      <td>43262.948967</td>\n",
              "      <td>40311.400967</td>\n",
              "      <td>38871.760400</td>\n",
              "      <td>5663.580500</td>\n",
              "      <td>5.921163e+03</td>\n",
              "      <td>5225.68150</td>\n",
              "      <td>4826.076867</td>\n",
              "      <td>4799.387633</td>\n",
              "      <td>5215.502567</td>\n",
              "      <td>0.221200</td>\n",
              "    </tr>\n",
              "    <tr>\n",
              "      <th>std</th>\n",
              "      <td>8660.398374</td>\n",
              "      <td>129747.661567</td>\n",
              "      <td>0.489129</td>\n",
              "      <td>0.790349</td>\n",
              "      <td>0.521970</td>\n",
              "      <td>9.217904</td>\n",
              "      <td>1.123802</td>\n",
              "      <td>1.197186</td>\n",
              "      <td>1.196868</td>\n",
              "      <td>1.169139</td>\n",
              "      <td>1.133187</td>\n",
              "      <td>1.149988</td>\n",
              "      <td>73635.860576</td>\n",
              "      <td>71173.768783</td>\n",
              "      <td>6.934939e+04</td>\n",
              "      <td>64332.856134</td>\n",
              "      <td>60797.155770</td>\n",
              "      <td>59554.107537</td>\n",
              "      <td>16563.280354</td>\n",
              "      <td>2.304087e+04</td>\n",
              "      <td>17606.96147</td>\n",
              "      <td>15666.159744</td>\n",
              "      <td>15278.305679</td>\n",
              "      <td>17777.465775</td>\n",
              "      <td>0.415062</td>\n",
              "    </tr>\n",
              "    <tr>\n",
              "      <th>min</th>\n",
              "      <td>1.000000</td>\n",
              "      <td>10000.000000</td>\n",
              "      <td>1.000000</td>\n",
              "      <td>0.000000</td>\n",
              "      <td>0.000000</td>\n",
              "      <td>21.000000</td>\n",
              "      <td>-2.000000</td>\n",
              "      <td>-2.000000</td>\n",
              "      <td>-2.000000</td>\n",
              "      <td>-2.000000</td>\n",
              "      <td>-2.000000</td>\n",
              "      <td>-2.000000</td>\n",
              "      <td>-165580.000000</td>\n",
              "      <td>-69777.000000</td>\n",
              "      <td>-1.572640e+05</td>\n",
              "      <td>-170000.000000</td>\n",
              "      <td>-81334.000000</td>\n",
              "      <td>-339603.000000</td>\n",
              "      <td>0.000000</td>\n",
              "      <td>0.000000e+00</td>\n",
              "      <td>0.00000</td>\n",
              "      <td>0.000000</td>\n",
              "      <td>0.000000</td>\n",
              "      <td>0.000000</td>\n",
              "      <td>0.000000</td>\n",
              "    </tr>\n",
              "    <tr>\n",
              "      <th>25%</th>\n",
              "      <td>7500.750000</td>\n",
              "      <td>50000.000000</td>\n",
              "      <td>1.000000</td>\n",
              "      <td>1.000000</td>\n",
              "      <td>1.000000</td>\n",
              "      <td>28.000000</td>\n",
              "      <td>-1.000000</td>\n",
              "      <td>-1.000000</td>\n",
              "      <td>-1.000000</td>\n",
              "      <td>-1.000000</td>\n",
              "      <td>-1.000000</td>\n",
              "      <td>-1.000000</td>\n",
              "      <td>3558.750000</td>\n",
              "      <td>2984.750000</td>\n",
              "      <td>2.666250e+03</td>\n",
              "      <td>2326.750000</td>\n",
              "      <td>1763.000000</td>\n",
              "      <td>1256.000000</td>\n",
              "      <td>1000.000000</td>\n",
              "      <td>8.330000e+02</td>\n",
              "      <td>390.00000</td>\n",
              "      <td>296.000000</td>\n",
              "      <td>252.500000</td>\n",
              "      <td>117.750000</td>\n",
              "      <td>0.000000</td>\n",
              "    </tr>\n",
              "    <tr>\n",
              "      <th>50%</th>\n",
              "      <td>15000.500000</td>\n",
              "      <td>140000.000000</td>\n",
              "      <td>2.000000</td>\n",
              "      <td>2.000000</td>\n",
              "      <td>2.000000</td>\n",
              "      <td>34.000000</td>\n",
              "      <td>0.000000</td>\n",
              "      <td>0.000000</td>\n",
              "      <td>0.000000</td>\n",
              "      <td>0.000000</td>\n",
              "      <td>0.000000</td>\n",
              "      <td>0.000000</td>\n",
              "      <td>22381.500000</td>\n",
              "      <td>21200.000000</td>\n",
              "      <td>2.008850e+04</td>\n",
              "      <td>19052.000000</td>\n",
              "      <td>18104.500000</td>\n",
              "      <td>17071.000000</td>\n",
              "      <td>2100.000000</td>\n",
              "      <td>2.009000e+03</td>\n",
              "      <td>1800.00000</td>\n",
              "      <td>1500.000000</td>\n",
              "      <td>1500.000000</td>\n",
              "      <td>1500.000000</td>\n",
              "      <td>0.000000</td>\n",
              "    </tr>\n",
              "    <tr>\n",
              "      <th>75%</th>\n",
              "      <td>22500.250000</td>\n",
              "      <td>240000.000000</td>\n",
              "      <td>2.000000</td>\n",
              "      <td>2.000000</td>\n",
              "      <td>2.000000</td>\n",
              "      <td>41.000000</td>\n",
              "      <td>0.000000</td>\n",
              "      <td>0.000000</td>\n",
              "      <td>0.000000</td>\n",
              "      <td>0.000000</td>\n",
              "      <td>0.000000</td>\n",
              "      <td>0.000000</td>\n",
              "      <td>67091.000000</td>\n",
              "      <td>64006.250000</td>\n",
              "      <td>6.016475e+04</td>\n",
              "      <td>54506.000000</td>\n",
              "      <td>50190.500000</td>\n",
              "      <td>49198.250000</td>\n",
              "      <td>5006.000000</td>\n",
              "      <td>5.000000e+03</td>\n",
              "      <td>4505.00000</td>\n",
              "      <td>4013.250000</td>\n",
              "      <td>4031.500000</td>\n",
              "      <td>4000.000000</td>\n",
              "      <td>0.000000</td>\n",
              "    </tr>\n",
              "    <tr>\n",
              "      <th>max</th>\n",
              "      <td>30000.000000</td>\n",
              "      <td>1000000.000000</td>\n",
              "      <td>2.000000</td>\n",
              "      <td>6.000000</td>\n",
              "      <td>3.000000</td>\n",
              "      <td>79.000000</td>\n",
              "      <td>8.000000</td>\n",
              "      <td>8.000000</td>\n",
              "      <td>8.000000</td>\n",
              "      <td>8.000000</td>\n",
              "      <td>8.000000</td>\n",
              "      <td>8.000000</td>\n",
              "      <td>964511.000000</td>\n",
              "      <td>983931.000000</td>\n",
              "      <td>1.664089e+06</td>\n",
              "      <td>891586.000000</td>\n",
              "      <td>927171.000000</td>\n",
              "      <td>961664.000000</td>\n",
              "      <td>873552.000000</td>\n",
              "      <td>1.684259e+06</td>\n",
              "      <td>896040.00000</td>\n",
              "      <td>621000.000000</td>\n",
              "      <td>426529.000000</td>\n",
              "      <td>528666.000000</td>\n",
              "      <td>1.000000</td>\n",
              "    </tr>\n",
              "  </tbody>\n",
              "</table>\n",
              "</div>"
            ],
            "text/plain": [
              "                 ID       LIMIT_BAL  ...       PAY_AMT6  default.payment.next.month\n",
              "count  30000.000000    30000.000000  ...   30000.000000                30000.000000\n",
              "mean   15000.500000   167484.322667  ...    5215.502567                    0.221200\n",
              "std     8660.398374   129747.661567  ...   17777.465775                    0.415062\n",
              "min        1.000000    10000.000000  ...       0.000000                    0.000000\n",
              "25%     7500.750000    50000.000000  ...     117.750000                    0.000000\n",
              "50%    15000.500000   140000.000000  ...    1500.000000                    0.000000\n",
              "75%    22500.250000   240000.000000  ...    4000.000000                    0.000000\n",
              "max    30000.000000  1000000.000000  ...  528666.000000                    1.000000\n",
              "\n",
              "[8 rows x 25 columns]"
            ]
          },
          "metadata": {
            "tags": []
          },
          "execution_count": 31
        }
      ]
    },
    {
      "cell_type": "markdown",
      "metadata": {
        "id": "rhxz_5cAB-Jk"
      },
      "source": [
        "# TASK #3: VISUALIZE DATASET"
      ]
    },
    {
      "cell_type": "code",
      "metadata": {
        "id": "uk1G6de2B-rs",
        "colab": {
          "base_uri": "https://localhost:8080/",
          "height": 416
        },
        "outputId": "397f761f-8087-4a26-92fa-0fabd154b3b1"
      },
      "source": [
        "# Let's see if we have any missing data, luckily we don't!\n",
        "sns.heatmap(creditcard_df.isnull(), yticklabels = False, cbar = False, cmap=\"Blues\")\n"
      ],
      "execution_count": null,
      "outputs": [
        {
          "output_type": "execute_result",
          "data": {
            "text/plain": [
              "<matplotlib.axes._subplots.AxesSubplot at 0x7f3348fb95f8>"
            ]
          },
          "metadata": {
            "tags": []
          },
          "execution_count": 34
        },
        {
          "output_type": "display_data",
          "data": {
            "image/png": "[encoded data removed]",
            "text/plain": [
              "<Figure size 432x288 with 1 Axes>"
            ]
          },
          "metadata": {
            "tags": [],
            "needs_background": "light"
          }
        }
      ]
    },
    {
      "cell_type": "code",
      "metadata": {
        "id": "cmSjFMYyCC_E",
        "colab": {
          "base_uri": "https://localhost:8080/",
          "height": 1000
        },
        "outputId": "2123824b-faeb-45f2-9bae-95e3c58bb839"
      },
      "source": [
        "creditcard_df.hist(bins = 30, figsize = (20,20), color = 'r')\n"
      ],
      "execution_count": null,
      "outputs": [
        {
          "output_type": "execute_result",
          "data": {
            "text/plain": [
              "array([[<matplotlib.axes._subplots.AxesSubplot object at 0x7f3344fd3c50>,\n",
              "        <matplotlib.axes._subplots.AxesSubplot object at 0x7f3344f83ef0>,\n",
              "        <matplotlib.axes._subplots.AxesSubplot object at 0x7f3344f3f198>,\n",
              "        <matplotlib.axes._subplots.AxesSubplot object at 0x7f3344f71400>,\n",
              "        <matplotlib.axes._subplots.AxesSubplot object at 0x7f3344f21668>],\n",
              "       [<matplotlib.axes._subplots.AxesSubplot object at 0x7f3344ed38d0>,\n",
              "        <matplotlib.axes._subplots.AxesSubplot object at 0x7f3344e84b38>,\n",
              "        <matplotlib.axes._subplots.AxesSubplot object at 0x7f3344eb5d68>,\n",
              "        <matplotlib.axes._subplots.AxesSubplot object at 0x7f3344eb5dd8>,\n",
              "        <matplotlib.axes._subplots.AxesSubplot object at 0x7f3344e282b0>],\n",
              "       [<matplotlib.axes._subplots.AxesSubplot object at 0x7f3344dda518>,\n",
              "        <matplotlib.axes._subplots.AxesSubplot object at 0x7f3344d90780>,\n",
              "        <matplotlib.axes._subplots.AxesSubplot object at 0x7f3344d429e8>,\n",
              "        <matplotlib.axes._subplots.AxesSubplot object at 0x7f3344cf7c50>,\n",
              "        <matplotlib.axes._subplots.AxesSubplot object at 0x7f3344d2deb8>],\n",
              "       [<matplotlib.axes._subplots.AxesSubplot object at 0x7f3344cec160>,\n",
              "        <matplotlib.axes._subplots.AxesSubplot object at 0x7f3344ca13c8>,\n",
              "        <matplotlib.axes._subplots.AxesSubplot object at 0x7f3344c53630>,\n",
              "        <matplotlib.axes._subplots.AxesSubplot object at 0x7f3344c07898>,\n",
              "        <matplotlib.axes._subplots.AxesSubplot object at 0x7f3344bbab00>],\n",
              "       [<matplotlib.axes._subplots.AxesSubplot object at 0x7f3344bf0d68>,\n",
              "        <matplotlib.axes._subplots.AxesSubplot object at 0x7f3344ba3fd0>,\n",
              "        <matplotlib.axes._subplots.AxesSubplot object at 0x7f3344b63278>,\n",
              "        <matplotlib.axes._subplots.AxesSubplot object at 0x7f3344b194e0>,\n",
              "        <matplotlib.axes._subplots.AxesSubplot object at 0x7f3344acd748>]],\n",
              "      dtype=object)"
            ]
          },
          "metadata": {
            "tags": []
          },
          "execution_count": 35
        },
        {
          "output_type": "display_data",
          "data": {
            "image/png": "[encoded data removed]",
            "text/plain": [
              "<Figure size 1440x1440 with 25 Axes>"
            ]
          },
          "metadata": {
            "tags": [],
            "needs_background": "light"
          }
        }
      ]
    },
    {
      "cell_type": "code",
      "metadata": {
        "id": "qhWC2_9iCLf7"
      },
      "source": [
        "# Let's drop the ID column\n",
        "creditcard_df.drop(['ID'], axis=1, inplace=True)"
      ],
      "execution_count": null,
      "outputs": []
    },
    {
      "cell_type": "code",
      "metadata": {
        "id": "kEydThfXDTiD",
        "colab": {
          "base_uri": "https://localhost:8080/",
          "height": 422
        },
        "outputId": "cd0f54e6-43f1-4f92-adce-cb66901a7782"
      },
      "source": [
        "creditcard_df"
      ],
      "execution_count": null,
      "outputs": [
        {
          "output_type": "execute_result",
          "data": {
            "text/html": [
              "<div>\n",
              "<style scoped>\n",
              "    .dataframe tbody tr th:only-of-type {\n",
              "        vertical-align: middle;\n",
              "    }\n",
              "\n",
              "    .dataframe tbody tr th {\n",
              "        vertical-align: top;\n",
              "    }\n",
              "\n",
              "    .dataframe thead th {\n",
              "        text-align: right;\n",
              "    }\n",
              "</style>\n",
              "<table border=\"1\" class=\"dataframe\">\n",
              "  <thead>\n",
              "    <tr style=\"text-align: right;\">\n",
              "      <th></th>\n",
              "      <th>LIMIT_BAL</th>\n",
              "      <th>SEX</th>\n",
              "      <th>EDUCATION</th>\n",
              "      <th>MARRIAGE</th>\n",
              "      <th>AGE</th>\n",
              "      <th>PAY_0</th>\n",
              "      <th>PAY_2</th>\n",
              "      <th>PAY_3</th>\n",
              "      <th>PAY_4</th>\n",
              "      <th>PAY_5</th>\n",
              "      <th>PAY_6</th>\n",
              "      <th>BILL_AMT1</th>\n",
              "      <th>BILL_AMT2</th>\n",
              "      <th>BILL_AMT3</th>\n",
              "      <th>BILL_AMT4</th>\n",
              "      <th>BILL_AMT5</th>\n",
              "      <th>BILL_AMT6</th>\n",
              "      <th>PAY_AMT1</th>\n",
              "      <th>PAY_AMT2</th>\n",
              "      <th>PAY_AMT3</th>\n",
              "      <th>PAY_AMT4</th>\n",
              "      <th>PAY_AMT5</th>\n",
              "      <th>PAY_AMT6</th>\n",
              "      <th>default.payment.next.month</th>\n",
              "    </tr>\n",
              "  </thead>\n",
              "  <tbody>\n",
              "    <tr>\n",
              "      <th>0</th>\n",
              "      <td>20000.0</td>\n",
              "      <td>2</td>\n",
              "      <td>2</td>\n",
              "      <td>1</td>\n",
              "      <td>24</td>\n",
              "      <td>2</td>\n",
              "      <td>2</td>\n",
              "      <td>-1</td>\n",
              "      <td>-1</td>\n",
              "      <td>-2</td>\n",
              "      <td>-2</td>\n",
              "      <td>3913.0</td>\n",
              "      <td>3102.0</td>\n",
              "      <td>689.0</td>\n",
              "      <td>0.0</td>\n",
              "      <td>0.0</td>\n",
              "      <td>0.0</td>\n",
              "      <td>0.0</td>\n",
              "      <td>689.0</td>\n",
              "      <td>0.0</td>\n",
              "      <td>0.0</td>\n",
              "      <td>0.0</td>\n",
              "      <td>0.0</td>\n",
              "      <td>1</td>\n",
              "    </tr>\n",
              "    <tr>\n",
              "      <th>1</th>\n",
              "      <td>120000.0</td>\n",
              "      <td>2</td>\n",
              "      <td>2</td>\n",
              "      <td>2</td>\n",
              "      <td>26</td>\n",
              "      <td>-1</td>\n",
              "      <td>2</td>\n",
              "      <td>0</td>\n",
              "      <td>0</td>\n",
              "      <td>0</td>\n",
              "      <td>2</td>\n",
              "      <td>2682.0</td>\n",
              "      <td>1725.0</td>\n",
              "      <td>2682.0</td>\n",
              "      <td>3272.0</td>\n",
              "      <td>3455.0</td>\n",
              "      <td>3261.0</td>\n",
              "      <td>0.0</td>\n",
              "      <td>1000.0</td>\n",
              "      <td>1000.0</td>\n",
              "      <td>1000.0</td>\n",
              "      <td>0.0</td>\n",
              "      <td>2000.0</td>\n",
              "      <td>1</td>\n",
              "    </tr>\n",
              "    <tr>\n",
              "      <th>2</th>\n",
              "      <td>90000.0</td>\n",
              "      <td>2</td>\n",
              "      <td>2</td>\n",
              "      <td>2</td>\n",
              "      <td>34</td>\n",
              "      <td>0</td>\n",
              "      <td>0</td>\n",
              "      <td>0</td>\n",
              "      <td>0</td>\n",
              "      <td>0</td>\n",
              "      <td>0</td>\n",
              "      <td>29239.0</td>\n",
              "      <td>14027.0</td>\n",
              "      <td>13559.0</td>\n",
              "      <td>14331.0</td>\n",
              "      <td>14948.0</td>\n",
              "      <td>15549.0</td>\n",
              "      <td>1518.0</td>\n",
              "      <td>1500.0</td>\n",
              "      <td>1000.0</td>\n",
              "      <td>1000.0</td>\n",
              "      <td>1000.0</td>\n",
              "      <td>5000.0</td>\n",
              "      <td>0</td>\n",
              "    </tr>\n",
              "    <tr>\n",
              "      <th>3</th>\n",
              "      <td>50000.0</td>\n",
              "      <td>2</td>\n",
              "      <td>2</td>\n",
              "      <td>1</td>\n",
              "      <td>37</td>\n",
              "      <td>0</td>\n",
              "      <td>0</td>\n",
              "      <td>0</td>\n",
              "      <td>0</td>\n",
              "      <td>0</td>\n",
              "      <td>0</td>\n",
              "      <td>46990.0</td>\n",
              "      <td>48233.0</td>\n",
              "      <td>49291.0</td>\n",
              "      <td>28314.0</td>\n",
              "      <td>28959.0</td>\n",
              "      <td>29547.0</td>\n",
              "      <td>2000.0</td>\n",
              "      <td>2019.0</td>\n",
              "      <td>1200.0</td>\n",
              "      <td>1100.0</td>\n",
              "      <td>1069.0</td>\n",
              "      <td>1000.0</td>\n",
              "      <td>0</td>\n",
              "    </tr>\n",
              "    <tr>\n",
              "      <th>4</th>\n",
              "      <td>50000.0</td>\n",
              "      <td>1</td>\n",
              "      <td>2</td>\n",
              "      <td>1</td>\n",
              "      <td>57</td>\n",
              "      <td>-1</td>\n",
              "      <td>0</td>\n",
              "      <td>-1</td>\n",
              "      <td>0</td>\n",
              "      <td>0</td>\n",
              "      <td>0</td>\n",
              "      <td>8617.0</td>\n",
              "      <td>5670.0</td>\n",
              "      <td>35835.0</td>\n",
              "      <td>20940.0</td>\n",
              "      <td>19146.0</td>\n",
              "      <td>19131.0</td>\n",
              "      <td>2000.0</td>\n",
              "      <td>36681.0</td>\n",
              "      <td>10000.0</td>\n",
              "      <td>9000.0</td>\n",
              "      <td>689.0</td>\n",
              "      <td>679.0</td>\n",
              "      <td>0</td>\n",
              "    </tr>\n",
              "    <tr>\n",
              "      <th>...</th>\n",
              "      <td>...</td>\n",
              "      <td>...</td>\n",
              "      <td>...</td>\n",
              "      <td>...</td>\n",
              "      <td>...</td>\n",
              "      <td>...</td>\n",
              "      <td>...</td>\n",
              "      <td>...</td>\n",
              "      <td>...</td>\n",
              "      <td>...</td>\n",
              "      <td>...</td>\n",
              "      <td>...</td>\n",
              "      <td>...</td>\n",
              "      <td>...</td>\n",
              "      <td>...</td>\n",
              "      <td>...</td>\n",
              "      <td>...</td>\n",
              "      <td>...</td>\n",
              "      <td>...</td>\n",
              "      <td>...</td>\n",
              "      <td>...</td>\n",
              "      <td>...</td>\n",
              "      <td>...</td>\n",
              "      <td>...</td>\n",
              "    </tr>\n",
              "    <tr>\n",
              "      <th>29995</th>\n",
              "      <td>220000.0</td>\n",
              "      <td>1</td>\n",
              "      <td>3</td>\n",
              "      <td>1</td>\n",
              "      <td>39</td>\n",
              "      <td>0</td>\n",
              "      <td>0</td>\n",
              "      <td>0</td>\n",
              "      <td>0</td>\n",
              "      <td>0</td>\n",
              "      <td>0</td>\n",
              "      <td>188948.0</td>\n",
              "      <td>192815.0</td>\n",
              "      <td>208365.0</td>\n",
              "      <td>88004.0</td>\n",
              "      <td>31237.0</td>\n",
              "      <td>15980.0</td>\n",
              "      <td>8500.0</td>\n",
              "      <td>20000.0</td>\n",
              "      <td>5003.0</td>\n",
              "      <td>3047.0</td>\n",
              "      <td>5000.0</td>\n",
              "      <td>1000.0</td>\n",
              "      <td>0</td>\n",
              "    </tr>\n",
              "    <tr>\n",
              "      <th>29996</th>\n",
              "      <td>150000.0</td>\n",
              "      <td>1</td>\n",
              "      <td>3</td>\n",
              "      <td>2</td>\n",
              "      <td>43</td>\n",
              "      <td>-1</td>\n",
              "      <td>-1</td>\n",
              "      <td>-1</td>\n",
              "      <td>-1</td>\n",
              "      <td>0</td>\n",
              "      <td>0</td>\n",
              "      <td>1683.0</td>\n",
              "      <td>1828.0</td>\n",
              "      <td>3502.0</td>\n",
              "      <td>8979.0</td>\n",
              "      <td>5190.0</td>\n",
              "      <td>0.0</td>\n",
              "      <td>1837.0</td>\n",
              "      <td>3526.0</td>\n",
              "      <td>8998.0</td>\n",
              "      <td>129.0</td>\n",
              "      <td>0.0</td>\n",
              "      <td>0.0</td>\n",
              "      <td>0</td>\n",
              "    </tr>\n",
              "    <tr>\n",
              "      <th>29997</th>\n",
              "      <td>30000.0</td>\n",
              "      <td>1</td>\n",
              "      <td>2</td>\n",
              "      <td>2</td>\n",
              "      <td>37</td>\n",
              "      <td>4</td>\n",
              "      <td>3</td>\n",
              "      <td>2</td>\n",
              "      <td>-1</td>\n",
              "      <td>0</td>\n",
              "      <td>0</td>\n",
              "      <td>3565.0</td>\n",
              "      <td>3356.0</td>\n",
              "      <td>2758.0</td>\n",
              "      <td>20878.0</td>\n",
              "      <td>20582.0</td>\n",
              "      <td>19357.0</td>\n",
              "      <td>0.0</td>\n",
              "      <td>0.0</td>\n",
              "      <td>22000.0</td>\n",
              "      <td>4200.0</td>\n",
              "      <td>2000.0</td>\n",
              "      <td>3100.0</td>\n",
              "      <td>1</td>\n",
              "    </tr>\n",
              "    <tr>\n",
              "      <th>29998</th>\n",
              "      <td>80000.0</td>\n",
              "      <td>1</td>\n",
              "      <td>3</td>\n",
              "      <td>1</td>\n",
              "      <td>41</td>\n",
              "      <td>1</td>\n",
              "      <td>-1</td>\n",
              "      <td>0</td>\n",
              "      <td>0</td>\n",
              "      <td>0</td>\n",
              "      <td>-1</td>\n",
              "      <td>-1645.0</td>\n",
              "      <td>78379.0</td>\n",
              "      <td>76304.0</td>\n",
              "      <td>52774.0</td>\n",
              "      <td>11855.0</td>\n",
              "      <td>48944.0</td>\n",
              "      <td>85900.0</td>\n",
              "      <td>3409.0</td>\n",
              "      <td>1178.0</td>\n",
              "      <td>1926.0</td>\n",
              "      <td>52964.0</td>\n",
              "      <td>1804.0</td>\n",
              "      <td>1</td>\n",
              "    </tr>\n",
              "    <tr>\n",
              "      <th>29999</th>\n",
              "      <td>50000.0</td>\n",
              "      <td>1</td>\n",
              "      <td>2</td>\n",
              "      <td>1</td>\n",
              "      <td>46</td>\n",
              "      <td>0</td>\n",
              "      <td>0</td>\n",
              "      <td>0</td>\n",
              "      <td>0</td>\n",
              "      <td>0</td>\n",
              "      <td>0</td>\n",
              "      <td>47929.0</td>\n",
              "      <td>48905.0</td>\n",
              "      <td>49764.0</td>\n",
              "      <td>36535.0</td>\n",
              "      <td>32428.0</td>\n",
              "      <td>15313.0</td>\n",
              "      <td>2078.0</td>\n",
              "      <td>1800.0</td>\n",
              "      <td>1430.0</td>\n",
              "      <td>1000.0</td>\n",
              "      <td>1000.0</td>\n",
              "      <td>1000.0</td>\n",
              "      <td>1</td>\n",
              "    </tr>\n",
              "  </tbody>\n",
              "</table>\n",
              "<p>30000 rows × 24 columns</p>\n",
              "</div>"
            ],
            "text/plain": [
              "       LIMIT_BAL  SEX  ...  PAY_AMT6  default.payment.next.month\n",
              "0        20000.0    2  ...       0.0                           1\n",
              "1       120000.0    2  ...    2000.0                           1\n",
              "2        90000.0    2  ...    5000.0                           0\n",
              "3        50000.0    2  ...    1000.0                           0\n",
              "4        50000.0    1  ...     679.0                           0\n",
              "...          ...  ...  ...       ...                         ...\n",
              "29995   220000.0    1  ...    1000.0                           0\n",
              "29996   150000.0    1  ...       0.0                           0\n",
              "29997    30000.0    1  ...    3100.0                           1\n",
              "29998    80000.0    1  ...    1804.0                           1\n",
              "29999    50000.0    1  ...    1000.0                           1\n",
              "\n",
              "[30000 rows x 24 columns]"
            ]
          },
          "metadata": {
            "tags": []
          },
          "execution_count": 38
        }
      ]
    },
    {
      "cell_type": "code",
      "metadata": {
        "id": "F08VjkV1DWMl"
      },
      "source": [
        "# Let's see how many customers could potentially default on their credit card payment! \n",
        "cc_default_df        = creditcard_df[creditcard_df['default.payment.next.month'] == 1]\n",
        "cc_nodefault_df      = creditcard_df[creditcard_df['default.payment.next.month'] == 0]\n"
      ],
      "execution_count": null,
      "outputs": []
    },
    {
      "cell_type": "code",
      "metadata": {
        "id": "0vPf2N3FDt8B",
        "colab": {
          "base_uri": "https://localhost:8080/",
          "height": 101
        },
        "outputId": "58c0d88b-cf56-4c53-a636-0fb373c48f29"
      },
      "source": [
        "# Count the number of employees who stayed and left\n",
        "# It seems that we are dealing with an imbalanced dataset \n",
        "\n",
        "print(\"Total =\", len(creditcard_df))\n",
        "\n",
        "print(\"Number of customers who defaulted on their credit card payments =\", len(cc_default_df))\n",
        "print(\"Percentage of customers who defaulted on their credit card payments =\", 1.*len(cc_default_df)/len(creditcard_df)*100.0, \"%\")\n",
        " \n",
        "print(\"Number of customers who did not default on their credit card payments (paid their balance)=\", len(cc_nodefault_df))\n",
        "print(\"Percentage of customers who did not default on their credit card payments (paid their balance)=\", 1.*len(cc_nodefault_df)/len(creditcard_df)*100.0, \"%\")"
      ],
      "execution_count": null,
      "outputs": [
        {
          "output_type": "stream",
          "text": [
            "Total = 30000\n",
            "Number of customers who defaulted on their credit card payments = 6636\n",
            "Percentage of customers who defaulted on their credit card payments = 22.12 %\n",
            "Number of customers who did not default on their credit card payments (paid their balance)= 23364\n",
            "Percentage of customers who did not default on their credit card payments (paid their balance)= 77.88000000000001 %\n"
          ],
          "name": "stdout"
        }
      ]
    },
    {
      "cell_type": "code",
      "metadata": {
        "id": "8nyqOjAfEMlP",
        "colab": {
          "base_uri": "https://localhost:8080/",
          "height": 304
        },
        "outputId": "2d34979c-50a0-4fe9-cddd-20125e41a106"
      },
      "source": [
        "# Let's compare the mean and std of the customers who stayed and left \n",
        "cc_default_df.describe()"
      ],
      "execution_count": null,
      "outputs": [
        {
          "output_type": "execute_result",
          "data": {
            "text/html": [
              "<div>\n",
              "<style scoped>\n",
              "    .dataframe tbody tr th:only-of-type {\n",
              "        vertical-align: middle;\n",
              "    }\n",
              "\n",
              "    .dataframe tbody tr th {\n",
              "        vertical-align: top;\n",
              "    }\n",
              "\n",
              "    .dataframe thead th {\n",
              "        text-align: right;\n",
              "    }\n",
              "</style>\n",
              "<table border=\"1\" class=\"dataframe\">\n",
              "  <thead>\n",
              "    <tr style=\"text-align: right;\">\n",
              "      <th></th>\n",
              "      <th>LIMIT_BAL</th>\n",
              "      <th>SEX</th>\n",
              "      <th>EDUCATION</th>\n",
              "      <th>MARRIAGE</th>\n",
              "      <th>AGE</th>\n",
              "      <th>PAY_0</th>\n",
              "      <th>PAY_2</th>\n",
              "      <th>PAY_3</th>\n",
              "      <th>PAY_4</th>\n",
              "      <th>PAY_5</th>\n",
              "      <th>PAY_6</th>\n",
              "      <th>BILL_AMT1</th>\n",
              "      <th>BILL_AMT2</th>\n",
              "      <th>BILL_AMT3</th>\n",
              "      <th>BILL_AMT4</th>\n",
              "      <th>BILL_AMT5</th>\n",
              "      <th>BILL_AMT6</th>\n",
              "      <th>PAY_AMT1</th>\n",
              "      <th>PAY_AMT2</th>\n",
              "      <th>PAY_AMT3</th>\n",
              "      <th>PAY_AMT4</th>\n",
              "      <th>PAY_AMT5</th>\n",
              "      <th>PAY_AMT6</th>\n",
              "      <th>default.payment.next.month</th>\n",
              "    </tr>\n",
              "  </thead>\n",
              "  <tbody>\n",
              "    <tr>\n",
              "      <th>count</th>\n",
              "      <td>6636.000000</td>\n",
              "      <td>6636.000000</td>\n",
              "      <td>6636.000000</td>\n",
              "      <td>6636.000000</td>\n",
              "      <td>6636.000000</td>\n",
              "      <td>6636.000000</td>\n",
              "      <td>6636.000000</td>\n",
              "      <td>6636.000000</td>\n",
              "      <td>6636.000000</td>\n",
              "      <td>6636.000000</td>\n",
              "      <td>6636.000000</td>\n",
              "      <td>6636.000000</td>\n",
              "      <td>6636.000000</td>\n",
              "      <td>6636.000000</td>\n",
              "      <td>6636.000000</td>\n",
              "      <td>6636.000000</td>\n",
              "      <td>6636.000000</td>\n",
              "      <td>6636.000000</td>\n",
              "      <td>6636.000000</td>\n",
              "      <td>6636.000000</td>\n",
              "      <td>6636.000000</td>\n",
              "      <td>6636.000000</td>\n",
              "      <td>6636.000000</td>\n",
              "      <td>6636.0</td>\n",
              "    </tr>\n",
              "    <tr>\n",
              "      <th>mean</th>\n",
              "      <td>130109.656420</td>\n",
              "      <td>1.567058</td>\n",
              "      <td>1.894665</td>\n",
              "      <td>1.528029</td>\n",
              "      <td>35.725738</td>\n",
              "      <td>0.668174</td>\n",
              "      <td>0.458258</td>\n",
              "      <td>0.362116</td>\n",
              "      <td>0.254521</td>\n",
              "      <td>0.167872</td>\n",
              "      <td>0.112116</td>\n",
              "      <td>48509.162297</td>\n",
              "      <td>47283.617842</td>\n",
              "      <td>45181.598855</td>\n",
              "      <td>42036.950573</td>\n",
              "      <td>39540.190476</td>\n",
              "      <td>38271.435503</td>\n",
              "      <td>3397.044153</td>\n",
              "      <td>3388.649638</td>\n",
              "      <td>3367.351567</td>\n",
              "      <td>3155.626733</td>\n",
              "      <td>3219.139542</td>\n",
              "      <td>3441.482068</td>\n",
              "      <td>1.0</td>\n",
              "    </tr>\n",
              "    <tr>\n",
              "      <th>std</th>\n",
              "      <td>115378.540571</td>\n",
              "      <td>0.495520</td>\n",
              "      <td>0.728096</td>\n",
              "      <td>0.525433</td>\n",
              "      <td>9.693438</td>\n",
              "      <td>1.383252</td>\n",
              "      <td>1.502243</td>\n",
              "      <td>1.499401</td>\n",
              "      <td>1.508535</td>\n",
              "      <td>1.482833</td>\n",
              "      <td>1.485757</td>\n",
              "      <td>73782.067220</td>\n",
              "      <td>71651.030364</td>\n",
              "      <td>68516.975738</td>\n",
              "      <td>64351.076092</td>\n",
              "      <td>61424.695949</td>\n",
              "      <td>59579.674268</td>\n",
              "      <td>9544.252427</td>\n",
              "      <td>11737.986064</td>\n",
              "      <td>12959.624486</td>\n",
              "      <td>11191.973162</td>\n",
              "      <td>11944.731175</td>\n",
              "      <td>13464.005894</td>\n",
              "      <td>0.0</td>\n",
              "    </tr>\n",
              "    <tr>\n",
              "      <th>min</th>\n",
              "      <td>10000.000000</td>\n",
              "      <td>1.000000</td>\n",
              "      <td>1.000000</td>\n",
              "      <td>0.000000</td>\n",
              "      <td>21.000000</td>\n",
              "      <td>-2.000000</td>\n",
              "      <td>-2.000000</td>\n",
              "      <td>-2.000000</td>\n",
              "      <td>-2.000000</td>\n",
              "      <td>-2.000000</td>\n",
              "      <td>-2.000000</td>\n",
              "      <td>-6676.000000</td>\n",
              "      <td>-17710.000000</td>\n",
              "      <td>-61506.000000</td>\n",
              "      <td>-65167.000000</td>\n",
              "      <td>-53007.000000</td>\n",
              "      <td>-339603.000000</td>\n",
              "      <td>0.000000</td>\n",
              "      <td>0.000000</td>\n",
              "      <td>0.000000</td>\n",
              "      <td>0.000000</td>\n",
              "      <td>0.000000</td>\n",
              "      <td>0.000000</td>\n",
              "      <td>1.0</td>\n",
              "    </tr>\n",
              "    <tr>\n",
              "      <th>25%</th>\n",
              "      <td>50000.000000</td>\n",
              "      <td>1.000000</td>\n",
              "      <td>1.000000</td>\n",
              "      <td>1.000000</td>\n",
              "      <td>28.000000</td>\n",
              "      <td>0.000000</td>\n",
              "      <td>0.000000</td>\n",
              "      <td>-1.000000</td>\n",
              "      <td>-1.000000</td>\n",
              "      <td>-1.000000</td>\n",
              "      <td>-1.000000</td>\n",
              "      <td>2987.750000</td>\n",
              "      <td>2694.000000</td>\n",
              "      <td>2500.000000</td>\n",
              "      <td>2141.500000</td>\n",
              "      <td>1502.750000</td>\n",
              "      <td>1150.000000</td>\n",
              "      <td>0.000000</td>\n",
              "      <td>0.000000</td>\n",
              "      <td>0.000000</td>\n",
              "      <td>0.000000</td>\n",
              "      <td>0.000000</td>\n",
              "      <td>0.000000</td>\n",
              "      <td>1.0</td>\n",
              "    </tr>\n",
              "    <tr>\n",
              "      <th>50%</th>\n",
              "      <td>90000.000000</td>\n",
              "      <td>2.000000</td>\n",
              "      <td>2.000000</td>\n",
              "      <td>2.000000</td>\n",
              "      <td>34.000000</td>\n",
              "      <td>1.000000</td>\n",
              "      <td>0.000000</td>\n",
              "      <td>0.000000</td>\n",
              "      <td>0.000000</td>\n",
              "      <td>0.000000</td>\n",
              "      <td>0.000000</td>\n",
              "      <td>20185.000000</td>\n",
              "      <td>20300.500000</td>\n",
              "      <td>19834.500000</td>\n",
              "      <td>19119.500000</td>\n",
              "      <td>18478.500000</td>\n",
              "      <td>18028.500000</td>\n",
              "      <td>1636.000000</td>\n",
              "      <td>1533.500000</td>\n",
              "      <td>1222.000000</td>\n",
              "      <td>1000.000000</td>\n",
              "      <td>1000.000000</td>\n",
              "      <td>1000.000000</td>\n",
              "      <td>1.0</td>\n",
              "    </tr>\n",
              "    <tr>\n",
              "      <th>75%</th>\n",
              "      <td>200000.000000</td>\n",
              "      <td>2.000000</td>\n",
              "      <td>2.000000</td>\n",
              "      <td>2.000000</td>\n",
              "      <td>42.000000</td>\n",
              "      <td>2.000000</td>\n",
              "      <td>2.000000</td>\n",
              "      <td>2.000000</td>\n",
              "      <td>2.000000</td>\n",
              "      <td>0.000000</td>\n",
              "      <td>0.000000</td>\n",
              "      <td>59626.500000</td>\n",
              "      <td>57919.750000</td>\n",
              "      <td>54733.750000</td>\n",
              "      <td>50175.750000</td>\n",
              "      <td>47853.000000</td>\n",
              "      <td>47424.000000</td>\n",
              "      <td>3478.250000</td>\n",
              "      <td>3309.750000</td>\n",
              "      <td>3000.000000</td>\n",
              "      <td>2939.250000</td>\n",
              "      <td>3000.000000</td>\n",
              "      <td>2974.500000</td>\n",
              "      <td>1.0</td>\n",
              "    </tr>\n",
              "    <tr>\n",
              "      <th>max</th>\n",
              "      <td>740000.000000</td>\n",
              "      <td>2.000000</td>\n",
              "      <td>6.000000</td>\n",
              "      <td>3.000000</td>\n",
              "      <td>75.000000</td>\n",
              "      <td>8.000000</td>\n",
              "      <td>7.000000</td>\n",
              "      <td>8.000000</td>\n",
              "      <td>8.000000</td>\n",
              "      <td>8.000000</td>\n",
              "      <td>8.000000</td>\n",
              "      <td>613860.000000</td>\n",
              "      <td>581775.000000</td>\n",
              "      <td>578971.000000</td>\n",
              "      <td>548020.000000</td>\n",
              "      <td>547880.000000</td>\n",
              "      <td>514975.000000</td>\n",
              "      <td>300000.000000</td>\n",
              "      <td>358689.000000</td>\n",
              "      <td>508229.000000</td>\n",
              "      <td>432130.000000</td>\n",
              "      <td>332000.000000</td>\n",
              "      <td>345293.000000</td>\n",
              "      <td>1.0</td>\n",
              "    </tr>\n",
              "  </tbody>\n",
              "</table>\n",
              "</div>"
            ],
            "text/plain": [
              "           LIMIT_BAL          SEX  ...       PAY_AMT6  default.payment.next.month\n",
              "count    6636.000000  6636.000000  ...    6636.000000                      6636.0\n",
              "mean   130109.656420     1.567058  ...    3441.482068                         1.0\n",
              "std    115378.540571     0.495520  ...   13464.005894                         0.0\n",
              "min     10000.000000     1.000000  ...       0.000000                         1.0\n",
              "25%     50000.000000     1.000000  ...       0.000000                         1.0\n",
              "50%     90000.000000     2.000000  ...    1000.000000                         1.0\n",
              "75%    200000.000000     2.000000  ...    2974.500000                         1.0\n",
              "max    740000.000000     2.000000  ...  345293.000000                         1.0\n",
              "\n",
              "[8 rows x 24 columns]"
            ]
          },
          "metadata": {
            "tags": []
          },
          "execution_count": 43
        }
      ]
    },
    {
      "cell_type": "code",
      "metadata": {
        "id": "wnHJpRmfEs_O",
        "colab": {
          "base_uri": "https://localhost:8080/",
          "height": 304
        },
        "outputId": "df3b3d0e-f1b4-4d38-c638-36c0284a1695"
      },
      "source": [
        "# Let's compare the mean and std of the customers who stayed and left \n",
        "cc_nodefault_df.describe()"
      ],
      "execution_count": null,
      "outputs": [
        {
          "output_type": "execute_result",
          "data": {
            "text/html": [
              "<div>\n",
              "<style scoped>\n",
              "    .dataframe tbody tr th:only-of-type {\n",
              "        vertical-align: middle;\n",
              "    }\n",
              "\n",
              "    .dataframe tbody tr th {\n",
              "        vertical-align: top;\n",
              "    }\n",
              "\n",
              "    .dataframe thead th {\n",
              "        text-align: right;\n",
              "    }\n",
              "</style>\n",
              "<table border=\"1\" class=\"dataframe\">\n",
              "  <thead>\n",
              "    <tr style=\"text-align: right;\">\n",
              "      <th></th>\n",
              "      <th>LIMIT_BAL</th>\n",
              "      <th>SEX</th>\n",
              "      <th>EDUCATION</th>\n",
              "      <th>MARRIAGE</th>\n",
              "      <th>AGE</th>\n",
              "      <th>PAY_0</th>\n",
              "      <th>PAY_2</th>\n",
              "      <th>PAY_3</th>\n",
              "      <th>PAY_4</th>\n",
              "      <th>PAY_5</th>\n",
              "      <th>PAY_6</th>\n",
              "      <th>BILL_AMT1</th>\n",
              "      <th>BILL_AMT2</th>\n",
              "      <th>BILL_AMT3</th>\n",
              "      <th>BILL_AMT4</th>\n",
              "      <th>BILL_AMT5</th>\n",
              "      <th>BILL_AMT6</th>\n",
              "      <th>PAY_AMT1</th>\n",
              "      <th>PAY_AMT2</th>\n",
              "      <th>PAY_AMT3</th>\n",
              "      <th>PAY_AMT4</th>\n",
              "      <th>PAY_AMT5</th>\n",
              "      <th>PAY_AMT6</th>\n",
              "      <th>default.payment.next.month</th>\n",
              "    </tr>\n",
              "  </thead>\n",
              "  <tbody>\n",
              "    <tr>\n",
              "      <th>count</th>\n",
              "      <td>23364.000000</td>\n",
              "      <td>23364.000000</td>\n",
              "      <td>23364.000000</td>\n",
              "      <td>23364.000000</td>\n",
              "      <td>23364.000000</td>\n",
              "      <td>23364.000000</td>\n",
              "      <td>23364.000000</td>\n",
              "      <td>23364.000000</td>\n",
              "      <td>23364.000000</td>\n",
              "      <td>23364.000000</td>\n",
              "      <td>23364.000000</td>\n",
              "      <td>23364.000000</td>\n",
              "      <td>23364.000000</td>\n",
              "      <td>2.336400e+04</td>\n",
              "      <td>23364.000000</td>\n",
              "      <td>23364.000000</td>\n",
              "      <td>23364.000000</td>\n",
              "      <td>23364.000000</td>\n",
              "      <td>2.336400e+04</td>\n",
              "      <td>23364.000000</td>\n",
              "      <td>23364.000000</td>\n",
              "      <td>23364.000000</td>\n",
              "      <td>23364.000000</td>\n",
              "      <td>23364.0</td>\n",
              "    </tr>\n",
              "    <tr>\n",
              "      <th>mean</th>\n",
              "      <td>178099.726074</td>\n",
              "      <td>1.614150</td>\n",
              "      <td>1.841337</td>\n",
              "      <td>1.558637</td>\n",
              "      <td>35.417266</td>\n",
              "      <td>-0.211222</td>\n",
              "      <td>-0.301917</td>\n",
              "      <td>-0.316256</td>\n",
              "      <td>-0.355633</td>\n",
              "      <td>-0.389488</td>\n",
              "      <td>-0.405624</td>\n",
              "      <td>51994.227273</td>\n",
              "      <td>49717.435670</td>\n",
              "      <td>4.753337e+04</td>\n",
              "      <td>43611.165254</td>\n",
              "      <td>40530.445343</td>\n",
              "      <td>39042.268704</td>\n",
              "      <td>6307.337357</td>\n",
              "      <td>6.640465e+03</td>\n",
              "      <td>5753.496833</td>\n",
              "      <td>5300.529319</td>\n",
              "      <td>5248.220296</td>\n",
              "      <td>5719.371769</td>\n",
              "      <td>0.0</td>\n",
              "    </tr>\n",
              "    <tr>\n",
              "      <th>std</th>\n",
              "      <td>131628.359660</td>\n",
              "      <td>0.486806</td>\n",
              "      <td>0.806780</td>\n",
              "      <td>0.520794</td>\n",
              "      <td>9.077355</td>\n",
              "      <td>0.952464</td>\n",
              "      <td>1.035191</td>\n",
              "      <td>1.048378</td>\n",
              "      <td>1.013162</td>\n",
              "      <td>0.977591</td>\n",
              "      <td>1.005930</td>\n",
              "      <td>73577.606694</td>\n",
              "      <td>71029.946709</td>\n",
              "      <td>6.957666e+04</td>\n",
              "      <td>64324.796730</td>\n",
              "      <td>60617.268112</td>\n",
              "      <td>59547.015717</td>\n",
              "      <td>18014.508990</td>\n",
              "      <td>2.530226e+04</td>\n",
              "      <td>18684.255937</td>\n",
              "      <td>16689.778060</td>\n",
              "      <td>16071.667860</td>\n",
              "      <td>18792.950473</td>\n",
              "      <td>0.0</td>\n",
              "    </tr>\n",
              "    <tr>\n",
              "      <th>min</th>\n",
              "      <td>10000.000000</td>\n",
              "      <td>1.000000</td>\n",
              "      <td>0.000000</td>\n",
              "      <td>0.000000</td>\n",
              "      <td>21.000000</td>\n",
              "      <td>-2.000000</td>\n",
              "      <td>-2.000000</td>\n",
              "      <td>-2.000000</td>\n",
              "      <td>-2.000000</td>\n",
              "      <td>-2.000000</td>\n",
              "      <td>-2.000000</td>\n",
              "      <td>-165580.000000</td>\n",
              "      <td>-69777.000000</td>\n",
              "      <td>-1.572640e+05</td>\n",
              "      <td>-170000.000000</td>\n",
              "      <td>-81334.000000</td>\n",
              "      <td>-209051.000000</td>\n",
              "      <td>0.000000</td>\n",
              "      <td>0.000000e+00</td>\n",
              "      <td>0.000000</td>\n",
              "      <td>0.000000</td>\n",
              "      <td>0.000000</td>\n",
              "      <td>0.000000</td>\n",
              "      <td>0.0</td>\n",
              "    </tr>\n",
              "    <tr>\n",
              "      <th>25%</th>\n",
              "      <td>70000.000000</td>\n",
              "      <td>1.000000</td>\n",
              "      <td>1.000000</td>\n",
              "      <td>1.000000</td>\n",
              "      <td>28.000000</td>\n",
              "      <td>-1.000000</td>\n",
              "      <td>-1.000000</td>\n",
              "      <td>-1.000000</td>\n",
              "      <td>-1.000000</td>\n",
              "      <td>-1.000000</td>\n",
              "      <td>-1.000000</td>\n",
              "      <td>3677.250000</td>\n",
              "      <td>3055.000000</td>\n",
              "      <td>2.769750e+03</td>\n",
              "      <td>2360.000000</td>\n",
              "      <td>1823.000000</td>\n",
              "      <td>1265.500000</td>\n",
              "      <td>1163.750000</td>\n",
              "      <td>1.005000e+03</td>\n",
              "      <td>600.000000</td>\n",
              "      <td>390.000000</td>\n",
              "      <td>369.000000</td>\n",
              "      <td>300.000000</td>\n",
              "      <td>0.0</td>\n",
              "    </tr>\n",
              "    <tr>\n",
              "      <th>50%</th>\n",
              "      <td>150000.000000</td>\n",
              "      <td>2.000000</td>\n",
              "      <td>2.000000</td>\n",
              "      <td>2.000000</td>\n",
              "      <td>34.000000</td>\n",
              "      <td>0.000000</td>\n",
              "      <td>0.000000</td>\n",
              "      <td>0.000000</td>\n",
              "      <td>0.000000</td>\n",
              "      <td>0.000000</td>\n",
              "      <td>0.000000</td>\n",
              "      <td>23119.500000</td>\n",
              "      <td>21660.500000</td>\n",
              "      <td>2.020250e+04</td>\n",
              "      <td>19000.000000</td>\n",
              "      <td>17998.000000</td>\n",
              "      <td>16679.000000</td>\n",
              "      <td>2459.500000</td>\n",
              "      <td>2.247500e+03</td>\n",
              "      <td>2000.000000</td>\n",
              "      <td>1734.000000</td>\n",
              "      <td>1765.000000</td>\n",
              "      <td>1706.000000</td>\n",
              "      <td>0.0</td>\n",
              "    </tr>\n",
              "    <tr>\n",
              "      <th>75%</th>\n",
              "      <td>250000.000000</td>\n",
              "      <td>2.000000</td>\n",
              "      <td>2.000000</td>\n",
              "      <td>2.000000</td>\n",
              "      <td>41.000000</td>\n",
              "      <td>0.000000</td>\n",
              "      <td>0.000000</td>\n",
              "      <td>0.000000</td>\n",
              "      <td>0.000000</td>\n",
              "      <td>0.000000</td>\n",
              "      <td>0.000000</td>\n",
              "      <td>69027.000000</td>\n",
              "      <td>65686.000000</td>\n",
              "      <td>6.189400e+04</td>\n",
              "      <td>55988.000000</td>\n",
              "      <td>51135.250000</td>\n",
              "      <td>49842.500000</td>\n",
              "      <td>5606.250000</td>\n",
              "      <td>5.311250e+03</td>\n",
              "      <td>5000.000000</td>\n",
              "      <td>4602.000000</td>\n",
              "      <td>4600.000000</td>\n",
              "      <td>4545.000000</td>\n",
              "      <td>0.0</td>\n",
              "    </tr>\n",
              "    <tr>\n",
              "      <th>max</th>\n",
              "      <td>1000000.000000</td>\n",
              "      <td>2.000000</td>\n",
              "      <td>6.000000</td>\n",
              "      <td>3.000000</td>\n",
              "      <td>79.000000</td>\n",
              "      <td>8.000000</td>\n",
              "      <td>8.000000</td>\n",
              "      <td>8.000000</td>\n",
              "      <td>8.000000</td>\n",
              "      <td>7.000000</td>\n",
              "      <td>7.000000</td>\n",
              "      <td>964511.000000</td>\n",
              "      <td>983931.000000</td>\n",
              "      <td>1.664089e+06</td>\n",
              "      <td>891586.000000</td>\n",
              "      <td>927171.000000</td>\n",
              "      <td>961664.000000</td>\n",
              "      <td>873552.000000</td>\n",
              "      <td>1.684259e+06</td>\n",
              "      <td>896040.000000</td>\n",
              "      <td>621000.000000</td>\n",
              "      <td>426529.000000</td>\n",
              "      <td>528666.000000</td>\n",
              "      <td>0.0</td>\n",
              "    </tr>\n",
              "  </tbody>\n",
              "</table>\n",
              "</div>"
            ],
            "text/plain": [
              "            LIMIT_BAL           SEX  ...       PAY_AMT6  default.payment.next.month\n",
              "count    23364.000000  23364.000000  ...   23364.000000                     23364.0\n",
              "mean    178099.726074      1.614150  ...    5719.371769                         0.0\n",
              "std     131628.359660      0.486806  ...   18792.950473                         0.0\n",
              "min      10000.000000      1.000000  ...       0.000000                         0.0\n",
              "25%      70000.000000      1.000000  ...     300.000000                         0.0\n",
              "50%     150000.000000      2.000000  ...    1706.000000                         0.0\n",
              "75%     250000.000000      2.000000  ...    4545.000000                         0.0\n",
              "max    1000000.000000      2.000000  ...  528666.000000                         0.0\n",
              "\n",
              "[8 rows x 24 columns]"
            ]
          },
          "metadata": {
            "tags": []
          },
          "execution_count": 44
        }
      ]
    },
    {
      "cell_type": "code",
      "metadata": {
        "id": "2N1hbr3iExE-",
        "colab": {
          "base_uri": "https://localhost:8080/",
          "height": 1000
        },
        "outputId": "814646db-b183-49a0-81c3-5b9048cea564"
      },
      "source": [
        "correlations = creditcard_df.corr()\n",
        "f, ax = plt.subplots(figsize = (20, 20))\n",
        "sns.heatmap(correlations, annot = True)\n"
      ],
      "execution_count": null,
      "outputs": [
        {
          "output_type": "execute_result",
          "data": {
            "text/plain": [
              "<matplotlib.axes._subplots.AxesSubplot at 0x7f33440da8d0>"
            ]
          },
          "metadata": {
            "tags": []
          },
          "execution_count": 46
        },
        {
          "output_type": "display_data",
          "data": {
            "image/png": "[encoded data removed]",
            "text/plain": [
              "<Figure size 1440x1440 with 2 Axes>"
            ]
          },
          "metadata": {
            "tags": [],
            "needs_background": "light"
          }
        }
      ]
    },
    {
      "cell_type": "code",
      "metadata": {
        "id": "k0Nnl5pxHoXz",
        "colab": {
          "base_uri": "https://localhost:8080/",
          "height": 711
        },
        "outputId": "60c4b841-8473-43cd-976a-a27a8fe0cdf4"
      },
      "source": [
        "plt.figure(figsize=[25, 12])\n",
        "sns.countplot(x = 'AGE', hue = 'default.payment.next.month', data = creditcard_df)"
      ],
      "execution_count": null,
      "outputs": [
        {
          "output_type": "execute_result",
          "data": {
            "text/plain": [
              "<matplotlib.axes._subplots.AxesSubplot at 0x7f3349906630>"
            ]
          },
          "metadata": {
            "tags": []
          },
          "execution_count": 47
        },
        {
          "output_type": "display_data",
          "data": {
            "image/png": "[encoded data removed]",
            "text/plain": [
              "<Figure size 1800x864 with 1 Axes>"
            ]
          },
          "metadata": {
            "tags": [],
            "needs_background": "light"
          }
        }
      ]
    },
    {
      "cell_type": "code",
      "metadata": {
        "id": "8p_rit_pIEmw",
        "colab": {
          "base_uri": "https://localhost:8080/",
          "height": 1000
        },
        "outputId": "3d175cf3-dfce-4a4c-d763-87beb9883803"
      },
      "source": [
        "plt.figure(figsize=[20,20])\n",
        "plt.subplot(311)\n",
        "sns.countplot(x = 'EDUCATION', hue = 'default.payment.next.month', data = creditcard_df)\n",
        "plt.subplot(312)\n",
        "sns.countplot(x = 'SEX', hue = 'default.payment.next.month', data = creditcard_df)\n",
        "plt.subplot(313)\n",
        "sns.countplot(x = 'MARRIAGE', hue = 'default.payment.next.month', data = creditcard_df)\n"
      ],
      "execution_count": null,
      "outputs": [
        {
          "output_type": "execute_result",
          "data": {
            "text/plain": [
              "<matplotlib.axes._subplots.AxesSubplot at 0x7f3341e4bc50>"
            ]
          },
          "metadata": {
            "tags": []
          },
          "execution_count": 48
        },
        {
          "output_type": "display_data",
          "data": {
            "image/png": "[encoded data removed]",
            "text/plain": [
              "<Figure size 1440x1440 with 3 Axes>"
            ]
          },
          "metadata": {
            "tags": [],
            "needs_background": "light"
          }
        }
      ]
    },
    {
      "cell_type": "code",
      "metadata": {
        "id": "cXTCL9dGTgda",
        "colab": {
          "base_uri": "https://localhost:8080/",
          "height": 470
        },
        "outputId": "d36c1fc0-ff17-4826-a102-259d9bb58659"
      },
      "source": [
        "# KDE (Kernel Density Estimate) is used for visualizing the Probability Density of a continuous variable. \n",
        "# KDE describes the probability density at different values in a continuous variable. \n",
        "\n",
        "plt.figure(figsize=(12,7))\n",
        "\n",
        "sns.distplot(cc_nodefault_df['LIMIT_BAL'], bins = 250, color = 'r')\n",
        "sns.distplot(cc_default_df['LIMIT_BAL'], bins = 250, color = 'b')\n",
        "\n",
        "plt.xlabel('Amount of bill statement in September, 2005 (NT dollar)')\n",
        "#plt.xlim(0, 200000)\n"
      ],
      "execution_count": null,
      "outputs": [
        {
          "output_type": "execute_result",
          "data": {
            "text/plain": [
              "Text(0.5, 0, 'Amount of bill statement in September, 2005 (NT dollar)')"
            ]
          },
          "metadata": {
            "tags": []
          },
          "execution_count": 75
        },
        {
          "output_type": "display_data",
          "data": {
            "image/png": "[encoded data removed]",
            "text/plain": [
              "<Figure size 864x504 with 1 Axes>"
            ]
          },
          "metadata": {
            "tags": [],
            "needs_background": "light"
          }
        }
      ]
    },
    {
      "cell_type": "code",
      "metadata": {
        "id": "DDXsc1toIuHw",
        "colab": {
          "base_uri": "https://localhost:8080/",
          "height": 470
        },
        "outputId": "2e8a1356-ed95-4dd0-97a1-7c87e2dc55c4"
      },
      "source": [
        "# KDE (Kernel Density Estimate) is used for visualizing the Probability Density of a continuous variable. \n",
        "# KDE describes the probability density at different values in a continuous variable. \n",
        "\n",
        "plt.figure(figsize=(12,7))\n",
        "\n",
        "sns.kdeplot(cc_nodefault_df['BILL_AMT1'], label = 'Customers who did not default (paid balance)', shade = True, color = 'r')\n",
        "sns.kdeplot(cc_default_df['BILL_AMT1'], label = 'Customers who defaulted (did not pay balance)', shade = True, color = 'b')\n",
        "\n",
        "plt.xlabel('Amount of bill statement in September, 2005 (NT dollar)')\n",
        "#plt.xlim(0, 200000)\n"
      ],
      "execution_count": null,
      "outputs": [
        {
          "output_type": "execute_result",
          "data": {
            "text/plain": [
              "Text(0.5, 0, 'Amount of bill statement in September, 2005 (NT dollar)')"
            ]
          },
          "metadata": {
            "tags": []
          },
          "execution_count": 63
        },
        {
          "output_type": "display_data",
          "data": {
            "image/png": "[encoded data removed]",
            "text/plain": [
              "<Figure size 864x504 with 1 Axes>"
            ]
          },
          "metadata": {
            "tags": [],
            "needs_background": "light"
          }
        }
      ]
    },
    {
      "cell_type": "code",
      "metadata": {
        "id": "id_S89-eK-m3",
        "colab": {
          "base_uri": "https://localhost:8080/",
          "height": 471
        },
        "outputId": "60a16c78-c0f9-4745-ae85-4921d51a4235"
      },
      "source": [
        "# KDE (Kernel Density Estimate) is used for visualizing the Probability Density of a continuous variable. \n",
        "# KDE describes the probability density at different values in a continuous variable. \n",
        "\n",
        "plt.figure(figsize=(12,7))\n",
        "\n",
        "sns.kdeplot(cc_nodefault_df['PAY_AMT1'], label = 'Customers who did not default (paid balance)', shade = True, color = 'r')\n",
        "sns.kdeplot(cc_default_df['PAY_AMT1'], label = 'Customers who defaulted (did not pay balance)', shade = True, color = 'b')\n",
        "\n",
        "plt.xlabel('PAY_AMT1: Amount of previous payment in September, 2005 (NT dollar)')\n",
        "plt.xlim(0, 200000)\n"
      ],
      "execution_count": null,
      "outputs": [
        {
          "output_type": "execute_result",
          "data": {
            "text/plain": [
              "(0.0, 200000.0)"
            ]
          },
          "metadata": {
            "tags": []
          },
          "execution_count": 70
        },
        {
          "output_type": "display_data",
          "data": {
            "image/png": "[encoded data removed]",
            "text/plain": [
              "<Figure size 864x504 with 1 Axes>"
            ]
          },
          "metadata": {
            "tags": [],
            "needs_background": "light"
          }
        }
      ]
    },
    {
      "cell_type": "code",
      "metadata": {
        "id": "Iq4eAkJbLWgz",
        "colab": {
          "base_uri": "https://localhost:8080/",
          "height": 1000
        },
        "outputId": "abf181ef-5cfb-4539-f76f-42bcd140b0ad"
      },
      "source": [
        "# Let's see the impact of sex on the limit balance \n",
        "\n",
        "plt.figure(figsize=[10,20])\n",
        "plt.subplot(211)\n",
        "sns.boxplot(x = 'SEX', y = 'LIMIT_BAL', data = creditcard_df, showfliers = False)\n",
        "plt.subplot(212)\n",
        "sns.boxplot(x = 'SEX', y = 'LIMIT_BAL', data = creditcard_df)\n"
      ],
      "execution_count": null,
      "outputs": [
        {
          "output_type": "execute_result",
          "data": {
            "text/plain": [
              "<matplotlib.axes._subplots.AxesSubplot at 0x7f3340514be0>"
            ]
          },
          "metadata": {
            "tags": []
          },
          "execution_count": 79
        },
        {
          "output_type": "display_data",
          "data": {
            "image/png": "[encoded data removed]",
            "text/plain": [
              "<Figure size 720x1440 with 2 Axes>"
            ]
          },
          "metadata": {
            "tags": [],
            "needs_background": "light"
          }
        }
      ]
    },
    {
      "cell_type": "code",
      "metadata": {
        "id": "MM_Vd6WAWDyS",
        "colab": {
          "base_uri": "https://localhost:8080/",
          "height": 1000
        },
        "outputId": "bc7f6db1-7c79-44ac-d970-0561b06ce54f"
      },
      "source": [
        "plt.figure(figsize=[10,20])\n",
        "plt.subplot(211)\n",
        "sns.boxplot(x = 'MARRIAGE', y = 'LIMIT_BAL', data = creditcard_df, showfliers = False)\n",
        "plt.subplot(212)\n",
        "sns.boxplot(x = 'MARRIAGE', y = 'LIMIT_BAL', data = creditcard_df)\n"
      ],
      "execution_count": null,
      "outputs": [
        {
          "output_type": "execute_result",
          "data": {
            "text/plain": [
              "<matplotlib.axes._subplots.AxesSubplot at 0x7f33401d9d68>"
            ]
          },
          "metadata": {
            "tags": []
          },
          "execution_count": 82
        },
        {
          "output_type": "display_data",
          "data": {
            "image/png": "[encoded data removed]",
            "text/plain": [
              "<Figure size 720x1440 with 2 Axes>"
            ]
          },
          "metadata": {
            "tags": [],
            "needs_background": "light"
          }
        }
      ]
    },
    {
      "cell_type": "markdown",
      "metadata": {
        "id": "gs1wi5-CkPaS"
      },
      "source": [
        "# TASK #4: CREATE TESTING AND TRAINING DATASET & PERFORM DATA CLEANING"
      ]
    },
    {
      "cell_type": "code",
      "metadata": {
        "id": "VghsrG44tH3f",
        "colab": {
          "base_uri": "https://localhost:8080/",
          "height": 422
        },
        "outputId": "2a19d79a-3427-412b-d8ce-bd92c382b11b"
      },
      "source": [
        "creditcard_df"
      ],
      "execution_count": null,
      "outputs": [
        {
          "output_type": "execute_result",
          "data": {
            "text/html": [
              "<div>\n",
              "<style scoped>\n",
              "    .dataframe tbody tr th:only-of-type {\n",
              "        vertical-align: middle;\n",
              "    }\n",
              "\n",
              "    .dataframe tbody tr th {\n",
              "        vertical-align: top;\n",
              "    }\n",
              "\n",
              "    .dataframe thead th {\n",
              "        text-align: right;\n",
              "    }\n",
              "</style>\n",
              "<table border=\"1\" class=\"dataframe\">\n",
              "  <thead>\n",
              "    <tr style=\"text-align: right;\">\n",
              "      <th></th>\n",
              "      <th>LIMIT_BAL</th>\n",
              "      <th>SEX</th>\n",
              "      <th>EDUCATION</th>\n",
              "      <th>MARRIAGE</th>\n",
              "      <th>AGE</th>\n",
              "      <th>PAY_0</th>\n",
              "      <th>PAY_2</th>\n",
              "      <th>PAY_3</th>\n",
              "      <th>PAY_4</th>\n",
              "      <th>PAY_5</th>\n",
              "      <th>PAY_6</th>\n",
              "      <th>BILL_AMT1</th>\n",
              "      <th>BILL_AMT2</th>\n",
              "      <th>BILL_AMT3</th>\n",
              "      <th>BILL_AMT4</th>\n",
              "      <th>BILL_AMT5</th>\n",
              "      <th>BILL_AMT6</th>\n",
              "      <th>PAY_AMT1</th>\n",
              "      <th>PAY_AMT2</th>\n",
              "      <th>PAY_AMT3</th>\n",
              "      <th>PAY_AMT4</th>\n",
              "      <th>PAY_AMT5</th>\n",
              "      <th>PAY_AMT6</th>\n",
              "      <th>default.payment.next.month</th>\n",
              "    </tr>\n",
              "  </thead>\n",
              "  <tbody>\n",
              "    <tr>\n",
              "      <th>0</th>\n",
              "      <td>20000.0</td>\n",
              "      <td>2</td>\n",
              "      <td>2</td>\n",
              "      <td>1</td>\n",
              "      <td>24</td>\n",
              "      <td>2</td>\n",
              "      <td>2</td>\n",
              "      <td>-1</td>\n",
              "      <td>-1</td>\n",
              "      <td>-2</td>\n",
              "      <td>-2</td>\n",
              "      <td>3913.0</td>\n",
              "      <td>3102.0</td>\n",
              "      <td>689.0</td>\n",
              "      <td>0.0</td>\n",
              "      <td>0.0</td>\n",
              "      <td>0.0</td>\n",
              "      <td>0.0</td>\n",
              "      <td>689.0</td>\n",
              "      <td>0.0</td>\n",
              "      <td>0.0</td>\n",
              "      <td>0.0</td>\n",
              "      <td>0.0</td>\n",
              "      <td>1</td>\n",
              "    </tr>\n",
              "    <tr>\n",
              "      <th>1</th>\n",
              "      <td>120000.0</td>\n",
              "      <td>2</td>\n",
              "      <td>2</td>\n",
              "      <td>2</td>\n",
              "      <td>26</td>\n",
              "      <td>-1</td>\n",
              "      <td>2</td>\n",
              "      <td>0</td>\n",
              "      <td>0</td>\n",
              "      <td>0</td>\n",
              "      <td>2</td>\n",
              "      <td>2682.0</td>\n",
              "      <td>1725.0</td>\n",
              "      <td>2682.0</td>\n",
              "      <td>3272.0</td>\n",
              "      <td>3455.0</td>\n",
              "      <td>3261.0</td>\n",
              "      <td>0.0</td>\n",
              "      <td>1000.0</td>\n",
              "      <td>1000.0</td>\n",
              "      <td>1000.0</td>\n",
              "      <td>0.0</td>\n",
              "      <td>2000.0</td>\n",
              "      <td>1</td>\n",
              "    </tr>\n",
              "    <tr>\n",
              "      <th>2</th>\n",
              "      <td>90000.0</td>\n",
              "      <td>2</td>\n",
              "      <td>2</td>\n",
              "      <td>2</td>\n",
              "      <td>34</td>\n",
              "      <td>0</td>\n",
              "      <td>0</td>\n",
              "      <td>0</td>\n",
              "      <td>0</td>\n",
              "      <td>0</td>\n",
              "      <td>0</td>\n",
              "      <td>29239.0</td>\n",
              "      <td>14027.0</td>\n",
              "      <td>13559.0</td>\n",
              "      <td>14331.0</td>\n",
              "      <td>14948.0</td>\n",
              "      <td>15549.0</td>\n",
              "      <td>1518.0</td>\n",
              "      <td>1500.0</td>\n",
              "      <td>1000.0</td>\n",
              "      <td>1000.0</td>\n",
              "      <td>1000.0</td>\n",
              "      <td>5000.0</td>\n",
              "      <td>0</td>\n",
              "    </tr>\n",
              "    <tr>\n",
              "      <th>3</th>\n",
              "      <td>50000.0</td>\n",
              "      <td>2</td>\n",
              "      <td>2</td>\n",
              "      <td>1</td>\n",
              "      <td>37</td>\n",
              "      <td>0</td>\n",
              "      <td>0</td>\n",
              "      <td>0</td>\n",
              "      <td>0</td>\n",
              "      <td>0</td>\n",
              "      <td>0</td>\n",
              "      <td>46990.0</td>\n",
              "      <td>48233.0</td>\n",
              "      <td>49291.0</td>\n",
              "      <td>28314.0</td>\n",
              "      <td>28959.0</td>\n",
              "      <td>29547.0</td>\n",
              "      <td>2000.0</td>\n",
              "      <td>2019.0</td>\n",
              "      <td>1200.0</td>\n",
              "      <td>1100.0</td>\n",
              "      <td>1069.0</td>\n",
              "      <td>1000.0</td>\n",
              "      <td>0</td>\n",
              "    </tr>\n",
              "    <tr>\n",
              "      <th>4</th>\n",
              "      <td>50000.0</td>\n",
              "      <td>1</td>\n",
              "      <td>2</td>\n",
              "      <td>1</td>\n",
              "      <td>57</td>\n",
              "      <td>-1</td>\n",
              "      <td>0</td>\n",
              "      <td>-1</td>\n",
              "      <td>0</td>\n",
              "      <td>0</td>\n",
              "      <td>0</td>\n",
              "      <td>8617.0</td>\n",
              "      <td>5670.0</td>\n",
              "      <td>35835.0</td>\n",
              "      <td>20940.0</td>\n",
              "      <td>19146.0</td>\n",
              "      <td>19131.0</td>\n",
              "      <td>2000.0</td>\n",
              "      <td>36681.0</td>\n",
              "      <td>10000.0</td>\n",
              "      <td>9000.0</td>\n",
              "      <td>689.0</td>\n",
              "      <td>679.0</td>\n",
              "      <td>0</td>\n",
              "    </tr>\n",
              "    <tr>\n",
              "      <th>...</th>\n",
              "      <td>...</td>\n",
              "      <td>...</td>\n",
              "      <td>...</td>\n",
              "      <td>...</td>\n",
              "      <td>...</td>\n",
              "      <td>...</td>\n",
              "      <td>...</td>\n",
              "      <td>...</td>\n",
              "      <td>...</td>\n",
              "      <td>...</td>\n",
              "      <td>...</td>\n",
              "      <td>...</td>\n",
              "      <td>...</td>\n",
              "      <td>...</td>\n",
              "      <td>...</td>\n",
              "      <td>...</td>\n",
              "      <td>...</td>\n",
              "      <td>...</td>\n",
              "      <td>...</td>\n",
              "      <td>...</td>\n",
              "      <td>...</td>\n",
              "      <td>...</td>\n",
              "      <td>...</td>\n",
              "      <td>...</td>\n",
              "    </tr>\n",
              "    <tr>\n",
              "      <th>29995</th>\n",
              "      <td>220000.0</td>\n",
              "      <td>1</td>\n",
              "      <td>3</td>\n",
              "      <td>1</td>\n",
              "      <td>39</td>\n",
              "      <td>0</td>\n",
              "      <td>0</td>\n",
              "      <td>0</td>\n",
              "      <td>0</td>\n",
              "      <td>0</td>\n",
              "      <td>0</td>\n",
              "      <td>188948.0</td>\n",
              "      <td>192815.0</td>\n",
              "      <td>208365.0</td>\n",
              "      <td>88004.0</td>\n",
              "      <td>31237.0</td>\n",
              "      <td>15980.0</td>\n",
              "      <td>8500.0</td>\n",
              "      <td>20000.0</td>\n",
              "      <td>5003.0</td>\n",
              "      <td>3047.0</td>\n",
              "      <td>5000.0</td>\n",
              "      <td>1000.0</td>\n",
              "      <td>0</td>\n",
              "    </tr>\n",
              "    <tr>\n",
              "      <th>29996</th>\n",
              "      <td>150000.0</td>\n",
              "      <td>1</td>\n",
              "      <td>3</td>\n",
              "      <td>2</td>\n",
              "      <td>43</td>\n",
              "      <td>-1</td>\n",
              "      <td>-1</td>\n",
              "      <td>-1</td>\n",
              "      <td>-1</td>\n",
              "      <td>0</td>\n",
              "      <td>0</td>\n",
              "      <td>1683.0</td>\n",
              "      <td>1828.0</td>\n",
              "      <td>3502.0</td>\n",
              "      <td>8979.0</td>\n",
              "      <td>5190.0</td>\n",
              "      <td>0.0</td>\n",
              "      <td>1837.0</td>\n",
              "      <td>3526.0</td>\n",
              "      <td>8998.0</td>\n",
              "      <td>129.0</td>\n",
              "      <td>0.0</td>\n",
              "      <td>0.0</td>\n",
              "      <td>0</td>\n",
              "    </tr>\n",
              "    <tr>\n",
              "      <th>29997</th>\n",
              "      <td>30000.0</td>\n",
              "      <td>1</td>\n",
              "      <td>2</td>\n",
              "      <td>2</td>\n",
              "      <td>37</td>\n",
              "      <td>4</td>\n",
              "      <td>3</td>\n",
              "      <td>2</td>\n",
              "      <td>-1</td>\n",
              "      <td>0</td>\n",
              "      <td>0</td>\n",
              "      <td>3565.0</td>\n",
              "      <td>3356.0</td>\n",
              "      <td>2758.0</td>\n",
              "      <td>20878.0</td>\n",
              "      <td>20582.0</td>\n",
              "      <td>19357.0</td>\n",
              "      <td>0.0</td>\n",
              "      <td>0.0</td>\n",
              "      <td>22000.0</td>\n",
              "      <td>4200.0</td>\n",
              "      <td>2000.0</td>\n",
              "      <td>3100.0</td>\n",
              "      <td>1</td>\n",
              "    </tr>\n",
              "    <tr>\n",
              "      <th>29998</th>\n",
              "      <td>80000.0</td>\n",
              "      <td>1</td>\n",
              "      <td>3</td>\n",
              "      <td>1</td>\n",
              "      <td>41</td>\n",
              "      <td>1</td>\n",
              "      <td>-1</td>\n",
              "      <td>0</td>\n",
              "      <td>0</td>\n",
              "      <td>0</td>\n",
              "      <td>-1</td>\n",
              "      <td>-1645.0</td>\n",
              "      <td>78379.0</td>\n",
              "      <td>76304.0</td>\n",
              "      <td>52774.0</td>\n",
              "      <td>11855.0</td>\n",
              "      <td>48944.0</td>\n",
              "      <td>85900.0</td>\n",
              "      <td>3409.0</td>\n",
              "      <td>1178.0</td>\n",
              "      <td>1926.0</td>\n",
              "      <td>52964.0</td>\n",
              "      <td>1804.0</td>\n",
              "      <td>1</td>\n",
              "    </tr>\n",
              "    <tr>\n",
              "      <th>29999</th>\n",
              "      <td>50000.0</td>\n",
              "      <td>1</td>\n",
              "      <td>2</td>\n",
              "      <td>1</td>\n",
              "      <td>46</td>\n",
              "      <td>0</td>\n",
              "      <td>0</td>\n",
              "      <td>0</td>\n",
              "      <td>0</td>\n",
              "      <td>0</td>\n",
              "      <td>0</td>\n",
              "      <td>47929.0</td>\n",
              "      <td>48905.0</td>\n",
              "      <td>49764.0</td>\n",
              "      <td>36535.0</td>\n",
              "      <td>32428.0</td>\n",
              "      <td>15313.0</td>\n",
              "      <td>2078.0</td>\n",
              "      <td>1800.0</td>\n",
              "      <td>1430.0</td>\n",
              "      <td>1000.0</td>\n",
              "      <td>1000.0</td>\n",
              "      <td>1000.0</td>\n",
              "      <td>1</td>\n",
              "    </tr>\n",
              "  </tbody>\n",
              "</table>\n",
              "<p>30000 rows × 24 columns</p>\n",
              "</div>"
            ],
            "text/plain": [
              "       LIMIT_BAL  SEX  ...  PAY_AMT6  default.payment.next.month\n",
              "0        20000.0    2  ...       0.0                           1\n",
              "1       120000.0    2  ...    2000.0                           1\n",
              "2        90000.0    2  ...    5000.0                           0\n",
              "3        50000.0    2  ...    1000.0                           0\n",
              "4        50000.0    1  ...     679.0                           0\n",
              "...          ...  ...  ...       ...                         ...\n",
              "29995   220000.0    1  ...    1000.0                           0\n",
              "29996   150000.0    1  ...       0.0                           0\n",
              "29997    30000.0    1  ...    3100.0                           1\n",
              "29998    80000.0    1  ...    1804.0                           1\n",
              "29999    50000.0    1  ...    1000.0                           1\n",
              "\n",
              "[30000 rows x 24 columns]"
            ]
          },
          "metadata": {
            "tags": []
          },
          "execution_count": 91
        }
      ]
    },
    {
      "cell_type": "code",
      "metadata": {
        "id": "Zz5Z0H-YkVYx",
        "colab": {
          "base_uri": "https://localhost:8080/",
          "height": 402
        },
        "outputId": "d0a16e5c-ae9c-435b-bc14-08dd631a4d40"
      },
      "source": [
        "X_cat = creditcard_df[['SEX', 'EDUCATION', 'MARRIAGE']]\n",
        "X_cat"
      ],
      "execution_count": null,
      "outputs": [
        {
          "output_type": "execute_result",
          "data": {
            "text/html": [
              "<div>\n",
              "<style scoped>\n",
              "    .dataframe tbody tr th:only-of-type {\n",
              "        vertical-align: middle;\n",
              "    }\n",
              "\n",
              "    .dataframe tbody tr th {\n",
              "        vertical-align: top;\n",
              "    }\n",
              "\n",
              "    .dataframe thead th {\n",
              "        text-align: right;\n",
              "    }\n",
              "</style>\n",
              "<table border=\"1\" class=\"dataframe\">\n",
              "  <thead>\n",
              "    <tr style=\"text-align: right;\">\n",
              "      <th></th>\n",
              "      <th>SEX</th>\n",
              "      <th>EDUCATION</th>\n",
              "      <th>MARRIAGE</th>\n",
              "    </tr>\n",
              "  </thead>\n",
              "  <tbody>\n",
              "    <tr>\n",
              "      <th>0</th>\n",
              "      <td>2</td>\n",
              "      <td>2</td>\n",
              "      <td>1</td>\n",
              "    </tr>\n",
              "    <tr>\n",
              "      <th>1</th>\n",
              "      <td>2</td>\n",
              "      <td>2</td>\n",
              "      <td>2</td>\n",
              "    </tr>\n",
              "    <tr>\n",
              "      <th>2</th>\n",
              "      <td>2</td>\n",
              "      <td>2</td>\n",
              "      <td>2</td>\n",
              "    </tr>\n",
              "    <tr>\n",
              "      <th>3</th>\n",
              "      <td>2</td>\n",
              "      <td>2</td>\n",
              "      <td>1</td>\n",
              "    </tr>\n",
              "    <tr>\n",
              "      <th>4</th>\n",
              "      <td>1</td>\n",
              "      <td>2</td>\n",
              "      <td>1</td>\n",
              "    </tr>\n",
              "    <tr>\n",
              "      <th>...</th>\n",
              "      <td>...</td>\n",
              "      <td>...</td>\n",
              "      <td>...</td>\n",
              "    </tr>\n",
              "    <tr>\n",
              "      <th>29995</th>\n",
              "      <td>1</td>\n",
              "      <td>3</td>\n",
              "      <td>1</td>\n",
              "    </tr>\n",
              "    <tr>\n",
              "      <th>29996</th>\n",
              "      <td>1</td>\n",
              "      <td>3</td>\n",
              "      <td>2</td>\n",
              "    </tr>\n",
              "    <tr>\n",
              "      <th>29997</th>\n",
              "      <td>1</td>\n",
              "      <td>2</td>\n",
              "      <td>2</td>\n",
              "    </tr>\n",
              "    <tr>\n",
              "      <th>29998</th>\n",
              "      <td>1</td>\n",
              "      <td>3</td>\n",
              "      <td>1</td>\n",
              "    </tr>\n",
              "    <tr>\n",
              "      <th>29999</th>\n",
              "      <td>1</td>\n",
              "      <td>2</td>\n",
              "      <td>1</td>\n",
              "    </tr>\n",
              "  </tbody>\n",
              "</table>\n",
              "<p>30000 rows × 3 columns</p>\n",
              "</div>"
            ],
            "text/plain": [
              "       SEX  EDUCATION  MARRIAGE\n",
              "0        2          2         1\n",
              "1        2          2         2\n",
              "2        2          2         2\n",
              "3        2          2         1\n",
              "4        1          2         1\n",
              "...    ...        ...       ...\n",
              "29995    1          3         1\n",
              "29996    1          3         2\n",
              "29997    1          2         2\n",
              "29998    1          3         1\n",
              "29999    1          2         1\n",
              "\n",
              "[30000 rows x 3 columns]"
            ]
          },
          "metadata": {
            "tags": []
          },
          "execution_count": 85
        }
      ]
    },
    {
      "cell_type": "code",
      "metadata": {
        "id": "nsEXKNl_kVa4"
      },
      "source": [
        "from sklearn.preprocessing import OneHotEncoder\n",
        "onehotencoder = OneHotEncoder()\n",
        "X_cat = onehotencoder.fit_transform(X_cat).toarray()"
      ],
      "execution_count": null,
      "outputs": []
    },
    {
      "cell_type": "code",
      "metadata": {
        "id": "0o3k406tkVdL",
        "colab": {
          "base_uri": "https://localhost:8080/",
          "height": 34
        },
        "outputId": "17286c22-e8a9-4719-b612-de6442d1630f"
      },
      "source": [
        "X_cat.shape"
      ],
      "execution_count": null,
      "outputs": [
        {
          "output_type": "execute_result",
          "data": {
            "text/plain": [
              "(30000, 13)"
            ]
          },
          "metadata": {
            "tags": []
          },
          "execution_count": 87
        }
      ]
    },
    {
      "cell_type": "code",
      "metadata": {
        "id": "PGbaiijVkeso"
      },
      "source": [
        "X_cat = pd.DataFrame(X_cat)"
      ],
      "execution_count": null,
      "outputs": []
    },
    {
      "cell_type": "code",
      "metadata": {
        "id": "PoJMSzTkkevg",
        "colab": {
          "base_uri": "https://localhost:8080/",
          "height": 402
        },
        "outputId": "74d30e31-1578-46e7-cb5a-00ebcdc5d5b6"
      },
      "source": [
        "X_cat"
      ],
      "execution_count": null,
      "outputs": [
        {
          "output_type": "execute_result",
          "data": {
            "text/html": [
              "<div>\n",
              "<style scoped>\n",
              "    .dataframe tbody tr th:only-of-type {\n",
              "        vertical-align: middle;\n",
              "    }\n",
              "\n",
              "    .dataframe tbody tr th {\n",
              "        vertical-align: top;\n",
              "    }\n",
              "\n",
              "    .dataframe thead th {\n",
              "        text-align: right;\n",
              "    }\n",
              "</style>\n",
              "<table border=\"1\" class=\"dataframe\">\n",
              "  <thead>\n",
              "    <tr style=\"text-align: right;\">\n",
              "      <th></th>\n",
              "      <th>0</th>\n",
              "      <th>1</th>\n",
              "      <th>2</th>\n",
              "      <th>3</th>\n",
              "      <th>4</th>\n",
              "      <th>5</th>\n",
              "      <th>6</th>\n",
              "      <th>7</th>\n",
              "      <th>8</th>\n",
              "      <th>9</th>\n",
              "      <th>10</th>\n",
              "      <th>11</th>\n",
              "      <th>12</th>\n",
              "    </tr>\n",
              "  </thead>\n",
              "  <tbody>\n",
              "    <tr>\n",
              "      <th>0</th>\n",
              "      <td>0.0</td>\n",
              "      <td>1.0</td>\n",
              "      <td>0.0</td>\n",
              "      <td>0.0</td>\n",
              "      <td>1.0</td>\n",
              "      <td>0.0</td>\n",
              "      <td>0.0</td>\n",
              "      <td>0.0</td>\n",
              "      <td>0.0</td>\n",
              "      <td>0.0</td>\n",
              "      <td>1.0</td>\n",
              "      <td>0.0</td>\n",
              "      <td>0.0</td>\n",
              "    </tr>\n",
              "    <tr>\n",
              "      <th>1</th>\n",
              "      <td>0.0</td>\n",
              "      <td>1.0</td>\n",
              "      <td>0.0</td>\n",
              "      <td>0.0</td>\n",
              "      <td>1.0</td>\n",
              "      <td>0.0</td>\n",
              "      <td>0.0</td>\n",
              "      <td>0.0</td>\n",
              "      <td>0.0</td>\n",
              "      <td>0.0</td>\n",
              "      <td>0.0</td>\n",
              "      <td>1.0</td>\n",
              "      <td>0.0</td>\n",
              "    </tr>\n",
              "    <tr>\n",
              "      <th>2</th>\n",
              "      <td>0.0</td>\n",
              "      <td>1.0</td>\n",
              "      <td>0.0</td>\n",
              "      <td>0.0</td>\n",
              "      <td>1.0</td>\n",
              "      <td>0.0</td>\n",
              "      <td>0.0</td>\n",
              "      <td>0.0</td>\n",
              "      <td>0.0</td>\n",
              "      <td>0.0</td>\n",
              "      <td>0.0</td>\n",
              "      <td>1.0</td>\n",
              "      <td>0.0</td>\n",
              "    </tr>\n",
              "    <tr>\n",
              "      <th>3</th>\n",
              "      <td>0.0</td>\n",
              "      <td>1.0</td>\n",
              "      <td>0.0</td>\n",
              "      <td>0.0</td>\n",
              "      <td>1.0</td>\n",
              "      <td>0.0</td>\n",
              "      <td>0.0</td>\n",
              "      <td>0.0</td>\n",
              "      <td>0.0</td>\n",
              "      <td>0.0</td>\n",
              "      <td>1.0</td>\n",
              "      <td>0.0</td>\n",
              "      <td>0.0</td>\n",
              "    </tr>\n",
              "    <tr>\n",
              "      <th>4</th>\n",
              "      <td>1.0</td>\n",
              "      <td>0.0</td>\n",
              "      <td>0.0</td>\n",
              "      <td>0.0</td>\n",
              "      <td>1.0</td>\n",
              "      <td>0.0</td>\n",
              "      <td>0.0</td>\n",
              "      <td>0.0</td>\n",
              "      <td>0.0</td>\n",
              "      <td>0.0</td>\n",
              "      <td>1.0</td>\n",
              "      <td>0.0</td>\n",
              "      <td>0.0</td>\n",
              "    </tr>\n",
              "    <tr>\n",
              "      <th>...</th>\n",
              "      <td>...</td>\n",
              "      <td>...</td>\n",
              "      <td>...</td>\n",
              "      <td>...</td>\n",
              "      <td>...</td>\n",
              "      <td>...</td>\n",
              "      <td>...</td>\n",
              "      <td>...</td>\n",
              "      <td>...</td>\n",
              "      <td>...</td>\n",
              "      <td>...</td>\n",
              "      <td>...</td>\n",
              "      <td>...</td>\n",
              "    </tr>\n",
              "    <tr>\n",
              "      <th>29995</th>\n",
              "      <td>1.0</td>\n",
              "      <td>0.0</td>\n",
              "      <td>0.0</td>\n",
              "      <td>0.0</td>\n",
              "      <td>0.0</td>\n",
              "      <td>1.0</td>\n",
              "      <td>0.0</td>\n",
              "      <td>0.0</td>\n",
              "      <td>0.0</td>\n",
              "      <td>0.0</td>\n",
              "      <td>1.0</td>\n",
              "      <td>0.0</td>\n",
              "      <td>0.0</td>\n",
              "    </tr>\n",
              "    <tr>\n",
              "      <th>29996</th>\n",
              "      <td>1.0</td>\n",
              "      <td>0.0</td>\n",
              "      <td>0.0</td>\n",
              "      <td>0.0</td>\n",
              "      <td>0.0</td>\n",
              "      <td>1.0</td>\n",
              "      <td>0.0</td>\n",
              "      <td>0.0</td>\n",
              "      <td>0.0</td>\n",
              "      <td>0.0</td>\n",
              "      <td>0.0</td>\n",
              "      <td>1.0</td>\n",
              "      <td>0.0</td>\n",
              "    </tr>\n",
              "    <tr>\n",
              "      <th>29997</th>\n",
              "      <td>1.0</td>\n",
              "      <td>0.0</td>\n",
              "      <td>0.0</td>\n",
              "      <td>0.0</td>\n",
              "      <td>1.0</td>\n",
              "      <td>0.0</td>\n",
              "      <td>0.0</td>\n",
              "      <td>0.0</td>\n",
              "      <td>0.0</td>\n",
              "      <td>0.0</td>\n",
              "      <td>0.0</td>\n",
              "      <td>1.0</td>\n",
              "      <td>0.0</td>\n",
              "    </tr>\n",
              "    <tr>\n",
              "      <th>29998</th>\n",
              "      <td>1.0</td>\n",
              "      <td>0.0</td>\n",
              "      <td>0.0</td>\n",
              "      <td>0.0</td>\n",
              "      <td>0.0</td>\n",
              "      <td>1.0</td>\n",
              "      <td>0.0</td>\n",
              "      <td>0.0</td>\n",
              "      <td>0.0</td>\n",
              "      <td>0.0</td>\n",
              "      <td>1.0</td>\n",
              "      <td>0.0</td>\n",
              "      <td>0.0</td>\n",
              "    </tr>\n",
              "    <tr>\n",
              "      <th>29999</th>\n",
              "      <td>1.0</td>\n",
              "      <td>0.0</td>\n",
              "      <td>0.0</td>\n",
              "      <td>0.0</td>\n",
              "      <td>1.0</td>\n",
              "      <td>0.0</td>\n",
              "      <td>0.0</td>\n",
              "      <td>0.0</td>\n",
              "      <td>0.0</td>\n",
              "      <td>0.0</td>\n",
              "      <td>1.0</td>\n",
              "      <td>0.0</td>\n",
              "      <td>0.0</td>\n",
              "    </tr>\n",
              "  </tbody>\n",
              "</table>\n",
              "<p>30000 rows × 13 columns</p>\n",
              "</div>"
            ],
            "text/plain": [
              "         0    1    2    3    4    5    6    7    8    9   10   11   12\n",
              "0      0.0  1.0  0.0  0.0  1.0  0.0  0.0  0.0  0.0  0.0  1.0  0.0  0.0\n",
              "1      0.0  1.0  0.0  0.0  1.0  0.0  0.0  0.0  0.0  0.0  0.0  1.0  0.0\n",
              "2      0.0  1.0  0.0  0.0  1.0  0.0  0.0  0.0  0.0  0.0  0.0  1.0  0.0\n",
              "3      0.0  1.0  0.0  0.0  1.0  0.0  0.0  0.0  0.0  0.0  1.0  0.0  0.0\n",
              "4      1.0  0.0  0.0  0.0  1.0  0.0  0.0  0.0  0.0  0.0  1.0  0.0  0.0\n",
              "...    ...  ...  ...  ...  ...  ...  ...  ...  ...  ...  ...  ...  ...\n",
              "29995  1.0  0.0  0.0  0.0  0.0  1.0  0.0  0.0  0.0  0.0  1.0  0.0  0.0\n",
              "29996  1.0  0.0  0.0  0.0  0.0  1.0  0.0  0.0  0.0  0.0  0.0  1.0  0.0\n",
              "29997  1.0  0.0  0.0  0.0  1.0  0.0  0.0  0.0  0.0  0.0  0.0  1.0  0.0\n",
              "29998  1.0  0.0  0.0  0.0  0.0  1.0  0.0  0.0  0.0  0.0  1.0  0.0  0.0\n",
              "29999  1.0  0.0  0.0  0.0  1.0  0.0  0.0  0.0  0.0  0.0  1.0  0.0  0.0\n",
              "\n",
              "[30000 rows x 13 columns]"
            ]
          },
          "metadata": {
            "tags": []
          },
          "execution_count": 89
        }
      ]
    },
    {
      "cell_type": "code",
      "metadata": {
        "id": "G5fStu_EkeyB",
        "colab": {
          "base_uri": "https://localhost:8080/",
          "height": 422
        },
        "outputId": "69f15694-eb47-4de1-acde-988f3bd454ff"
      },
      "source": [
        "# note that we dropped the target 'default.payment.next.month'\n",
        "X_numerical = creditcard_df[['LIMIT_BAL', 'AGE', 'PAY_0', 'PAY_2', 'PAY_3', 'PAY_4', 'PAY_5', 'PAY_6', \n",
        "                'BILL_AMT1','BILL_AMT2', 'BILL_AMT3', 'BILL_AMT4', 'BILL_AMT5', 'BILL_AMT6',\n",
        "                'PAY_AMT1', 'PAY_AMT2', 'PAY_AMT3', 'PAY_AMT4', 'PAY_AMT5', 'PAY_AMT6']]\n",
        "X_numerical"
      ],
      "execution_count": null,
      "outputs": [
        {
          "output_type": "execute_result",
          "data": {
            "text/html": [
              "<div>\n",
              "<style scoped>\n",
              "    .dataframe tbody tr th:only-of-type {\n",
              "        vertical-align: middle;\n",
              "    }\n",
              "\n",
              "    .dataframe tbody tr th {\n",
              "        vertical-align: top;\n",
              "    }\n",
              "\n",
              "    .dataframe thead th {\n",
              "        text-align: right;\n",
              "    }\n",
              "</style>\n",
              "<table border=\"1\" class=\"dataframe\">\n",
              "  <thead>\n",
              "    <tr style=\"text-align: right;\">\n",
              "      <th></th>\n",
              "      <th>LIMIT_BAL</th>\n",
              "      <th>AGE</th>\n",
              "      <th>PAY_0</th>\n",
              "      <th>PAY_2</th>\n",
              "      <th>PAY_3</th>\n",
              "      <th>PAY_4</th>\n",
              "      <th>PAY_5</th>\n",
              "      <th>PAY_6</th>\n",
              "      <th>BILL_AMT1</th>\n",
              "      <th>BILL_AMT2</th>\n",
              "      <th>BILL_AMT3</th>\n",
              "      <th>BILL_AMT4</th>\n",
              "      <th>BILL_AMT5</th>\n",
              "      <th>BILL_AMT6</th>\n",
              "      <th>PAY_AMT1</th>\n",
              "      <th>PAY_AMT2</th>\n",
              "      <th>PAY_AMT3</th>\n",
              "      <th>PAY_AMT4</th>\n",
              "      <th>PAY_AMT5</th>\n",
              "      <th>PAY_AMT6</th>\n",
              "    </tr>\n",
              "  </thead>\n",
              "  <tbody>\n",
              "    <tr>\n",
              "      <th>0</th>\n",
              "      <td>20000.0</td>\n",
              "      <td>24</td>\n",
              "      <td>2</td>\n",
              "      <td>2</td>\n",
              "      <td>-1</td>\n",
              "      <td>-1</td>\n",
              "      <td>-2</td>\n",
              "      <td>-2</td>\n",
              "      <td>3913.0</td>\n",
              "      <td>3102.0</td>\n",
              "      <td>689.0</td>\n",
              "      <td>0.0</td>\n",
              "      <td>0.0</td>\n",
              "      <td>0.0</td>\n",
              "      <td>0.0</td>\n",
              "      <td>689.0</td>\n",
              "      <td>0.0</td>\n",
              "      <td>0.0</td>\n",
              "      <td>0.0</td>\n",
              "      <td>0.0</td>\n",
              "    </tr>\n",
              "    <tr>\n",
              "      <th>1</th>\n",
              "      <td>120000.0</td>\n",
              "      <td>26</td>\n",
              "      <td>-1</td>\n",
              "      <td>2</td>\n",
              "      <td>0</td>\n",
              "      <td>0</td>\n",
              "      <td>0</td>\n",
              "      <td>2</td>\n",
              "      <td>2682.0</td>\n",
              "      <td>1725.0</td>\n",
              "      <td>2682.0</td>\n",
              "      <td>3272.0</td>\n",
              "      <td>3455.0</td>\n",
              "      <td>3261.0</td>\n",
              "      <td>0.0</td>\n",
              "      <td>1000.0</td>\n",
              "      <td>1000.0</td>\n",
              "      <td>1000.0</td>\n",
              "      <td>0.0</td>\n",
              "      <td>2000.0</td>\n",
              "    </tr>\n",
              "    <tr>\n",
              "      <th>2</th>\n",
              "      <td>90000.0</td>\n",
              "      <td>34</td>\n",
              "      <td>0</td>\n",
              "      <td>0</td>\n",
              "      <td>0</td>\n",
              "      <td>0</td>\n",
              "      <td>0</td>\n",
              "      <td>0</td>\n",
              "      <td>29239.0</td>\n",
              "      <td>14027.0</td>\n",
              "      <td>13559.0</td>\n",
              "      <td>14331.0</td>\n",
              "      <td>14948.0</td>\n",
              "      <td>15549.0</td>\n",
              "      <td>1518.0</td>\n",
              "      <td>1500.0</td>\n",
              "      <td>1000.0</td>\n",
              "      <td>1000.0</td>\n",
              "      <td>1000.0</td>\n",
              "      <td>5000.0</td>\n",
              "    </tr>\n",
              "    <tr>\n",
              "      <th>3</th>\n",
              "      <td>50000.0</td>\n",
              "      <td>37</td>\n",
              "      <td>0</td>\n",
              "      <td>0</td>\n",
              "      <td>0</td>\n",
              "      <td>0</td>\n",
              "      <td>0</td>\n",
              "      <td>0</td>\n",
              "      <td>46990.0</td>\n",
              "      <td>48233.0</td>\n",
              "      <td>49291.0</td>\n",
              "      <td>28314.0</td>\n",
              "      <td>28959.0</td>\n",
              "      <td>29547.0</td>\n",
              "      <td>2000.0</td>\n",
              "      <td>2019.0</td>\n",
              "      <td>1200.0</td>\n",
              "      <td>1100.0</td>\n",
              "      <td>1069.0</td>\n",
              "      <td>1000.0</td>\n",
              "    </tr>\n",
              "    <tr>\n",
              "      <th>4</th>\n",
              "      <td>50000.0</td>\n",
              "      <td>57</td>\n",
              "      <td>-1</td>\n",
              "      <td>0</td>\n",
              "      <td>-1</td>\n",
              "      <td>0</td>\n",
              "      <td>0</td>\n",
              "      <td>0</td>\n",
              "      <td>8617.0</td>\n",
              "      <td>5670.0</td>\n",
              "      <td>35835.0</td>\n",
              "      <td>20940.0</td>\n",
              "      <td>19146.0</td>\n",
              "      <td>19131.0</td>\n",
              "      <td>2000.0</td>\n",
              "      <td>36681.0</td>\n",
              "      <td>10000.0</td>\n",
              "      <td>9000.0</td>\n",
              "      <td>689.0</td>\n",
              "      <td>679.0</td>\n",
              "    </tr>\n",
              "    <tr>\n",
              "      <th>...</th>\n",
              "      <td>...</td>\n",
              "      <td>...</td>\n",
              "      <td>...</td>\n",
              "      <td>...</td>\n",
              "      <td>...</td>\n",
              "      <td>...</td>\n",
              "      <td>...</td>\n",
              "      <td>...</td>\n",
              "      <td>...</td>\n",
              "      <td>...</td>\n",
              "      <td>...</td>\n",
              "      <td>...</td>\n",
              "      <td>...</td>\n",
              "      <td>...</td>\n",
              "      <td>...</td>\n",
              "      <td>...</td>\n",
              "      <td>...</td>\n",
              "      <td>...</td>\n",
              "      <td>...</td>\n",
              "      <td>...</td>\n",
              "    </tr>\n",
              "    <tr>\n",
              "      <th>29995</th>\n",
              "      <td>220000.0</td>\n",
              "      <td>39</td>\n",
              "      <td>0</td>\n",
              "      <td>0</td>\n",
              "      <td>0</td>\n",
              "      <td>0</td>\n",
              "      <td>0</td>\n",
              "      <td>0</td>\n",
              "      <td>188948.0</td>\n",
              "      <td>192815.0</td>\n",
              "      <td>208365.0</td>\n",
              "      <td>88004.0</td>\n",
              "      <td>31237.0</td>\n",
              "      <td>15980.0</td>\n",
              "      <td>8500.0</td>\n",
              "      <td>20000.0</td>\n",
              "      <td>5003.0</td>\n",
              "      <td>3047.0</td>\n",
              "      <td>5000.0</td>\n",
              "      <td>1000.0</td>\n",
              "    </tr>\n",
              "    <tr>\n",
              "      <th>29996</th>\n",
              "      <td>150000.0</td>\n",
              "      <td>43</td>\n",
              "      <td>-1</td>\n",
              "      <td>-1</td>\n",
              "      <td>-1</td>\n",
              "      <td>-1</td>\n",
              "      <td>0</td>\n",
              "      <td>0</td>\n",
              "      <td>1683.0</td>\n",
              "      <td>1828.0</td>\n",
              "      <td>3502.0</td>\n",
              "      <td>8979.0</td>\n",
              "      <td>5190.0</td>\n",
              "      <td>0.0</td>\n",
              "      <td>1837.0</td>\n",
              "      <td>3526.0</td>\n",
              "      <td>8998.0</td>\n",
              "      <td>129.0</td>\n",
              "      <td>0.0</td>\n",
              "      <td>0.0</td>\n",
              "    </tr>\n",
              "    <tr>\n",
              "      <th>29997</th>\n",
              "      <td>30000.0</td>\n",
              "      <td>37</td>\n",
              "      <td>4</td>\n",
              "      <td>3</td>\n",
              "      <td>2</td>\n",
              "      <td>-1</td>\n",
              "      <td>0</td>\n",
              "      <td>0</td>\n",
              "      <td>3565.0</td>\n",
              "      <td>3356.0</td>\n",
              "      <td>2758.0</td>\n",
              "      <td>20878.0</td>\n",
              "      <td>20582.0</td>\n",
              "      <td>19357.0</td>\n",
              "      <td>0.0</td>\n",
              "      <td>0.0</td>\n",
              "      <td>22000.0</td>\n",
              "      <td>4200.0</td>\n",
              "      <td>2000.0</td>\n",
              "      <td>3100.0</td>\n",
              "    </tr>\n",
              "    <tr>\n",
              "      <th>29998</th>\n",
              "      <td>80000.0</td>\n",
              "      <td>41</td>\n",
              "      <td>1</td>\n",
              "      <td>-1</td>\n",
              "      <td>0</td>\n",
              "      <td>0</td>\n",
              "      <td>0</td>\n",
              "      <td>-1</td>\n",
              "      <td>-1645.0</td>\n",
              "      <td>78379.0</td>\n",
              "      <td>76304.0</td>\n",
              "      <td>52774.0</td>\n",
              "      <td>11855.0</td>\n",
              "      <td>48944.0</td>\n",
              "      <td>85900.0</td>\n",
              "      <td>3409.0</td>\n",
              "      <td>1178.0</td>\n",
              "      <td>1926.0</td>\n",
              "      <td>52964.0</td>\n",
              "      <td>1804.0</td>\n",
              "    </tr>\n",
              "    <tr>\n",
              "      <th>29999</th>\n",
              "      <td>50000.0</td>\n",
              "      <td>46</td>\n",
              "      <td>0</td>\n",
              "      <td>0</td>\n",
              "      <td>0</td>\n",
              "      <td>0</td>\n",
              "      <td>0</td>\n",
              "      <td>0</td>\n",
              "      <td>47929.0</td>\n",
              "      <td>48905.0</td>\n",
              "      <td>49764.0</td>\n",
              "      <td>36535.0</td>\n",
              "      <td>32428.0</td>\n",
              "      <td>15313.0</td>\n",
              "      <td>2078.0</td>\n",
              "      <td>1800.0</td>\n",
              "      <td>1430.0</td>\n",
              "      <td>1000.0</td>\n",
              "      <td>1000.0</td>\n",
              "      <td>1000.0</td>\n",
              "    </tr>\n",
              "  </tbody>\n",
              "</table>\n",
              "<p>30000 rows × 20 columns</p>\n",
              "</div>"
            ],
            "text/plain": [
              "       LIMIT_BAL  AGE  PAY_0  PAY_2  ...  PAY_AMT3  PAY_AMT4  PAY_AMT5  PAY_AMT6\n",
              "0        20000.0   24      2      2  ...       0.0       0.0       0.0       0.0\n",
              "1       120000.0   26     -1      2  ...    1000.0    1000.0       0.0    2000.0\n",
              "2        90000.0   34      0      0  ...    1000.0    1000.0    1000.0    5000.0\n",
              "3        50000.0   37      0      0  ...    1200.0    1100.0    1069.0    1000.0\n",
              "4        50000.0   57     -1      0  ...   10000.0    9000.0     689.0     679.0\n",
              "...          ...  ...    ...    ...  ...       ...       ...       ...       ...\n",
              "29995   220000.0   39      0      0  ...    5003.0    3047.0    5000.0    1000.0\n",
              "29996   150000.0   43     -1     -1  ...    8998.0     129.0       0.0       0.0\n",
              "29997    30000.0   37      4      3  ...   22000.0    4200.0    2000.0    3100.0\n",
              "29998    80000.0   41      1     -1  ...    1178.0    1926.0   52964.0    1804.0\n",
              "29999    50000.0   46      0      0  ...    1430.0    1000.0    1000.0    1000.0\n",
              "\n",
              "[30000 rows x 20 columns]"
            ]
          },
          "metadata": {
            "tags": []
          },
          "execution_count": 90
        }
      ]
    },
    {
      "cell_type": "code",
      "metadata": {
        "id": "pOjFqEmCke2S",
        "colab": {
          "base_uri": "https://localhost:8080/",
          "height": 422
        },
        "outputId": "802eb6d3-c819-4a1a-fd5b-b648f954887a"
      },
      "source": [
        "X_all = pd.concat([X_cat, X_numerical], axis = 1)\n",
        "X_all"
      ],
      "execution_count": null,
      "outputs": [
        {
          "output_type": "execute_result",
          "data": {
            "text/html": [
              "<div>\n",
              "<style scoped>\n",
              "    .dataframe tbody tr th:only-of-type {\n",
              "        vertical-align: middle;\n",
              "    }\n",
              "\n",
              "    .dataframe tbody tr th {\n",
              "        vertical-align: top;\n",
              "    }\n",
              "\n",
              "    .dataframe thead th {\n",
              "        text-align: right;\n",
              "    }\n",
              "</style>\n",
              "<table border=\"1\" class=\"dataframe\">\n",
              "  <thead>\n",
              "    <tr style=\"text-align: right;\">\n",
              "      <th></th>\n",
              "      <th>0</th>\n",
              "      <th>1</th>\n",
              "      <th>2</th>\n",
              "      <th>3</th>\n",
              "      <th>4</th>\n",
              "      <th>5</th>\n",
              "      <th>6</th>\n",
              "      <th>7</th>\n",
              "      <th>8</th>\n",
              "      <th>9</th>\n",
              "      <th>10</th>\n",
              "      <th>11</th>\n",
              "      <th>12</th>\n",
              "      <th>LIMIT_BAL</th>\n",
              "      <th>AGE</th>\n",
              "      <th>PAY_0</th>\n",
              "      <th>PAY_2</th>\n",
              "      <th>PAY_3</th>\n",
              "      <th>PAY_4</th>\n",
              "      <th>PAY_5</th>\n",
              "      <th>PAY_6</th>\n",
              "      <th>BILL_AMT1</th>\n",
              "      <th>BILL_AMT2</th>\n",
              "      <th>BILL_AMT3</th>\n",
              "      <th>BILL_AMT4</th>\n",
              "      <th>BILL_AMT5</th>\n",
              "      <th>BILL_AMT6</th>\n",
              "      <th>PAY_AMT1</th>\n",
              "      <th>PAY_AMT2</th>\n",
              "      <th>PAY_AMT3</th>\n",
              "      <th>PAY_AMT4</th>\n",
              "      <th>PAY_AMT5</th>\n",
              "      <th>PAY_AMT6</th>\n",
              "    </tr>\n",
              "  </thead>\n",
              "  <tbody>\n",
              "    <tr>\n",
              "      <th>0</th>\n",
              "      <td>0.0</td>\n",
              "      <td>1.0</td>\n",
              "      <td>0.0</td>\n",
              "      <td>0.0</td>\n",
              "      <td>1.0</td>\n",
              "      <td>0.0</td>\n",
              "      <td>0.0</td>\n",
              "      <td>0.0</td>\n",
              "      <td>0.0</td>\n",
              "      <td>0.0</td>\n",
              "      <td>1.0</td>\n",
              "      <td>0.0</td>\n",
              "      <td>0.0</td>\n",
              "      <td>20000.0</td>\n",
              "      <td>24</td>\n",
              "      <td>2</td>\n",
              "      <td>2</td>\n",
              "      <td>-1</td>\n",
              "      <td>-1</td>\n",
              "      <td>-2</td>\n",
              "      <td>-2</td>\n",
              "      <td>3913.0</td>\n",
              "      <td>3102.0</td>\n",
              "      <td>689.0</td>\n",
              "      <td>0.0</td>\n",
              "      <td>0.0</td>\n",
              "      <td>0.0</td>\n",
              "      <td>0.0</td>\n",
              "      <td>689.0</td>\n",
              "      <td>0.0</td>\n",
              "      <td>0.0</td>\n",
              "      <td>0.0</td>\n",
              "      <td>0.0</td>\n",
              "    </tr>\n",
              "    <tr>\n",
              "      <th>1</th>\n",
              "      <td>0.0</td>\n",
              "      <td>1.0</td>\n",
              "      <td>0.0</td>\n",
              "      <td>0.0</td>\n",
              "      <td>1.0</td>\n",
              "      <td>0.0</td>\n",
              "      <td>0.0</td>\n",
              "      <td>0.0</td>\n",
              "      <td>0.0</td>\n",
              "      <td>0.0</td>\n",
              "      <td>0.0</td>\n",
              "      <td>1.0</td>\n",
              "      <td>0.0</td>\n",
              "      <td>120000.0</td>\n",
              "      <td>26</td>\n",
              "      <td>-1</td>\n",
              "      <td>2</td>\n",
              "      <td>0</td>\n",
              "      <td>0</td>\n",
              "      <td>0</td>\n",
              "      <td>2</td>\n",
              "      <td>2682.0</td>\n",
              "      <td>1725.0</td>\n",
              "      <td>2682.0</td>\n",
              "      <td>3272.0</td>\n",
              "      <td>3455.0</td>\n",
              "      <td>3261.0</td>\n",
              "      <td>0.0</td>\n",
              "      <td>1000.0</td>\n",
              "      <td>1000.0</td>\n",
              "      <td>1000.0</td>\n",
              "      <td>0.0</td>\n",
              "      <td>2000.0</td>\n",
              "    </tr>\n",
              "    <tr>\n",
              "      <th>2</th>\n",
              "      <td>0.0</td>\n",
              "      <td>1.0</td>\n",
              "      <td>0.0</td>\n",
              "      <td>0.0</td>\n",
              "      <td>1.0</td>\n",
              "      <td>0.0</td>\n",
              "      <td>0.0</td>\n",
              "      <td>0.0</td>\n",
              "      <td>0.0</td>\n",
              "      <td>0.0</td>\n",
              "      <td>0.0</td>\n",
              "      <td>1.0</td>\n",
              "      <td>0.0</td>\n",
              "      <td>90000.0</td>\n",
              "      <td>34</td>\n",
              "      <td>0</td>\n",
              "      <td>0</td>\n",
              "      <td>0</td>\n",
              "      <td>0</td>\n",
              "      <td>0</td>\n",
              "      <td>0</td>\n",
              "      <td>29239.0</td>\n",
              "      <td>14027.0</td>\n",
              "      <td>13559.0</td>\n",
              "      <td>14331.0</td>\n",
              "      <td>14948.0</td>\n",
              "      <td>15549.0</td>\n",
              "      <td>1518.0</td>\n",
              "      <td>1500.0</td>\n",
              "      <td>1000.0</td>\n",
              "      <td>1000.0</td>\n",
              "      <td>1000.0</td>\n",
              "      <td>5000.0</td>\n",
              "    </tr>\n",
              "    <tr>\n",
              "      <th>3</th>\n",
              "      <td>0.0</td>\n",
              "      <td>1.0</td>\n",
              "      <td>0.0</td>\n",
              "      <td>0.0</td>\n",
              "      <td>1.0</td>\n",
              "      <td>0.0</td>\n",
              "      <td>0.0</td>\n",
              "      <td>0.0</td>\n",
              "      <td>0.0</td>\n",
              "      <td>0.0</td>\n",
              "      <td>1.0</td>\n",
              "      <td>0.0</td>\n",
              "      <td>0.0</td>\n",
              "      <td>50000.0</td>\n",
              "      <td>37</td>\n",
              "      <td>0</td>\n",
              "      <td>0</td>\n",
              "      <td>0</td>\n",
              "      <td>0</td>\n",
              "      <td>0</td>\n",
              "      <td>0</td>\n",
              "      <td>46990.0</td>\n",
              "      <td>48233.0</td>\n",
              "      <td>49291.0</td>\n",
              "      <td>28314.0</td>\n",
              "      <td>28959.0</td>\n",
              "      <td>29547.0</td>\n",
              "      <td>2000.0</td>\n",
              "      <td>2019.0</td>\n",
              "      <td>1200.0</td>\n",
              "      <td>1100.0</td>\n",
              "      <td>1069.0</td>\n",
              "      <td>1000.0</td>\n",
              "    </tr>\n",
              "    <tr>\n",
              "      <th>4</th>\n",
              "      <td>1.0</td>\n",
              "      <td>0.0</td>\n",
              "      <td>0.0</td>\n",
              "      <td>0.0</td>\n",
              "      <td>1.0</td>\n",
              "      <td>0.0</td>\n",
              "      <td>0.0</td>\n",
              "      <td>0.0</td>\n",
              "      <td>0.0</td>\n",
              "      <td>0.0</td>\n",
              "      <td>1.0</td>\n",
              "      <td>0.0</td>\n",
              "      <td>0.0</td>\n",
              "      <td>50000.0</td>\n",
              "      <td>57</td>\n",
              "      <td>-1</td>\n",
              "      <td>0</td>\n",
              "      <td>-1</td>\n",
              "      <td>0</td>\n",
              "      <td>0</td>\n",
              "      <td>0</td>\n",
              "      <td>8617.0</td>\n",
              "      <td>5670.0</td>\n",
              "      <td>35835.0</td>\n",
              "      <td>20940.0</td>\n",
              "      <td>19146.0</td>\n",
              "      <td>19131.0</td>\n",
              "      <td>2000.0</td>\n",
              "      <td>36681.0</td>\n",
              "      <td>10000.0</td>\n",
              "      <td>9000.0</td>\n",
              "      <td>689.0</td>\n",
              "      <td>679.0</td>\n",
              "    </tr>\n",
              "    <tr>\n",
              "      <th>...</th>\n",
              "      <td>...</td>\n",
              "      <td>...</td>\n",
              "      <td>...</td>\n",
              "      <td>...</td>\n",
              "      <td>...</td>\n",
              "      <td>...</td>\n",
              "      <td>...</td>\n",
              "      <td>...</td>\n",
              "      <td>...</td>\n",
              "      <td>...</td>\n",
              "      <td>...</td>\n",
              "      <td>...</td>\n",
              "      <td>...</td>\n",
              "      <td>...</td>\n",
              "      <td>...</td>\n",
              "      <td>...</td>\n",
              "      <td>...</td>\n",
              "      <td>...</td>\n",
              "      <td>...</td>\n",
              "      <td>...</td>\n",
              "      <td>...</td>\n",
              "      <td>...</td>\n",
              "      <td>...</td>\n",
              "      <td>...</td>\n",
              "      <td>...</td>\n",
              "      <td>...</td>\n",
              "      <td>...</td>\n",
              "      <td>...</td>\n",
              "      <td>...</td>\n",
              "      <td>...</td>\n",
              "      <td>...</td>\n",
              "      <td>...</td>\n",
              "      <td>...</td>\n",
              "    </tr>\n",
              "    <tr>\n",
              "      <th>29995</th>\n",
              "      <td>1.0</td>\n",
              "      <td>0.0</td>\n",
              "      <td>0.0</td>\n",
              "      <td>0.0</td>\n",
              "      <td>0.0</td>\n",
              "      <td>1.0</td>\n",
              "      <td>0.0</td>\n",
              "      <td>0.0</td>\n",
              "      <td>0.0</td>\n",
              "      <td>0.0</td>\n",
              "      <td>1.0</td>\n",
              "      <td>0.0</td>\n",
              "      <td>0.0</td>\n",
              "      <td>220000.0</td>\n",
              "      <td>39</td>\n",
              "      <td>0</td>\n",
              "      <td>0</td>\n",
              "      <td>0</td>\n",
              "      <td>0</td>\n",
              "      <td>0</td>\n",
              "      <td>0</td>\n",
              "      <td>188948.0</td>\n",
              "      <td>192815.0</td>\n",
              "      <td>208365.0</td>\n",
              "      <td>88004.0</td>\n",
              "      <td>31237.0</td>\n",
              "      <td>15980.0</td>\n",
              "      <td>8500.0</td>\n",
              "      <td>20000.0</td>\n",
              "      <td>5003.0</td>\n",
              "      <td>3047.0</td>\n",
              "      <td>5000.0</td>\n",
              "      <td>1000.0</td>\n",
              "    </tr>\n",
              "    <tr>\n",
              "      <th>29996</th>\n",
              "      <td>1.0</td>\n",
              "      <td>0.0</td>\n",
              "      <td>0.0</td>\n",
              "      <td>0.0</td>\n",
              "      <td>0.0</td>\n",
              "      <td>1.0</td>\n",
              "      <td>0.0</td>\n",
              "      <td>0.0</td>\n",
              "      <td>0.0</td>\n",
              "      <td>0.0</td>\n",
              "      <td>0.0</td>\n",
              "      <td>1.0</td>\n",
              "      <td>0.0</td>\n",
              "      <td>150000.0</td>\n",
              "      <td>43</td>\n",
              "      <td>-1</td>\n",
              "      <td>-1</td>\n",
              "      <td>-1</td>\n",
              "      <td>-1</td>\n",
              "      <td>0</td>\n",
              "      <td>0</td>\n",
              "      <td>1683.0</td>\n",
              "      <td>1828.0</td>\n",
              "      <td>3502.0</td>\n",
              "      <td>8979.0</td>\n",
              "      <td>5190.0</td>\n",
              "      <td>0.0</td>\n",
              "      <td>1837.0</td>\n",
              "      <td>3526.0</td>\n",
              "      <td>8998.0</td>\n",
              "      <td>129.0</td>\n",
              "      <td>0.0</td>\n",
              "      <td>0.0</td>\n",
              "    </tr>\n",
              "    <tr>\n",
              "      <th>29997</th>\n",
              "      <td>1.0</td>\n",
              "      <td>0.0</td>\n",
              "      <td>0.0</td>\n",
              "      <td>0.0</td>\n",
              "      <td>1.0</td>\n",
              "      <td>0.0</td>\n",
              "      <td>0.0</td>\n",
              "      <td>0.0</td>\n",
              "      <td>0.0</td>\n",
              "      <td>0.0</td>\n",
              "      <td>0.0</td>\n",
              "      <td>1.0</td>\n",
              "      <td>0.0</td>\n",
              "      <td>30000.0</td>\n",
              "      <td>37</td>\n",
              "      <td>4</td>\n",
              "      <td>3</td>\n",
              "      <td>2</td>\n",
              "      <td>-1</td>\n",
              "      <td>0</td>\n",
              "      <td>0</td>\n",
              "      <td>3565.0</td>\n",
              "      <td>3356.0</td>\n",
              "      <td>2758.0</td>\n",
              "      <td>20878.0</td>\n",
              "      <td>20582.0</td>\n",
              "      <td>19357.0</td>\n",
              "      <td>0.0</td>\n",
              "      <td>0.0</td>\n",
              "      <td>22000.0</td>\n",
              "      <td>4200.0</td>\n",
              "      <td>2000.0</td>\n",
              "      <td>3100.0</td>\n",
              "    </tr>\n",
              "    <tr>\n",
              "      <th>29998</th>\n",
              "      <td>1.0</td>\n",
              "      <td>0.0</td>\n",
              "      <td>0.0</td>\n",
              "      <td>0.0</td>\n",
              "      <td>0.0</td>\n",
              "      <td>1.0</td>\n",
              "      <td>0.0</td>\n",
              "      <td>0.0</td>\n",
              "      <td>0.0</td>\n",
              "      <td>0.0</td>\n",
              "      <td>1.0</td>\n",
              "      <td>0.0</td>\n",
              "      <td>0.0</td>\n",
              "      <td>80000.0</td>\n",
              "      <td>41</td>\n",
              "      <td>1</td>\n",
              "      <td>-1</td>\n",
              "      <td>0</td>\n",
              "      <td>0</td>\n",
              "      <td>0</td>\n",
              "      <td>-1</td>\n",
              "      <td>-1645.0</td>\n",
              "      <td>78379.0</td>\n",
              "      <td>76304.0</td>\n",
              "      <td>52774.0</td>\n",
              "      <td>11855.0</td>\n",
              "      <td>48944.0</td>\n",
              "      <td>85900.0</td>\n",
              "      <td>3409.0</td>\n",
              "      <td>1178.0</td>\n",
              "      <td>1926.0</td>\n",
              "      <td>52964.0</td>\n",
              "      <td>1804.0</td>\n",
              "    </tr>\n",
              "    <tr>\n",
              "      <th>29999</th>\n",
              "      <td>1.0</td>\n",
              "      <td>0.0</td>\n",
              "      <td>0.0</td>\n",
              "      <td>0.0</td>\n",
              "      <td>1.0</td>\n",
              "      <td>0.0</td>\n",
              "      <td>0.0</td>\n",
              "      <td>0.0</td>\n",
              "      <td>0.0</td>\n",
              "      <td>0.0</td>\n",
              "      <td>1.0</td>\n",
              "      <td>0.0</td>\n",
              "      <td>0.0</td>\n",
              "      <td>50000.0</td>\n",
              "      <td>46</td>\n",
              "      <td>0</td>\n",
              "      <td>0</td>\n",
              "      <td>0</td>\n",
              "      <td>0</td>\n",
              "      <td>0</td>\n",
              "      <td>0</td>\n",
              "      <td>47929.0</td>\n",
              "      <td>48905.0</td>\n",
              "      <td>49764.0</td>\n",
              "      <td>36535.0</td>\n",
              "      <td>32428.0</td>\n",
              "      <td>15313.0</td>\n",
              "      <td>2078.0</td>\n",
              "      <td>1800.0</td>\n",
              "      <td>1430.0</td>\n",
              "      <td>1000.0</td>\n",
              "      <td>1000.0</td>\n",
              "      <td>1000.0</td>\n",
              "    </tr>\n",
              "  </tbody>\n",
              "</table>\n",
              "<p>30000 rows × 33 columns</p>\n",
              "</div>"
            ],
            "text/plain": [
              "         0    1    2    3  ...  PAY_AMT3  PAY_AMT4  PAY_AMT5  PAY_AMT6\n",
              "0      0.0  1.0  0.0  0.0  ...       0.0       0.0       0.0       0.0\n",
              "1      0.0  1.0  0.0  0.0  ...    1000.0    1000.0       0.0    2000.0\n",
              "2      0.0  1.0  0.0  0.0  ...    1000.0    1000.0    1000.0    5000.0\n",
              "3      0.0  1.0  0.0  0.0  ...    1200.0    1100.0    1069.0    1000.0\n",
              "4      1.0  0.0  0.0  0.0  ...   10000.0    9000.0     689.0     679.0\n",
              "...    ...  ...  ...  ...  ...       ...       ...       ...       ...\n",
              "29995  1.0  0.0  0.0  0.0  ...    5003.0    3047.0    5000.0    1000.0\n",
              "29996  1.0  0.0  0.0  0.0  ...    8998.0     129.0       0.0       0.0\n",
              "29997  1.0  0.0  0.0  0.0  ...   22000.0    4200.0    2000.0    3100.0\n",
              "29998  1.0  0.0  0.0  0.0  ...    1178.0    1926.0   52964.0    1804.0\n",
              "29999  1.0  0.0  0.0  0.0  ...    1430.0    1000.0    1000.0    1000.0\n",
              "\n",
              "[30000 rows x 33 columns]"
            ]
          },
          "metadata": {
            "tags": []
          },
          "execution_count": 92
        }
      ]
    },
    {
      "cell_type": "code",
      "metadata": {
        "id": "9RnDq2T0ke0o"
      },
      "source": [
        "from sklearn.preprocessing import MinMaxScaler\n",
        "scaler = MinMaxScaler()\n",
        "X = scaler.fit_transform(X_all)"
      ],
      "execution_count": null,
      "outputs": []
    },
    {
      "cell_type": "code",
      "metadata": {
        "id": "Sfsu_l3Xko5d",
        "colab": {
          "base_uri": "https://localhost:8080/",
          "height": 218
        },
        "outputId": "84f1ed63-0059-4e6a-896f-c41de045d1bb"
      },
      "source": [
        "y = creditcard_df['default.payment.next.month']\n",
        "y"
      ],
      "execution_count": null,
      "outputs": [
        {
          "output_type": "execute_result",
          "data": {
            "text/plain": [
              "0        1\n",
              "1        1\n",
              "2        0\n",
              "3        0\n",
              "4        0\n",
              "        ..\n",
              "29995    0\n",
              "29996    0\n",
              "29997    1\n",
              "29998    1\n",
              "29999    1\n",
              "Name: default.payment.next.month, Length: 30000, dtype: int64"
            ]
          },
          "metadata": {
            "tags": []
          },
          "execution_count": 94
        }
      ]
    },
    {
      "cell_type": "markdown",
      "metadata": {
        "id": "gEtIwsk8JtK5"
      },
      "source": [
        "# TASK #5: UNDERSTAND THE THEORY AND INTUITION BEHIND XGBOOST ALGORITHM"
      ]
    },
    {
      "cell_type": "markdown",
      "metadata": {
        "id": "UhqcckCwPWsg"
      },
      "source": [
        "![alt text](https://drive.google.com/uc?id=1jFH01bj3HFgojFZoAf4lHPRo5t0Mmktx)"
      ]
    },
    {
      "cell_type": "markdown",
      "metadata": {
        "id": "CHG_8stZPWz9"
      },
      "source": [
        "![alt text](https://drive.google.com/uc?id=16K75Is5UOP-YQqneIR0yUpiR-Q7K5hfJ)"
      ]
    },
    {
      "cell_type": "markdown",
      "metadata": {
        "id": "m4D_1sQ2PW9J"
      },
      "source": [
        "![alt text](https://drive.google.com/uc?id=1JAfjOhzUMsfJOvcOzPvMMYQN56JHXW3R)"
      ]
    },
    {
      "cell_type": "markdown",
      "metadata": {
        "id": "z6mFqaj1PW6f"
      },
      "source": [
        "![alt text](https://drive.google.com/uc?id=1dn61Jz_zGpKv7VTLQvLbp_0S1XwP9X6W)"
      ]
    },
    {
      "cell_type": "markdown",
      "metadata": {
        "id": "E2jRi15pPW4X"
      },
      "source": [
        "![alt text](https://drive.google.com/uc?id=1qW-p617bJnRWzh-fWCQfXWyHF4F6vFzD)"
      ]
    },
    {
      "cell_type": "markdown",
      "metadata": {
        "id": "5U92jIVhQEOK"
      },
      "source": [
        "![alt text](https://drive.google.com/uc?id=1vywPBzlXqqrcg1K_rqEfeAjZAXjxXCCk)"
      ]
    },
    {
      "cell_type": "markdown",
      "metadata": {
        "id": "-Pcs_NUvQNcB"
      },
      "source": [
        "![alt text](https://drive.google.com/uc?id=1ZRG6Uo7r6W9DBFO5tDh90-xA57ajnnnn)"
      ]
    },
    {
      "cell_type": "markdown",
      "metadata": {
        "id": "OrkKSieRQTgz"
      },
      "source": [
        "![alt text](https://drive.google.com/uc?id=19t3DHRXvoz6o7-eG90L-4jHe0cfBdH_x)"
      ]
    },
    {
      "cell_type": "markdown",
      "metadata": {
        "id": "VwuHHxS6QaAm"
      },
      "source": [
        "![alt text](https://drive.google.com/uc?id=15xcYP8mOOEgUnR0rIXSovoIqUY3ySJRb)"
      ]
    },
    {
      "cell_type": "markdown",
      "metadata": {
        "id": "H2923IEdQiTv"
      },
      "source": [
        "![alt text](https://drive.google.com/uc?id=1Q3UzxrlwbH9jZkl6tEDO2L5AOanS-kqD)"
      ]
    },
    {
      "cell_type": "markdown",
      "metadata": {
        "id": "bSaiMocIQqiK"
      },
      "source": [
        "![alt text](https://drive.google.com/uc?id=1rDFPOeoX8pM60ZxnIg-K66IjbqRHHnPG)"
      ]
    },
    {
      "cell_type": "markdown",
      "metadata": {
        "id": "L06ueqFBYS-J"
      },
      "source": [
        "# TASK #6: UNDERSTAND XGBOOST ALGORITHM KEY STEPS"
      ]
    },
    {
      "cell_type": "markdown",
      "metadata": {
        "id": "jbWwT3jWQw2c"
      },
      "source": [
        "![alt text](https://drive.google.com/uc?id=13wDmGpYDA0c-lewGJWXpjVJcPav381Lh)"
      ]
    },
    {
      "cell_type": "markdown",
      "metadata": {
        "id": "uCufQqU7QxEd"
      },
      "source": [
        "![alt text](https://drive.google.com/uc?id=1Pxbku6A5FvJsvCsVl6sKk6N3PHg5_IRI)"
      ]
    },
    {
      "cell_type": "markdown",
      "metadata": {
        "id": "6vh5lX0tQxRR"
      },
      "source": [
        "![alt text](https://drive.google.com/uc?id=1Q6-oFxjZEAU4qUFzPXj3hKXQMWQlPx99)"
      ]
    },
    {
      "cell_type": "markdown",
      "metadata": {
        "id": "b9JvNDonSt4S"
      },
      "source": [
        "![alt text](https://drive.google.com/uc?id=1djdQCC99-bZBRB7txj_jT68a8-IHixl6)"
      ]
    },
    {
      "cell_type": "markdown",
      "metadata": {
        "id": "pzU8uMEhSuE3"
      },
      "source": [
        "![alt text](https://drive.google.com/uc?id=1cStZqzA9ez-EfvSoM8S_1xEMtYBjRMOB)"
      ]
    },
    {
      "cell_type": "markdown",
      "metadata": {
        "id": "KCk6QpJ9SuCQ"
      },
      "source": [
        "![alt text](https://drive.google.com/uc?id=1IF2iJ_uquTRJ89lA5PIEX0WfF42ONIwt)"
      ]
    },
    {
      "cell_type": "markdown",
      "metadata": {
        "id": "ozKbAVu6St_j"
      },
      "source": [
        "![alt text](https://drive.google.com/uc?id=1FoknM1AqDlDa4xdLyshs0KNE4kA1nCLY)"
      ]
    },
    {
      "cell_type": "markdown",
      "metadata": {
        "id": "y125yGORSt9l"
      },
      "source": [
        "![alt text](https://drive.google.com/uc?id=1ZJ5vqYAur2p9G6bZkO9XjPbeSME1k3Wo)"
      ]
    },
    {
      "cell_type": "markdown",
      "metadata": {
        "id": "Zzolh-bkSt1M"
      },
      "source": [
        "![alt text](https://drive.google.com/uc?id=1XMBkju1Ej6RXm-lEvVKwuiMklnUv6WWT)"
      ]
    },
    {
      "cell_type": "markdown",
      "metadata": {
        "id": "AI-PVfZjQxaH"
      },
      "source": [
        "![alt text](https://drive.google.com/uc?id=1jINWBW2OT1BPLK6As0LyYESdcGcnbrYM)"
      ]
    },
    {
      "cell_type": "markdown",
      "metadata": {
        "id": "9vrsZhYEQxha"
      },
      "source": [
        "![alt text](https://drive.google.com/uc?id=1jgF3Q2FUTbNpAC-d5EDXOVAa7xnI68mK)"
      ]
    },
    {
      "cell_type": "markdown",
      "metadata": {
        "id": "_oabhKbdlTrJ"
      },
      "source": [
        "# TASK #7: TRAIN AND EVALUATE AN XGBOOST CLASSIFIER (LOCALLY)\n"
      ]
    },
    {
      "cell_type": "code",
      "metadata": {
        "id": "1Ql5MIMMlWq3"
      },
      "source": [
        "from sklearn.model_selection import train_test_split\n",
        "X_train, X_test, y_train, y_test = train_test_split(X, y, test_size = 0.25)"
      ],
      "execution_count": null,
      "outputs": []
    },
    {
      "cell_type": "code",
      "metadata": {
        "id": "KWtxnGyElZ1l",
        "colab": {
          "base_uri": "https://localhost:8080/",
          "height": 34
        },
        "outputId": "a571c65d-44c9-4709-c0ef-8e9d259955f5"
      },
      "source": [
        "X_train.shape"
      ],
      "execution_count": null,
      "outputs": [
        {
          "output_type": "execute_result",
          "data": {
            "text/plain": [
              "(22500, 33)"
            ]
          },
          "metadata": {
            "tags": []
          },
          "execution_count": 96
        }
      ]
    },
    {
      "cell_type": "code",
      "metadata": {
        "id": "6aEFOxqdlZ4M",
        "colab": {
          "base_uri": "https://localhost:8080/",
          "height": 34
        },
        "outputId": "2c5980a8-4f2c-47ab-81a5-b38081dab119"
      },
      "source": [
        "X_test.shape"
      ],
      "execution_count": null,
      "outputs": [
        {
          "output_type": "execute_result",
          "data": {
            "text/plain": [
              "(7500, 33)"
            ]
          },
          "metadata": {
            "tags": []
          },
          "execution_count": 97
        }
      ]
    },
    {
      "cell_type": "code",
      "metadata": {
        "id": "LeEJoWKzzGGC",
        "colab": {
          "base_uri": "https://localhost:8080/",
          "height": 67
        },
        "outputId": "297331c7-f086-4667-97ec-728196aa227f"
      },
      "source": [
        "!pip install xgboost"
      ],
      "execution_count": null,
      "outputs": [
        {
          "output_type": "stream",
          "text": [
            "Requirement already satisfied: xgboost in /usr/local/lib/python3.6/dist-packages (0.90)\n",
            "Requirement already satisfied: numpy in /usr/local/lib/python3.6/dist-packages (from xgboost) (1.18.5)\n",
            "Requirement already satisfied: scipy in /usr/local/lib/python3.6/dist-packages (from xgboost) (1.4.1)\n"
          ],
          "name": "stdout"
        }
      ]
    },
    {
      "cell_type": "code",
      "metadata": {
        "id": "_vnKdYjry4pr",
        "colab": {
          "base_uri": "https://localhost:8080/",
          "height": 134
        },
        "outputId": "7c74effe-697d-4883-dcff-9b1c3a5fa4f8"
      },
      "source": [
        "# Train an XGBoost regressor model \n",
        "\n",
        "import xgboost as xgb\n",
        "\n",
        "\n",
        "model = xgb.XGBClassifier(objective ='reg:squarederror', learning_rate = 0.1, max_depth = 5, n_estimators = 100)\n",
        "\n",
        "model.fit(X_train, y_train)"
      ],
      "execution_count": null,
      "outputs": [
        {
          "output_type": "execute_result",
          "data": {
            "text/plain": [
              "XGBClassifier(base_score=0.5, booster='gbtree', colsample_bylevel=1,\n",
              "              colsample_bynode=1, colsample_bytree=1, gamma=0,\n",
              "              learning_rate=0.1, max_delta_step=0, max_depth=5,\n",
              "              min_child_weight=1, missing=None, n_estimators=100, n_jobs=1,\n",
              "              nthread=None, objective='reg:squarederror', random_state=0,\n",
              "              reg_alpha=0, reg_lambda=1, scale_pos_weight=1, seed=None,\n",
              "              silent=None, subsample=1, verbosity=1)"
            ]
          },
          "metadata": {
            "tags": []
          },
          "execution_count": 107
        }
      ]
    },
    {
      "cell_type": "code",
      "metadata": {
        "id": "rp7L11rclZ75"
      },
      "source": [
        "from sklearn.metrics import accuracy_score\n",
        "\n",
        "y_pred = model.predict(X_test)\n"
      ],
      "execution_count": null,
      "outputs": []
    },
    {
      "cell_type": "code",
      "metadata": {
        "id": "oZz4g97tlZ6N",
        "colab": {
          "base_uri": "https://localhost:8080/",
          "height": 34
        },
        "outputId": "0819b9dd-9dad-404c-d4d7-100dc46650a5"
      },
      "source": [
        "y_pred"
      ],
      "execution_count": null,
      "outputs": [
        {
          "output_type": "execute_result",
          "data": {
            "text/plain": [
              "array([0, 0, 0, ..., 0, 1, 0])"
            ]
          },
          "metadata": {
            "tags": []
          },
          "execution_count": 109
        }
      ]
    },
    {
      "cell_type": "code",
      "metadata": {
        "id": "a0a526t8ldm2",
        "colab": {
          "base_uri": "https://localhost:8080/",
          "height": 34
        },
        "outputId": "67fd771a-3197-4323-96a9-397dc90dc3b9"
      },
      "source": [
        "from sklearn.metrics import confusion_matrix, classification_report\n",
        "\n",
        "print(\"Accuracy {} %\".format( 100 * accuracy_score(y_pred, y_test)))"
      ],
      "execution_count": null,
      "outputs": [
        {
          "output_type": "stream",
          "text": [
            "Accuracy 81.94666666666667 %\n"
          ],
          "name": "stdout"
        }
      ]
    },
    {
      "cell_type": "code",
      "metadata": {
        "id": "Od4hj5_EldrJ",
        "colab": {
          "base_uri": "https://localhost:8080/",
          "height": 282
        },
        "outputId": "7cd564b3-7925-4e20-a725-04f0438f7852"
      },
      "source": [
        "# Testing Set Performance\n",
        "cm = confusion_matrix(y_pred, y_test)\n",
        "sns.heatmap(cm, annot=True)"
      ],
      "execution_count": null,
      "outputs": [
        {
          "output_type": "execute_result",
          "data": {
            "text/plain": [
              "<matplotlib.axes._subplots.AxesSubplot at 0x7f3333fe1a90>"
            ]
          },
          "metadata": {
            "tags": []
          },
          "execution_count": 111
        },
        {
          "output_type": "display_data",
          "data": {
            "image/png": "[encoded data removed]",
            "text/plain": [
              "<Figure size 432x288 with 2 Axes>"
            ]
          },
          "metadata": {
            "tags": [],
            "needs_background": "light"
          }
        }
      ]
    },
    {
      "cell_type": "code",
      "metadata": {
        "id": "bupPWKEOldtV",
        "colab": {
          "base_uri": "https://localhost:8080/",
          "height": 168
        },
        "outputId": "7a5aeef7-0648-4fa0-b1bf-2b2c0712ba44"
      },
      "source": [
        "print(classification_report(y_test, y_pred))"
      ],
      "execution_count": null,
      "outputs": [
        {
          "output_type": "stream",
          "text": [
            "              precision    recall  f1-score   support\n",
            "\n",
            "           0       0.84      0.95      0.89      5815\n",
            "           1       0.69      0.36      0.47      1685\n",
            "\n",
            "    accuracy                           0.82      7500\n",
            "   macro avg       0.76      0.66      0.68      7500\n",
            "weighted avg       0.80      0.82      0.80      7500\n",
            "\n"
          ],
          "name": "stdout"
        }
      ]
    },
    {
      "cell_type": "markdown",
      "metadata": {
        "id": "bxcE1bLGz5hZ"
      },
      "source": [
        "# TASK #8: OPTIMIZE XGBOOST HYPERPARAMETERS BY PERFORMING GRID SEARCH"
      ]
    },
    {
      "cell_type": "code",
      "metadata": {
        "id": "SE7szVIY0M0d"
      },
      "source": [
        "param_grid = {\n",
        "        'gamma': [0.5, 1, 5],   # regularization parameter \n",
        "        'subsample': [0.6, 0.8, 1.0], # % of rows taken to build each tree\n",
        "        'colsample_bytree': [0.6, 0.8, 1.0], # number of columns used by each tree\n",
        "        'max_depth': [3, 4, 5] # depth of each tree\n",
        "        }"
      ],
      "execution_count": null,
      "outputs": []
    },
    {
      "cell_type": "code",
      "metadata": {
        "id": "eHgd0IfW0D0U",
        "colab": {
          "base_uri": "https://localhost:8080/",
          "height": 1000
        },
        "outputId": "1544a058-6774-41d9-d08d-a0ad0b103b47"
      },
      "source": [
        "from xgboost import XGBClassifier\n",
        "\n",
        "xgb_model = XGBClassifier(learning_rate=0.01, n_estimators=100, objective='binary:logistic')\n",
        "from sklearn.model_selection import GridSearchCV\n",
        "grid = GridSearchCV(xgb_model, param_grid, refit = True, verbose = 4)\n",
        "grid.fit(X_train, y_train)"
      ],
      "execution_count": null,
      "outputs": [
        {
          "output_type": "stream",
          "text": [
            "Fitting 5 folds for each of 81 candidates, totalling 405 fits\n",
            "[CV] colsample_bytree=0.6, gamma=0.5, max_depth=3, subsample=0.6 .....\n"
          ],
          "name": "stdout"
        },
        {
          "output_type": "stream",
          "text": [
            "[Parallel(n_jobs=1)]: Using backend SequentialBackend with 1 concurrent workers.\n"
          ],
          "name": "stderr"
        },
        {
          "output_type": "stream",
          "text": [
            "[CV]  colsample_bytree=0.6, gamma=0.5, max_depth=3, subsample=0.6, score=0.816, total=   1.9s\n",
            "[CV] colsample_bytree=0.6, gamma=0.5, max_depth=3, subsample=0.6 .....\n"
          ],
          "name": "stdout"
        },
        {
          "output_type": "stream",
          "text": [
            "[Parallel(n_jobs=1)]: Done   1 out of   1 | elapsed:    1.9s remaining:    0.0s\n"
          ],
          "name": "stderr"
        },
        {
          "output_type": "stream",
          "text": [
            "[CV]  colsample_bytree=0.6, gamma=0.5, max_depth=3, subsample=0.6, score=0.819, total=   1.9s\n",
            "[CV] colsample_bytree=0.6, gamma=0.5, max_depth=3, subsample=0.6 .....\n"
          ],
          "name": "stdout"
        },
        {
          "output_type": "stream",
          "text": [
            "[Parallel(n_jobs=1)]: Done   2 out of   2 | elapsed:    3.8s remaining:    0.0s\n"
          ],
          "name": "stderr"
        },
        {
          "output_type": "stream",
          "text": [
            "[CV]  colsample_bytree=0.6, gamma=0.5, max_depth=3, subsample=0.6, score=0.806, total=   1.9s\n",
            "[CV] colsample_bytree=0.6, gamma=0.5, max_depth=3, subsample=0.6 .....\n"
          ],
          "name": "stdout"
        },
        {
          "output_type": "stream",
          "text": [
            "[Parallel(n_jobs=1)]: Done   3 out of   3 | elapsed:    5.6s remaining:    0.0s\n"
          ],
          "name": "stderr"
        },
        {
          "output_type": "stream",
          "text": [
            "[CV]  colsample_bytree=0.6, gamma=0.5, max_depth=3, subsample=0.6, score=0.819, total=   1.9s\n",
            "[CV] colsample_bytree=0.6, gamma=0.5, max_depth=3, subsample=0.6 .....\n",
            "[CV]  colsample_bytree=0.6, gamma=0.5, max_depth=3, subsample=0.6, score=0.813, total=   1.9s\n",
            "[CV] colsample_bytree=0.6, gamma=0.5, max_depth=3, subsample=0.8 .....\n",
            "[CV]  colsample_bytree=0.6, gamma=0.5, max_depth=3, subsample=0.8, score=0.815, total=   1.7s\n",
            "[CV] colsample_bytree=0.6, gamma=0.5, max_depth=3, subsample=0.8 .....\n",
            "[CV]  colsample_bytree=0.6, gamma=0.5, max_depth=3, subsample=0.8, score=0.819, total=   1.7s\n",
            "[CV] colsample_bytree=0.6, gamma=0.5, max_depth=3, subsample=0.8 .....\n",
            "[CV]  colsample_bytree=0.6, gamma=0.5, max_depth=3, subsample=0.8, score=0.806, total=   1.8s\n",
            "[CV] colsample_bytree=0.6, gamma=0.5, max_depth=3, subsample=0.8 .....\n",
            "[CV]  colsample_bytree=0.6, gamma=0.5, max_depth=3, subsample=0.8, score=0.818, total=   1.7s\n",
            "[CV] colsample_bytree=0.6, gamma=0.5, max_depth=3, subsample=0.8 .....\n",
            "[CV]  colsample_bytree=0.6, gamma=0.5, max_depth=3, subsample=0.8, score=0.813, total=   1.8s\n",
            "[CV] colsample_bytree=0.6, gamma=0.5, max_depth=3, subsample=1.0 .....\n",
            "[CV]  colsample_bytree=0.6, gamma=0.5, max_depth=3, subsample=1.0, score=0.812, total=   1.6s\n",
            "[CV] colsample_bytree=0.6, gamma=0.5, max_depth=3, subsample=1.0 .....\n",
            "[CV]  colsample_bytree=0.6, gamma=0.5, max_depth=3, subsample=1.0, score=0.818, total=   1.6s\n",
            "[CV] colsample_bytree=0.6, gamma=0.5, max_depth=3, subsample=1.0 .....\n",
            "[CV]  colsample_bytree=0.6, gamma=0.5, max_depth=3, subsample=1.0, score=0.805, total=   1.6s\n",
            "[CV] colsample_bytree=0.6, gamma=0.5, max_depth=3, subsample=1.0 .....\n",
            "[CV]  colsample_bytree=0.6, gamma=0.5, max_depth=3, subsample=1.0, score=0.819, total=   1.6s\n",
            "[CV] colsample_bytree=0.6, gamma=0.5, max_depth=3, subsample=1.0 .....\n",
            "[CV]  colsample_bytree=0.6, gamma=0.5, max_depth=3, subsample=1.0, score=0.812, total=   1.6s\n",
            "[CV] colsample_bytree=0.6, gamma=0.5, max_depth=4, subsample=0.6 .....\n",
            "[CV]  colsample_bytree=0.6, gamma=0.5, max_depth=4, subsample=0.6, score=0.814, total=   2.4s\n",
            "[CV] colsample_bytree=0.6, gamma=0.5, max_depth=4, subsample=0.6 .....\n",
            "[CV]  colsample_bytree=0.6, gamma=0.5, max_depth=4, subsample=0.6, score=0.820, total=   2.4s\n",
            "[CV] colsample_bytree=0.6, gamma=0.5, max_depth=4, subsample=0.6 .....\n",
            "[CV]  colsample_bytree=0.6, gamma=0.5, max_depth=4, subsample=0.6, score=0.806, total=   2.4s\n",
            "[CV] colsample_bytree=0.6, gamma=0.5, max_depth=4, subsample=0.6 .....\n",
            "[CV]  colsample_bytree=0.6, gamma=0.5, max_depth=4, subsample=0.6, score=0.820, total=   2.4s\n",
            "[CV] colsample_bytree=0.6, gamma=0.5, max_depth=4, subsample=0.6 .....\n",
            "[CV]  colsample_bytree=0.6, gamma=0.5, max_depth=4, subsample=0.6, score=0.814, total=   2.4s\n",
            "[CV] colsample_bytree=0.6, gamma=0.5, max_depth=4, subsample=0.8 .....\n",
            "[CV]  colsample_bytree=0.6, gamma=0.5, max_depth=4, subsample=0.8, score=0.816, total=   2.2s\n",
            "[CV] colsample_bytree=0.6, gamma=0.5, max_depth=4, subsample=0.8 .....\n",
            "[CV]  colsample_bytree=0.6, gamma=0.5, max_depth=4, subsample=0.8, score=0.820, total=   2.2s\n",
            "[CV] colsample_bytree=0.6, gamma=0.5, max_depth=4, subsample=0.8 .....\n",
            "[CV]  colsample_bytree=0.6, gamma=0.5, max_depth=4, subsample=0.8, score=0.805, total=   2.3s\n",
            "[CV] colsample_bytree=0.6, gamma=0.5, max_depth=4, subsample=0.8 .....\n",
            "[CV]  colsample_bytree=0.6, gamma=0.5, max_depth=4, subsample=0.8, score=0.821, total=   2.2s\n",
            "[CV] colsample_bytree=0.6, gamma=0.5, max_depth=4, subsample=0.8 .....\n",
            "[CV]  colsample_bytree=0.6, gamma=0.5, max_depth=4, subsample=0.8, score=0.812, total=   2.2s\n",
            "[CV] colsample_bytree=0.6, gamma=0.5, max_depth=4, subsample=1.0 .....\n",
            "[CV]  colsample_bytree=0.6, gamma=0.5, max_depth=4, subsample=1.0, score=0.814, total=   2.0s\n",
            "[CV] colsample_bytree=0.6, gamma=0.5, max_depth=4, subsample=1.0 .....\n",
            "[CV]  colsample_bytree=0.6, gamma=0.5, max_depth=4, subsample=1.0, score=0.817, total=   2.1s\n",
            "[CV] colsample_bytree=0.6, gamma=0.5, max_depth=4, subsample=1.0 .....\n",
            "[CV]  colsample_bytree=0.6, gamma=0.5, max_depth=4, subsample=1.0, score=0.803, total=   2.1s\n",
            "[CV] colsample_bytree=0.6, gamma=0.5, max_depth=4, subsample=1.0 .....\n",
            "[CV]  colsample_bytree=0.6, gamma=0.5, max_depth=4, subsample=1.0, score=0.818, total=   2.1s\n",
            "[CV] colsample_bytree=0.6, gamma=0.5, max_depth=4, subsample=1.0 .....\n",
            "[CV]  colsample_bytree=0.6, gamma=0.5, max_depth=4, subsample=1.0, score=0.813, total=   2.0s\n",
            "[CV] colsample_bytree=0.6, gamma=0.5, max_depth=5, subsample=0.6 .....\n",
            "[CV]  colsample_bytree=0.6, gamma=0.5, max_depth=5, subsample=0.6, score=0.816, total=   3.0s\n",
            "[CV] colsample_bytree=0.6, gamma=0.5, max_depth=5, subsample=0.6 .....\n",
            "[CV]  colsample_bytree=0.6, gamma=0.5, max_depth=5, subsample=0.6, score=0.820, total=   3.0s\n",
            "[CV] colsample_bytree=0.6, gamma=0.5, max_depth=5, subsample=0.6 .....\n",
            "[CV]  colsample_bytree=0.6, gamma=0.5, max_depth=5, subsample=0.6, score=0.805, total=   3.0s\n",
            "[CV] colsample_bytree=0.6, gamma=0.5, max_depth=5, subsample=0.6 .....\n",
            "[CV]  colsample_bytree=0.6, gamma=0.5, max_depth=5, subsample=0.6, score=0.821, total=   3.0s\n",
            "[CV] colsample_bytree=0.6, gamma=0.5, max_depth=5, subsample=0.6 .....\n",
            "[CV]  colsample_bytree=0.6, gamma=0.5, max_depth=5, subsample=0.6, score=0.815, total=   3.0s\n",
            "[CV] colsample_bytree=0.6, gamma=0.5, max_depth=5, subsample=0.8 .....\n",
            "[CV]  colsample_bytree=0.6, gamma=0.5, max_depth=5, subsample=0.8, score=0.815, total=   2.8s\n",
            "[CV] colsample_bytree=0.6, gamma=0.5, max_depth=5, subsample=0.8 .....\n",
            "[CV]  colsample_bytree=0.6, gamma=0.5, max_depth=5, subsample=0.8, score=0.818, total=   2.8s\n",
            "[CV] colsample_bytree=0.6, gamma=0.5, max_depth=5, subsample=0.8 .....\n",
            "[CV]  colsample_bytree=0.6, gamma=0.5, max_depth=5, subsample=0.8, score=0.806, total=   2.8s\n",
            "[CV] colsample_bytree=0.6, gamma=0.5, max_depth=5, subsample=0.8 .....\n",
            "[CV]  colsample_bytree=0.6, gamma=0.5, max_depth=5, subsample=0.8, score=0.820, total=   2.8s\n",
            "[CV] colsample_bytree=0.6, gamma=0.5, max_depth=5, subsample=0.8 .....\n",
            "[CV]  colsample_bytree=0.6, gamma=0.5, max_depth=5, subsample=0.8, score=0.815, total=   2.8s\n",
            "[CV] colsample_bytree=0.6, gamma=0.5, max_depth=5, subsample=1.0 .....\n",
            "[CV]  colsample_bytree=0.6, gamma=0.5, max_depth=5, subsample=1.0, score=0.814, total=   2.6s\n",
            "[CV] colsample_bytree=0.6, gamma=0.5, max_depth=5, subsample=1.0 .....\n",
            "[CV]  colsample_bytree=0.6, gamma=0.5, max_depth=5, subsample=1.0, score=0.816, total=   2.6s\n",
            "[CV] colsample_bytree=0.6, gamma=0.5, max_depth=5, subsample=1.0 .....\n",
            "[CV]  colsample_bytree=0.6, gamma=0.5, max_depth=5, subsample=1.0, score=0.805, total=   2.6s\n",
            "[CV] colsample_bytree=0.6, gamma=0.5, max_depth=5, subsample=1.0 .....\n",
            "[CV]  colsample_bytree=0.6, gamma=0.5, max_depth=5, subsample=1.0, score=0.819, total=   2.5s\n",
            "[CV] colsample_bytree=0.6, gamma=0.5, max_depth=5, subsample=1.0 .....\n",
            "[CV]  colsample_bytree=0.6, gamma=0.5, max_depth=5, subsample=1.0, score=0.813, total=   2.5s\n",
            "[CV] colsample_bytree=0.6, gamma=1, max_depth=3, subsample=0.6 .......\n",
            "[CV]  colsample_bytree=0.6, gamma=1, max_depth=3, subsample=0.6, score=0.816, total=   1.9s\n",
            "[CV] colsample_bytree=0.6, gamma=1, max_depth=3, subsample=0.6 .......\n",
            "[CV]  colsample_bytree=0.6, gamma=1, max_depth=3, subsample=0.6, score=0.819, total=   1.9s\n",
            "[CV] colsample_bytree=0.6, gamma=1, max_depth=3, subsample=0.6 .......\n",
            "[CV]  colsample_bytree=0.6, gamma=1, max_depth=3, subsample=0.6, score=0.806, total=   1.9s\n",
            "[CV] colsample_bytree=0.6, gamma=1, max_depth=3, subsample=0.6 .......\n",
            "[CV]  colsample_bytree=0.6, gamma=1, max_depth=3, subsample=0.6, score=0.819, total=   1.9s\n",
            "[CV] colsample_bytree=0.6, gamma=1, max_depth=3, subsample=0.6 .......\n",
            "[CV]  colsample_bytree=0.6, gamma=1, max_depth=3, subsample=0.6, score=0.813, total=   1.9s\n",
            "[CV] colsample_bytree=0.6, gamma=1, max_depth=3, subsample=0.8 .......\n",
            "[CV]  colsample_bytree=0.6, gamma=1, max_depth=3, subsample=0.8, score=0.815, total=   1.7s\n",
            "[CV] colsample_bytree=0.6, gamma=1, max_depth=3, subsample=0.8 .......\n",
            "[CV]  colsample_bytree=0.6, gamma=1, max_depth=3, subsample=0.8, score=0.819, total=   1.8s\n",
            "[CV] colsample_bytree=0.6, gamma=1, max_depth=3, subsample=0.8 .......\n",
            "[CV]  colsample_bytree=0.6, gamma=1, max_depth=3, subsample=0.8, score=0.806, total=   1.7s\n",
            "[CV] colsample_bytree=0.6, gamma=1, max_depth=3, subsample=0.8 .......\n",
            "[CV]  colsample_bytree=0.6, gamma=1, max_depth=3, subsample=0.8, score=0.818, total=   1.8s\n",
            "[CV] colsample_bytree=0.6, gamma=1, max_depth=3, subsample=0.8 .......\n",
            "[CV]  colsample_bytree=0.6, gamma=1, max_depth=3, subsample=0.8, score=0.813, total=   1.8s\n",
            "[CV] colsample_bytree=0.6, gamma=1, max_depth=3, subsample=1.0 .......\n",
            "[CV]  colsample_bytree=0.6, gamma=1, max_depth=3, subsample=1.0, score=0.812, total=   1.6s\n",
            "[CV] colsample_bytree=0.6, gamma=1, max_depth=3, subsample=1.0 .......\n",
            "[CV]  colsample_bytree=0.6, gamma=1, max_depth=3, subsample=1.0, score=0.818, total=   1.6s\n",
            "[CV] colsample_bytree=0.6, gamma=1, max_depth=3, subsample=1.0 .......\n",
            "[CV]  colsample_bytree=0.6, gamma=1, max_depth=3, subsample=1.0, score=0.805, total=   1.6s\n",
            "[CV] colsample_bytree=0.6, gamma=1, max_depth=3, subsample=1.0 .......\n",
            "[CV]  colsample_bytree=0.6, gamma=1, max_depth=3, subsample=1.0, score=0.819, total=   1.6s\n",
            "[CV] colsample_bytree=0.6, gamma=1, max_depth=3, subsample=1.0 .......\n",
            "[CV]  colsample_bytree=0.6, gamma=1, max_depth=3, subsample=1.0, score=0.812, total=   1.6s\n",
            "[CV] colsample_bytree=0.6, gamma=1, max_depth=4, subsample=0.6 .......\n",
            "[CV]  colsample_bytree=0.6, gamma=1, max_depth=4, subsample=0.6, score=0.814, total=   2.4s\n",
            "[CV] colsample_bytree=0.6, gamma=1, max_depth=4, subsample=0.6 .......\n",
            "[CV]  colsample_bytree=0.6, gamma=1, max_depth=4, subsample=0.6, score=0.820, total=   2.4s\n",
            "[CV] colsample_bytree=0.6, gamma=1, max_depth=4, subsample=0.6 .......\n",
            "[CV]  colsample_bytree=0.6, gamma=1, max_depth=4, subsample=0.6, score=0.806, total=   2.4s\n",
            "[CV] colsample_bytree=0.6, gamma=1, max_depth=4, subsample=0.6 .......\n",
            "[CV]  colsample_bytree=0.6, gamma=1, max_depth=4, subsample=0.6, score=0.820, total=   2.4s\n",
            "[CV] colsample_bytree=0.6, gamma=1, max_depth=4, subsample=0.6 .......\n",
            "[CV]  colsample_bytree=0.6, gamma=1, max_depth=4, subsample=0.6, score=0.814, total=   2.4s\n",
            "[CV] colsample_bytree=0.6, gamma=1, max_depth=4, subsample=0.8 .......\n",
            "[CV]  colsample_bytree=0.6, gamma=1, max_depth=4, subsample=0.8, score=0.816, total=   2.2s\n",
            "[CV] colsample_bytree=0.6, gamma=1, max_depth=4, subsample=0.8 .......\n",
            "[CV]  colsample_bytree=0.6, gamma=1, max_depth=4, subsample=0.8, score=0.820, total=   2.2s\n",
            "[CV] colsample_bytree=0.6, gamma=1, max_depth=4, subsample=0.8 .......\n",
            "[CV]  colsample_bytree=0.6, gamma=1, max_depth=4, subsample=0.8, score=0.806, total=   2.2s\n",
            "[CV] colsample_bytree=0.6, gamma=1, max_depth=4, subsample=0.8 .......\n",
            "[CV]  colsample_bytree=0.6, gamma=1, max_depth=4, subsample=0.8, score=0.820, total=   2.2s\n",
            "[CV] colsample_bytree=0.6, gamma=1, max_depth=4, subsample=0.8 .......\n",
            "[CV]  colsample_bytree=0.6, gamma=1, max_depth=4, subsample=0.8, score=0.812, total=   2.2s\n",
            "[CV] colsample_bytree=0.6, gamma=1, max_depth=4, subsample=1.0 .......\n",
            "[CV]  colsample_bytree=0.6, gamma=1, max_depth=4, subsample=1.0, score=0.814, total=   2.0s\n",
            "[CV] colsample_bytree=0.6, gamma=1, max_depth=4, subsample=1.0 .......\n",
            "[CV]  colsample_bytree=0.6, gamma=1, max_depth=4, subsample=1.0, score=0.817, total=   2.0s\n",
            "[CV] colsample_bytree=0.6, gamma=1, max_depth=4, subsample=1.0 .......\n",
            "[CV]  colsample_bytree=0.6, gamma=1, max_depth=4, subsample=1.0, score=0.803, total=   2.0s\n",
            "[CV] colsample_bytree=0.6, gamma=1, max_depth=4, subsample=1.0 .......\n",
            "[CV]  colsample_bytree=0.6, gamma=1, max_depth=4, subsample=1.0, score=0.818, total=   2.1s\n",
            "[CV] colsample_bytree=0.6, gamma=1, max_depth=4, subsample=1.0 .......\n",
            "[CV]  colsample_bytree=0.6, gamma=1, max_depth=4, subsample=1.0, score=0.813, total=   2.0s\n",
            "[CV] colsample_bytree=0.6, gamma=1, max_depth=5, subsample=0.6 .......\n",
            "[CV]  colsample_bytree=0.6, gamma=1, max_depth=5, subsample=0.6, score=0.816, total=   3.0s\n",
            "[CV] colsample_bytree=0.6, gamma=1, max_depth=5, subsample=0.6 .......\n",
            "[CV]  colsample_bytree=0.6, gamma=1, max_depth=5, subsample=0.6, score=0.820, total=   3.0s\n",
            "[CV] colsample_bytree=0.6, gamma=1, max_depth=5, subsample=0.6 .......\n",
            "[CV]  colsample_bytree=0.6, gamma=1, max_depth=5, subsample=0.6, score=0.805, total=   3.0s\n",
            "[CV] colsample_bytree=0.6, gamma=1, max_depth=5, subsample=0.6 .......\n",
            "[CV]  colsample_bytree=0.6, gamma=1, max_depth=5, subsample=0.6, score=0.821, total=   3.0s\n",
            "[CV] colsample_bytree=0.6, gamma=1, max_depth=5, subsample=0.6 .......\n",
            "[CV]  colsample_bytree=0.6, gamma=1, max_depth=5, subsample=0.6, score=0.816, total=   3.0s\n",
            "[CV] colsample_bytree=0.6, gamma=1, max_depth=5, subsample=0.8 .......\n",
            "[CV]  colsample_bytree=0.6, gamma=1, max_depth=5, subsample=0.8, score=0.815, total=   2.8s\n",
            "[CV] colsample_bytree=0.6, gamma=1, max_depth=5, subsample=0.8 .......\n",
            "[CV]  colsample_bytree=0.6, gamma=1, max_depth=5, subsample=0.8, score=0.818, total=   2.8s\n",
            "[CV] colsample_bytree=0.6, gamma=1, max_depth=5, subsample=0.8 .......\n",
            "[CV]  colsample_bytree=0.6, gamma=1, max_depth=5, subsample=0.8, score=0.806, total=   2.8s\n",
            "[CV] colsample_bytree=0.6, gamma=1, max_depth=5, subsample=0.8 .......\n",
            "[CV]  colsample_bytree=0.6, gamma=1, max_depth=5, subsample=0.8, score=0.820, total=   2.8s\n",
            "[CV] colsample_bytree=0.6, gamma=1, max_depth=5, subsample=0.8 .......\n",
            "[CV]  colsample_bytree=0.6, gamma=1, max_depth=5, subsample=0.8, score=0.815, total=   2.8s\n",
            "[CV] colsample_bytree=0.6, gamma=1, max_depth=5, subsample=1.0 .......\n",
            "[CV]  colsample_bytree=0.6, gamma=1, max_depth=5, subsample=1.0, score=0.814, total=   2.6s\n",
            "[CV] colsample_bytree=0.6, gamma=1, max_depth=5, subsample=1.0 .......\n",
            "[CV]  colsample_bytree=0.6, gamma=1, max_depth=5, subsample=1.0, score=0.817, total=   2.5s\n",
            "[CV] colsample_bytree=0.6, gamma=1, max_depth=5, subsample=1.0 .......\n",
            "[CV]  colsample_bytree=0.6, gamma=1, max_depth=5, subsample=1.0, score=0.805, total=   2.6s\n",
            "[CV] colsample_bytree=0.6, gamma=1, max_depth=5, subsample=1.0 .......\n",
            "[CV]  colsample_bytree=0.6, gamma=1, max_depth=5, subsample=1.0, score=0.820, total=   2.6s\n",
            "[CV] colsample_bytree=0.6, gamma=1, max_depth=5, subsample=1.0 .......\n",
            "[CV]  colsample_bytree=0.6, gamma=1, max_depth=5, subsample=1.0, score=0.813, total=   2.5s\n",
            "[CV] colsample_bytree=0.6, gamma=5, max_depth=3, subsample=0.6 .......\n",
            "[CV]  colsample_bytree=0.6, gamma=5, max_depth=3, subsample=0.6, score=0.816, total=   1.9s\n",
            "[CV] colsample_bytree=0.6, gamma=5, max_depth=3, subsample=0.6 .......\n",
            "[CV]  colsample_bytree=0.6, gamma=5, max_depth=3, subsample=0.6, score=0.819, total=   1.9s\n",
            "[CV] colsample_bytree=0.6, gamma=5, max_depth=3, subsample=0.6 .......\n",
            "[CV]  colsample_bytree=0.6, gamma=5, max_depth=3, subsample=0.6, score=0.806, total=   1.9s\n",
            "[CV] colsample_bytree=0.6, gamma=5, max_depth=3, subsample=0.6 .......\n",
            "[CV]  colsample_bytree=0.6, gamma=5, max_depth=3, subsample=0.6, score=0.819, total=   1.9s\n",
            "[CV] colsample_bytree=0.6, gamma=5, max_depth=3, subsample=0.6 .......\n",
            "[CV]  colsample_bytree=0.6, gamma=5, max_depth=3, subsample=0.6, score=0.812, total=   1.9s\n",
            "[CV] colsample_bytree=0.6, gamma=5, max_depth=3, subsample=0.8 .......\n",
            "[CV]  colsample_bytree=0.6, gamma=5, max_depth=3, subsample=0.8, score=0.815, total=   1.8s\n",
            "[CV] colsample_bytree=0.6, gamma=5, max_depth=3, subsample=0.8 .......\n",
            "[CV]  colsample_bytree=0.6, gamma=5, max_depth=3, subsample=0.8, score=0.819, total=   1.8s\n",
            "[CV] colsample_bytree=0.6, gamma=5, max_depth=3, subsample=0.8 .......\n",
            "[CV]  colsample_bytree=0.6, gamma=5, max_depth=3, subsample=0.8, score=0.806, total=   1.8s\n",
            "[CV] colsample_bytree=0.6, gamma=5, max_depth=3, subsample=0.8 .......\n",
            "[CV]  colsample_bytree=0.6, gamma=5, max_depth=3, subsample=0.8, score=0.818, total=   1.7s\n",
            "[CV] colsample_bytree=0.6, gamma=5, max_depth=3, subsample=0.8 .......\n",
            "[CV]  colsample_bytree=0.6, gamma=5, max_depth=3, subsample=0.8, score=0.813, total=   1.8s\n",
            "[CV] colsample_bytree=0.6, gamma=5, max_depth=3, subsample=1.0 .......\n",
            "[CV]  colsample_bytree=0.6, gamma=5, max_depth=3, subsample=1.0, score=0.812, total=   1.6s\n",
            "[CV] colsample_bytree=0.6, gamma=5, max_depth=3, subsample=1.0 .......\n",
            "[CV]  colsample_bytree=0.6, gamma=5, max_depth=3, subsample=1.0, score=0.818, total=   1.6s\n",
            "[CV] colsample_bytree=0.6, gamma=5, max_depth=3, subsample=1.0 .......\n",
            "[CV]  colsample_bytree=0.6, gamma=5, max_depth=3, subsample=1.0, score=0.804, total=   1.6s\n",
            "[CV] colsample_bytree=0.6, gamma=5, max_depth=3, subsample=1.0 .......\n",
            "[CV]  colsample_bytree=0.6, gamma=5, max_depth=3, subsample=1.0, score=0.818, total=   1.6s\n",
            "[CV] colsample_bytree=0.6, gamma=5, max_depth=3, subsample=1.0 .......\n",
            "[CV]  colsample_bytree=0.6, gamma=5, max_depth=3, subsample=1.0, score=0.812, total=   1.6s\n",
            "[CV] colsample_bytree=0.6, gamma=5, max_depth=4, subsample=0.6 .......\n",
            "[CV]  colsample_bytree=0.6, gamma=5, max_depth=4, subsample=0.6, score=0.815, total=   2.4s\n",
            "[CV] colsample_bytree=0.6, gamma=5, max_depth=4, subsample=0.6 .......\n",
            "[CV]  colsample_bytree=0.6, gamma=5, max_depth=4, subsample=0.6, score=0.819, total=   2.4s\n",
            "[CV] colsample_bytree=0.6, gamma=5, max_depth=4, subsample=0.6 .......\n",
            "[CV]  colsample_bytree=0.6, gamma=5, max_depth=4, subsample=0.6, score=0.806, total=   2.4s\n",
            "[CV] colsample_bytree=0.6, gamma=5, max_depth=4, subsample=0.6 .......\n",
            "[CV]  colsample_bytree=0.6, gamma=5, max_depth=4, subsample=0.6, score=0.820, total=   2.4s\n",
            "[CV] colsample_bytree=0.6, gamma=5, max_depth=4, subsample=0.6 .......\n",
            "[CV]  colsample_bytree=0.6, gamma=5, max_depth=4, subsample=0.6, score=0.814, total=   2.4s\n",
            "[CV] colsample_bytree=0.6, gamma=5, max_depth=4, subsample=0.8 .......\n",
            "[CV]  colsample_bytree=0.6, gamma=5, max_depth=4, subsample=0.8, score=0.816, total=   2.2s\n",
            "[CV] colsample_bytree=0.6, gamma=5, max_depth=4, subsample=0.8 .......\n",
            "[CV]  colsample_bytree=0.6, gamma=5, max_depth=4, subsample=0.8, score=0.818, total=   2.2s\n",
            "[CV] colsample_bytree=0.6, gamma=5, max_depth=4, subsample=0.8 .......\n",
            "[CV]  colsample_bytree=0.6, gamma=5, max_depth=4, subsample=0.8, score=0.805, total=   2.2s\n",
            "[CV] colsample_bytree=0.6, gamma=5, max_depth=4, subsample=0.8 .......\n",
            "[CV]  colsample_bytree=0.6, gamma=5, max_depth=4, subsample=0.8, score=0.820, total=   2.2s\n",
            "[CV] colsample_bytree=0.6, gamma=5, max_depth=4, subsample=0.8 .......\n",
            "[CV]  colsample_bytree=0.6, gamma=5, max_depth=4, subsample=0.8, score=0.813, total=   2.3s\n",
            "[CV] colsample_bytree=0.6, gamma=5, max_depth=4, subsample=1.0 .......\n",
            "[CV]  colsample_bytree=0.6, gamma=5, max_depth=4, subsample=1.0, score=0.814, total=   2.0s\n",
            "[CV] colsample_bytree=0.6, gamma=5, max_depth=4, subsample=1.0 .......\n",
            "[CV]  colsample_bytree=0.6, gamma=5, max_depth=4, subsample=1.0, score=0.817, total=   2.1s\n",
            "[CV] colsample_bytree=0.6, gamma=5, max_depth=4, subsample=1.0 .......\n",
            "[CV]  colsample_bytree=0.6, gamma=5, max_depth=4, subsample=1.0, score=0.803, total=   2.0s\n",
            "[CV] colsample_bytree=0.6, gamma=5, max_depth=4, subsample=1.0 .......\n",
            "[CV]  colsample_bytree=0.6, gamma=5, max_depth=4, subsample=1.0, score=0.819, total=   2.0s\n",
            "[CV] colsample_bytree=0.6, gamma=5, max_depth=4, subsample=1.0 .......\n",
            "[CV]  colsample_bytree=0.6, gamma=5, max_depth=4, subsample=1.0, score=0.812, total=   2.1s\n",
            "[CV] colsample_bytree=0.6, gamma=5, max_depth=5, subsample=0.6 .......\n",
            "[CV]  colsample_bytree=0.6, gamma=5, max_depth=5, subsample=0.6, score=0.815, total=   3.0s\n",
            "[CV] colsample_bytree=0.6, gamma=5, max_depth=5, subsample=0.6 .......\n",
            "[CV]  colsample_bytree=0.6, gamma=5, max_depth=5, subsample=0.6, score=0.819, total=   3.0s\n",
            "[CV] colsample_bytree=0.6, gamma=5, max_depth=5, subsample=0.6 .......\n",
            "[CV]  colsample_bytree=0.6, gamma=5, max_depth=5, subsample=0.6, score=0.805, total=   3.0s\n",
            "[CV] colsample_bytree=0.6, gamma=5, max_depth=5, subsample=0.6 .......\n",
            "[CV]  colsample_bytree=0.6, gamma=5, max_depth=5, subsample=0.6, score=0.821, total=   3.0s\n",
            "[CV] colsample_bytree=0.6, gamma=5, max_depth=5, subsample=0.6 .......\n",
            "[CV]  colsample_bytree=0.6, gamma=5, max_depth=5, subsample=0.6, score=0.815, total=   3.0s\n",
            "[CV] colsample_bytree=0.6, gamma=5, max_depth=5, subsample=0.8 .......\n",
            "[CV]  colsample_bytree=0.6, gamma=5, max_depth=5, subsample=0.8, score=0.816, total=   2.8s\n",
            "[CV] colsample_bytree=0.6, gamma=5, max_depth=5, subsample=0.8 .......\n",
            "[CV]  colsample_bytree=0.6, gamma=5, max_depth=5, subsample=0.8, score=0.818, total=   2.8s\n",
            "[CV] colsample_bytree=0.6, gamma=5, max_depth=5, subsample=0.8 .......\n",
            "[CV]  colsample_bytree=0.6, gamma=5, max_depth=5, subsample=0.8, score=0.806, total=   2.8s\n",
            "[CV] colsample_bytree=0.6, gamma=5, max_depth=5, subsample=0.8 .......\n",
            "[CV]  colsample_bytree=0.6, gamma=5, max_depth=5, subsample=0.8, score=0.820, total=   2.8s\n",
            "[CV] colsample_bytree=0.6, gamma=5, max_depth=5, subsample=0.8 .......\n",
            "[CV]  colsample_bytree=0.6, gamma=5, max_depth=5, subsample=0.8, score=0.815, total=   2.8s\n",
            "[CV] colsample_bytree=0.6, gamma=5, max_depth=5, subsample=1.0 .......\n",
            "[CV]  colsample_bytree=0.6, gamma=5, max_depth=5, subsample=1.0, score=0.813, total=   2.6s\n",
            "[CV] colsample_bytree=0.6, gamma=5, max_depth=5, subsample=1.0 .......\n",
            "[CV]  colsample_bytree=0.6, gamma=5, max_depth=5, subsample=1.0, score=0.817, total=   2.5s\n",
            "[CV] colsample_bytree=0.6, gamma=5, max_depth=5, subsample=1.0 .......\n",
            "[CV]  colsample_bytree=0.6, gamma=5, max_depth=5, subsample=1.0, score=0.804, total=   2.5s\n",
            "[CV] colsample_bytree=0.6, gamma=5, max_depth=5, subsample=1.0 .......\n",
            "[CV]  colsample_bytree=0.6, gamma=5, max_depth=5, subsample=1.0, score=0.820, total=   2.6s\n",
            "[CV] colsample_bytree=0.6, gamma=5, max_depth=5, subsample=1.0 .......\n",
            "[CV]  colsample_bytree=0.6, gamma=5, max_depth=5, subsample=1.0, score=0.814, total=   2.6s\n",
            "[CV] colsample_bytree=0.8, gamma=0.5, max_depth=3, subsample=0.6 .....\n",
            "[CV]  colsample_bytree=0.8, gamma=0.5, max_depth=3, subsample=0.6, score=0.816, total=   2.2s\n",
            "[CV] colsample_bytree=0.8, gamma=0.5, max_depth=3, subsample=0.6 .....\n",
            "[CV]  colsample_bytree=0.8, gamma=0.5, max_depth=3, subsample=0.6, score=0.831, total=   2.3s\n",
            "[CV] colsample_bytree=0.8, gamma=0.5, max_depth=3, subsample=0.6 .....\n",
            "[CV]  colsample_bytree=0.8, gamma=0.5, max_depth=3, subsample=0.6, score=0.812, total=   2.2s\n",
            "[CV] colsample_bytree=0.8, gamma=0.5, max_depth=3, subsample=0.6 .....\n",
            "[CV]  colsample_bytree=0.8, gamma=0.5, max_depth=3, subsample=0.6, score=0.824, total=   2.3s\n",
            "[CV] colsample_bytree=0.8, gamma=0.5, max_depth=3, subsample=0.6 .....\n",
            "[CV]  colsample_bytree=0.8, gamma=0.5, max_depth=3, subsample=0.6, score=0.818, total=   2.2s\n",
            "[CV] colsample_bytree=0.8, gamma=0.5, max_depth=3, subsample=0.8 .....\n",
            "[CV]  colsample_bytree=0.8, gamma=0.5, max_depth=3, subsample=0.8, score=0.815, total=   2.1s\n",
            "[CV] colsample_bytree=0.8, gamma=0.5, max_depth=3, subsample=0.8 .....\n",
            "[CV]  colsample_bytree=0.8, gamma=0.5, max_depth=3, subsample=0.8, score=0.830, total=   2.1s\n",
            "[CV] colsample_bytree=0.8, gamma=0.5, max_depth=3, subsample=0.8 .....\n",
            "[CV]  colsample_bytree=0.8, gamma=0.5, max_depth=3, subsample=0.8, score=0.811, total=   2.1s\n",
            "[CV] colsample_bytree=0.8, gamma=0.5, max_depth=3, subsample=0.8 .....\n",
            "[CV]  colsample_bytree=0.8, gamma=0.5, max_depth=3, subsample=0.8, score=0.824, total=   2.1s\n",
            "[CV] colsample_bytree=0.8, gamma=0.5, max_depth=3, subsample=0.8 .....\n",
            "[CV]  colsample_bytree=0.8, gamma=0.5, max_depth=3, subsample=0.8, score=0.818, total=   2.1s\n",
            "[CV] colsample_bytree=0.8, gamma=0.5, max_depth=3, subsample=1.0 .....\n",
            "[CV]  colsample_bytree=0.8, gamma=0.5, max_depth=3, subsample=1.0, score=0.816, total=   1.9s\n",
            "[CV] colsample_bytree=0.8, gamma=0.5, max_depth=3, subsample=1.0 .....\n",
            "[CV]  colsample_bytree=0.8, gamma=0.5, max_depth=3, subsample=1.0, score=0.829, total=   1.9s\n",
            "[CV] colsample_bytree=0.8, gamma=0.5, max_depth=3, subsample=1.0 .....\n",
            "[CV]  colsample_bytree=0.8, gamma=0.5, max_depth=3, subsample=1.0, score=0.811, total=   1.9s\n",
            "[CV] colsample_bytree=0.8, gamma=0.5, max_depth=3, subsample=1.0 .....\n",
            "[CV]  colsample_bytree=0.8, gamma=0.5, max_depth=3, subsample=1.0, score=0.823, total=   1.9s\n",
            "[CV] colsample_bytree=0.8, gamma=0.5, max_depth=3, subsample=1.0 .....\n",
            "[CV]  colsample_bytree=0.8, gamma=0.5, max_depth=3, subsample=1.0, score=0.818, total=   1.9s\n",
            "[CV] colsample_bytree=0.8, gamma=0.5, max_depth=4, subsample=0.6 .....\n",
            "[CV]  colsample_bytree=0.8, gamma=0.5, max_depth=4, subsample=0.6, score=0.817, total=   2.9s\n",
            "[CV] colsample_bytree=0.8, gamma=0.5, max_depth=4, subsample=0.6 .....\n",
            "[CV]  colsample_bytree=0.8, gamma=0.5, max_depth=4, subsample=0.6, score=0.829, total=   2.9s\n",
            "[CV] colsample_bytree=0.8, gamma=0.5, max_depth=4, subsample=0.6 .....\n",
            "[CV]  colsample_bytree=0.8, gamma=0.5, max_depth=4, subsample=0.6, score=0.812, total=   2.9s\n",
            "[CV] colsample_bytree=0.8, gamma=0.5, max_depth=4, subsample=0.6 .....\n",
            "[CV]  colsample_bytree=0.8, gamma=0.5, max_depth=4, subsample=0.6, score=0.826, total=   2.9s\n",
            "[CV] colsample_bytree=0.8, gamma=0.5, max_depth=4, subsample=0.6 .....\n",
            "[CV]  colsample_bytree=0.8, gamma=0.5, max_depth=4, subsample=0.6, score=0.819, total=   2.9s\n",
            "[CV] colsample_bytree=0.8, gamma=0.5, max_depth=4, subsample=0.8 .....\n",
            "[CV]  colsample_bytree=0.8, gamma=0.5, max_depth=4, subsample=0.8, score=0.816, total=   2.7s\n",
            "[CV] colsample_bytree=0.8, gamma=0.5, max_depth=4, subsample=0.8 .....\n",
            "[CV]  colsample_bytree=0.8, gamma=0.5, max_depth=4, subsample=0.8, score=0.829, total=   2.7s\n",
            "[CV] colsample_bytree=0.8, gamma=0.5, max_depth=4, subsample=0.8 .....\n",
            "[CV]  colsample_bytree=0.8, gamma=0.5, max_depth=4, subsample=0.8, score=0.812, total=   2.7s\n",
            "[CV] colsample_bytree=0.8, gamma=0.5, max_depth=4, subsample=0.8 .....\n",
            "[CV]  colsample_bytree=0.8, gamma=0.5, max_depth=4, subsample=0.8, score=0.826, total=   2.7s\n",
            "[CV] colsample_bytree=0.8, gamma=0.5, max_depth=4, subsample=0.8 .....\n",
            "[CV]  colsample_bytree=0.8, gamma=0.5, max_depth=4, subsample=0.8, score=0.818, total=   2.7s\n",
            "[CV] colsample_bytree=0.8, gamma=0.5, max_depth=4, subsample=1.0 .....\n",
            "[CV]  colsample_bytree=0.8, gamma=0.5, max_depth=4, subsample=1.0, score=0.818, total=   2.5s\n",
            "[CV] colsample_bytree=0.8, gamma=0.5, max_depth=4, subsample=1.0 .....\n",
            "[CV]  colsample_bytree=0.8, gamma=0.5, max_depth=4, subsample=1.0, score=0.828, total=   2.5s\n",
            "[CV] colsample_bytree=0.8, gamma=0.5, max_depth=4, subsample=1.0 .....\n",
            "[CV]  colsample_bytree=0.8, gamma=0.5, max_depth=4, subsample=1.0, score=0.812, total=   2.5s\n",
            "[CV] colsample_bytree=0.8, gamma=0.5, max_depth=4, subsample=1.0 .....\n",
            "[CV]  colsample_bytree=0.8, gamma=0.5, max_depth=4, subsample=1.0, score=0.826, total=   2.5s\n",
            "[CV] colsample_bytree=0.8, gamma=0.5, max_depth=4, subsample=1.0 .....\n",
            "[CV]  colsample_bytree=0.8, gamma=0.5, max_depth=4, subsample=1.0, score=0.819, total=   2.5s\n",
            "[CV] colsample_bytree=0.8, gamma=0.5, max_depth=5, subsample=0.6 .....\n",
            "[CV]  colsample_bytree=0.8, gamma=0.5, max_depth=5, subsample=0.6, score=0.817, total=   3.6s\n",
            "[CV] colsample_bytree=0.8, gamma=0.5, max_depth=5, subsample=0.6 .....\n",
            "[CV]  colsample_bytree=0.8, gamma=0.5, max_depth=5, subsample=0.6, score=0.829, total=   3.6s\n",
            "[CV] colsample_bytree=0.8, gamma=0.5, max_depth=5, subsample=0.6 .....\n",
            "[CV]  colsample_bytree=0.8, gamma=0.5, max_depth=5, subsample=0.6, score=0.812, total=   3.6s\n",
            "[CV] colsample_bytree=0.8, gamma=0.5, max_depth=5, subsample=0.6 .....\n",
            "[CV]  colsample_bytree=0.8, gamma=0.5, max_depth=5, subsample=0.6, score=0.825, total=   3.6s\n",
            "[CV] colsample_bytree=0.8, gamma=0.5, max_depth=5, subsample=0.6 .....\n",
            "[CV]  colsample_bytree=0.8, gamma=0.5, max_depth=5, subsample=0.6, score=0.820, total=   3.6s\n",
            "[CV] colsample_bytree=0.8, gamma=0.5, max_depth=5, subsample=0.8 .....\n",
            "[CV]  colsample_bytree=0.8, gamma=0.5, max_depth=5, subsample=0.8, score=0.820, total=   3.4s\n",
            "[CV] colsample_bytree=0.8, gamma=0.5, max_depth=5, subsample=0.8 .....\n",
            "[CV]  colsample_bytree=0.8, gamma=0.5, max_depth=5, subsample=0.8, score=0.828, total=   3.4s\n",
            "[CV] colsample_bytree=0.8, gamma=0.5, max_depth=5, subsample=0.8 .....\n",
            "[CV]  colsample_bytree=0.8, gamma=0.5, max_depth=5, subsample=0.8, score=0.812, total=   3.4s\n",
            "[CV] colsample_bytree=0.8, gamma=0.5, max_depth=5, subsample=0.8 .....\n",
            "[CV]  colsample_bytree=0.8, gamma=0.5, max_depth=5, subsample=0.8, score=0.826, total=   3.4s\n",
            "[CV] colsample_bytree=0.8, gamma=0.5, max_depth=5, subsample=0.8 .....\n",
            "[CV]  colsample_bytree=0.8, gamma=0.5, max_depth=5, subsample=0.8, score=0.819, total=   3.4s\n",
            "[CV] colsample_bytree=0.8, gamma=0.5, max_depth=5, subsample=1.0 .....\n",
            "[CV]  colsample_bytree=0.8, gamma=0.5, max_depth=5, subsample=1.0, score=0.818, total=   3.1s\n",
            "[CV] colsample_bytree=0.8, gamma=0.5, max_depth=5, subsample=1.0 .....\n",
            "[CV]  colsample_bytree=0.8, gamma=0.5, max_depth=5, subsample=1.0, score=0.827, total=   3.1s\n",
            "[CV] colsample_bytree=0.8, gamma=0.5, max_depth=5, subsample=1.0 .....\n",
            "[CV]  colsample_bytree=0.8, gamma=0.5, max_depth=5, subsample=1.0, score=0.814, total=   3.1s\n",
            "[CV] colsample_bytree=0.8, gamma=0.5, max_depth=5, subsample=1.0 .....\n",
            "[CV]  colsample_bytree=0.8, gamma=0.5, max_depth=5, subsample=1.0, score=0.827, total=   3.1s\n",
            "[CV] colsample_bytree=0.8, gamma=0.5, max_depth=5, subsample=1.0 .....\n",
            "[CV]  colsample_bytree=0.8, gamma=0.5, max_depth=5, subsample=1.0, score=0.820, total=   3.1s\n",
            "[CV] colsample_bytree=0.8, gamma=1, max_depth=3, subsample=0.6 .......\n",
            "[CV]  colsample_bytree=0.8, gamma=1, max_depth=3, subsample=0.6, score=0.816, total=   2.2s\n",
            "[CV] colsample_bytree=0.8, gamma=1, max_depth=3, subsample=0.6 .......\n",
            "[CV]  colsample_bytree=0.8, gamma=1, max_depth=3, subsample=0.6, score=0.831, total=   2.2s\n",
            "[CV] colsample_bytree=0.8, gamma=1, max_depth=3, subsample=0.6 .......\n",
            "[CV]  colsample_bytree=0.8, gamma=1, max_depth=3, subsample=0.6, score=0.812, total=   2.2s\n",
            "[CV] colsample_bytree=0.8, gamma=1, max_depth=3, subsample=0.6 .......\n",
            "[CV]  colsample_bytree=0.8, gamma=1, max_depth=3, subsample=0.6, score=0.824, total=   2.2s\n",
            "[CV] colsample_bytree=0.8, gamma=1, max_depth=3, subsample=0.6 .......\n",
            "[CV]  colsample_bytree=0.8, gamma=1, max_depth=3, subsample=0.6, score=0.818, total=   2.3s\n",
            "[CV] colsample_bytree=0.8, gamma=1, max_depth=3, subsample=0.8 .......\n",
            "[CV]  colsample_bytree=0.8, gamma=1, max_depth=3, subsample=0.8, score=0.815, total=   2.1s\n",
            "[CV] colsample_bytree=0.8, gamma=1, max_depth=3, subsample=0.8 .......\n",
            "[CV]  colsample_bytree=0.8, gamma=1, max_depth=3, subsample=0.8, score=0.830, total=   2.1s\n",
            "[CV] colsample_bytree=0.8, gamma=1, max_depth=3, subsample=0.8 .......\n",
            "[CV]  colsample_bytree=0.8, gamma=1, max_depth=3, subsample=0.8, score=0.811, total=   2.1s\n",
            "[CV] colsample_bytree=0.8, gamma=1, max_depth=3, subsample=0.8 .......\n",
            "[CV]  colsample_bytree=0.8, gamma=1, max_depth=3, subsample=0.8, score=0.824, total=   2.1s\n",
            "[CV] colsample_bytree=0.8, gamma=1, max_depth=3, subsample=0.8 .......\n",
            "[CV]  colsample_bytree=0.8, gamma=1, max_depth=3, subsample=0.8, score=0.818, total=   2.1s\n",
            "[CV] colsample_bytree=0.8, gamma=1, max_depth=3, subsample=1.0 .......\n",
            "[CV]  colsample_bytree=0.8, gamma=1, max_depth=3, subsample=1.0, score=0.816, total=   1.9s\n",
            "[CV] colsample_bytree=0.8, gamma=1, max_depth=3, subsample=1.0 .......\n",
            "[CV]  colsample_bytree=0.8, gamma=1, max_depth=3, subsample=1.0, score=0.829, total=   1.9s\n",
            "[CV] colsample_bytree=0.8, gamma=1, max_depth=3, subsample=1.0 .......\n",
            "[CV]  colsample_bytree=0.8, gamma=1, max_depth=3, subsample=1.0, score=0.811, total=   1.9s\n",
            "[CV] colsample_bytree=0.8, gamma=1, max_depth=3, subsample=1.0 .......\n",
            "[CV]  colsample_bytree=0.8, gamma=1, max_depth=3, subsample=1.0, score=0.823, total=   1.9s\n",
            "[CV] colsample_bytree=0.8, gamma=1, max_depth=3, subsample=1.0 .......\n",
            "[CV]  colsample_bytree=0.8, gamma=1, max_depth=3, subsample=1.0, score=0.818, total=   1.9s\n",
            "[CV] colsample_bytree=0.8, gamma=1, max_depth=4, subsample=0.6 .......\n",
            "[CV]  colsample_bytree=0.8, gamma=1, max_depth=4, subsample=0.6, score=0.817, total=   2.9s\n",
            "[CV] colsample_bytree=0.8, gamma=1, max_depth=4, subsample=0.6 .......\n",
            "[CV]  colsample_bytree=0.8, gamma=1, max_depth=4, subsample=0.6, score=0.830, total=   2.9s\n",
            "[CV] colsample_bytree=0.8, gamma=1, max_depth=4, subsample=0.6 .......\n",
            "[CV]  colsample_bytree=0.8, gamma=1, max_depth=4, subsample=0.6, score=0.812, total=   2.9s\n",
            "[CV] colsample_bytree=0.8, gamma=1, max_depth=4, subsample=0.6 .......\n",
            "[CV]  colsample_bytree=0.8, gamma=1, max_depth=4, subsample=0.6, score=0.826, total=   2.9s\n",
            "[CV] colsample_bytree=0.8, gamma=1, max_depth=4, subsample=0.6 .......\n",
            "[CV]  colsample_bytree=0.8, gamma=1, max_depth=4, subsample=0.6, score=0.819, total=   2.9s\n",
            "[CV] colsample_bytree=0.8, gamma=1, max_depth=4, subsample=0.8 .......\n",
            "[CV]  colsample_bytree=0.8, gamma=1, max_depth=4, subsample=0.8, score=0.816, total=   2.7s\n",
            "[CV] colsample_bytree=0.8, gamma=1, max_depth=4, subsample=0.8 .......\n",
            "[CV]  colsample_bytree=0.8, gamma=1, max_depth=4, subsample=0.8, score=0.829, total=   2.7s\n",
            "[CV] colsample_bytree=0.8, gamma=1, max_depth=4, subsample=0.8 .......\n",
            "[CV]  colsample_bytree=0.8, gamma=1, max_depth=4, subsample=0.8, score=0.812, total=   2.7s\n",
            "[CV] colsample_bytree=0.8, gamma=1, max_depth=4, subsample=0.8 .......\n",
            "[CV]  colsample_bytree=0.8, gamma=1, max_depth=4, subsample=0.8, score=0.826, total=   2.7s\n",
            "[CV] colsample_bytree=0.8, gamma=1, max_depth=4, subsample=0.8 .......\n",
            "[CV]  colsample_bytree=0.8, gamma=1, max_depth=4, subsample=0.8, score=0.818, total=   2.7s\n",
            "[CV] colsample_bytree=0.8, gamma=1, max_depth=4, subsample=1.0 .......\n",
            "[CV]  colsample_bytree=0.8, gamma=1, max_depth=4, subsample=1.0, score=0.818, total=   2.5s\n",
            "[CV] colsample_bytree=0.8, gamma=1, max_depth=4, subsample=1.0 .......\n",
            "[CV]  colsample_bytree=0.8, gamma=1, max_depth=4, subsample=1.0, score=0.828, total=   2.5s\n",
            "[CV] colsample_bytree=0.8, gamma=1, max_depth=4, subsample=1.0 .......\n",
            "[CV]  colsample_bytree=0.8, gamma=1, max_depth=4, subsample=1.0, score=0.812, total=   2.4s\n",
            "[CV] colsample_bytree=0.8, gamma=1, max_depth=4, subsample=1.0 .......\n",
            "[CV]  colsample_bytree=0.8, gamma=1, max_depth=4, subsample=1.0, score=0.826, total=   3.1s\n",
            "[CV] colsample_bytree=0.8, gamma=1, max_depth=4, subsample=1.0 .......\n",
            "[CV]  colsample_bytree=0.8, gamma=1, max_depth=4, subsample=1.0, score=0.819, total=   3.8s\n",
            "[CV] colsample_bytree=0.8, gamma=1, max_depth=5, subsample=0.6 .......\n",
            "[CV]  colsample_bytree=0.8, gamma=1, max_depth=5, subsample=0.6, score=0.818, total=   4.8s\n",
            "[CV] colsample_bytree=0.8, gamma=1, max_depth=5, subsample=0.6 .......\n",
            "[CV]  colsample_bytree=0.8, gamma=1, max_depth=5, subsample=0.6, score=0.829, total=   3.6s\n",
            "[CV] colsample_bytree=0.8, gamma=1, max_depth=5, subsample=0.6 .......\n",
            "[CV]  colsample_bytree=0.8, gamma=1, max_depth=5, subsample=0.6, score=0.812, total=   3.6s\n",
            "[CV] colsample_bytree=0.8, gamma=1, max_depth=5, subsample=0.6 .......\n",
            "[CV]  colsample_bytree=0.8, gamma=1, max_depth=5, subsample=0.6, score=0.825, total=   3.6s\n",
            "[CV] colsample_bytree=0.8, gamma=1, max_depth=5, subsample=0.6 .......\n",
            "[CV]  colsample_bytree=0.8, gamma=1, max_depth=5, subsample=0.6, score=0.820, total=   3.6s\n",
            "[CV] colsample_bytree=0.8, gamma=1, max_depth=5, subsample=0.8 .......\n",
            "[CV]  colsample_bytree=0.8, gamma=1, max_depth=5, subsample=0.8, score=0.820, total=   3.4s\n",
            "[CV] colsample_bytree=0.8, gamma=1, max_depth=5, subsample=0.8 .......\n",
            "[CV]  colsample_bytree=0.8, gamma=1, max_depth=5, subsample=0.8, score=0.828, total=   3.4s\n",
            "[CV] colsample_bytree=0.8, gamma=1, max_depth=5, subsample=0.8 .......\n",
            "[CV]  colsample_bytree=0.8, gamma=1, max_depth=5, subsample=0.8, score=0.812, total=   3.4s\n",
            "[CV] colsample_bytree=0.8, gamma=1, max_depth=5, subsample=0.8 .......\n",
            "[CV]  colsample_bytree=0.8, gamma=1, max_depth=5, subsample=0.8, score=0.826, total=   3.4s\n",
            "[CV] colsample_bytree=0.8, gamma=1, max_depth=5, subsample=0.8 .......\n",
            "[CV]  colsample_bytree=0.8, gamma=1, max_depth=5, subsample=0.8, score=0.819, total=   3.4s\n",
            "[CV] colsample_bytree=0.8, gamma=1, max_depth=5, subsample=1.0 .......\n",
            "[CV]  colsample_bytree=0.8, gamma=1, max_depth=5, subsample=1.0, score=0.817, total=   3.1s\n",
            "[CV] colsample_bytree=0.8, gamma=1, max_depth=5, subsample=1.0 .......\n",
            "[CV]  colsample_bytree=0.8, gamma=1, max_depth=5, subsample=1.0, score=0.827, total=   3.1s\n",
            "[CV] colsample_bytree=0.8, gamma=1, max_depth=5, subsample=1.0 .......\n",
            "[CV]  colsample_bytree=0.8, gamma=1, max_depth=5, subsample=1.0, score=0.814, total=   3.1s\n",
            "[CV] colsample_bytree=0.8, gamma=1, max_depth=5, subsample=1.0 .......\n",
            "[CV]  colsample_bytree=0.8, gamma=1, max_depth=5, subsample=1.0, score=0.827, total=   3.1s\n",
            "[CV] colsample_bytree=0.8, gamma=1, max_depth=5, subsample=1.0 .......\n",
            "[CV]  colsample_bytree=0.8, gamma=1, max_depth=5, subsample=1.0, score=0.820, total=   3.1s\n",
            "[CV] colsample_bytree=0.8, gamma=5, max_depth=3, subsample=0.6 .......\n",
            "[CV]  colsample_bytree=0.8, gamma=5, max_depth=3, subsample=0.6, score=0.815, total=   2.2s\n",
            "[CV] colsample_bytree=0.8, gamma=5, max_depth=3, subsample=0.6 .......\n",
            "[CV]  colsample_bytree=0.8, gamma=5, max_depth=3, subsample=0.6, score=0.831, total=   2.2s\n",
            "[CV] colsample_bytree=0.8, gamma=5, max_depth=3, subsample=0.6 .......\n",
            "[CV]  colsample_bytree=0.8, gamma=5, max_depth=3, subsample=0.6, score=0.812, total=   2.2s\n",
            "[CV] colsample_bytree=0.8, gamma=5, max_depth=3, subsample=0.6 .......\n",
            "[CV]  colsample_bytree=0.8, gamma=5, max_depth=3, subsample=0.6, score=0.824, total=   2.2s\n",
            "[CV] colsample_bytree=0.8, gamma=5, max_depth=3, subsample=0.6 .......\n",
            "[CV]  colsample_bytree=0.8, gamma=5, max_depth=3, subsample=0.6, score=0.819, total=   2.3s\n",
            "[CV] colsample_bytree=0.8, gamma=5, max_depth=3, subsample=0.8 .......\n",
            "[CV]  colsample_bytree=0.8, gamma=5, max_depth=3, subsample=0.8, score=0.815, total=   2.1s\n",
            "[CV] colsample_bytree=0.8, gamma=5, max_depth=3, subsample=0.8 .......\n",
            "[CV]  colsample_bytree=0.8, gamma=5, max_depth=3, subsample=0.8, score=0.830, total=   2.1s\n",
            "[CV] colsample_bytree=0.8, gamma=5, max_depth=3, subsample=0.8 .......\n",
            "[CV]  colsample_bytree=0.8, gamma=5, max_depth=3, subsample=0.8, score=0.811, total=   2.1s\n",
            "[CV] colsample_bytree=0.8, gamma=5, max_depth=3, subsample=0.8 .......\n",
            "[CV]  colsample_bytree=0.8, gamma=5, max_depth=3, subsample=0.8, score=0.824, total=   2.1s\n",
            "[CV] colsample_bytree=0.8, gamma=5, max_depth=3, subsample=0.8 .......\n",
            "[CV]  colsample_bytree=0.8, gamma=5, max_depth=3, subsample=0.8, score=0.818, total=   2.1s\n",
            "[CV] colsample_bytree=0.8, gamma=5, max_depth=3, subsample=1.0 .......\n",
            "[CV]  colsample_bytree=0.8, gamma=5, max_depth=3, subsample=1.0, score=0.816, total=   1.9s\n",
            "[CV] colsample_bytree=0.8, gamma=5, max_depth=3, subsample=1.0 .......\n",
            "[CV]  colsample_bytree=0.8, gamma=5, max_depth=3, subsample=1.0, score=0.829, total=   1.9s\n",
            "[CV] colsample_bytree=0.8, gamma=5, max_depth=3, subsample=1.0 .......\n",
            "[CV]  colsample_bytree=0.8, gamma=5, max_depth=3, subsample=1.0, score=0.811, total=   1.9s\n",
            "[CV] colsample_bytree=0.8, gamma=5, max_depth=3, subsample=1.0 .......\n",
            "[CV]  colsample_bytree=0.8, gamma=5, max_depth=3, subsample=1.0, score=0.823, total=   1.9s\n",
            "[CV] colsample_bytree=0.8, gamma=5, max_depth=3, subsample=1.0 .......\n",
            "[CV]  colsample_bytree=0.8, gamma=5, max_depth=3, subsample=1.0, score=0.818, total=   1.9s\n",
            "[CV] colsample_bytree=0.8, gamma=5, max_depth=4, subsample=0.6 .......\n",
            "[CV]  colsample_bytree=0.8, gamma=5, max_depth=4, subsample=0.6, score=0.817, total=   2.9s\n",
            "[CV] colsample_bytree=0.8, gamma=5, max_depth=4, subsample=0.6 .......\n",
            "[CV]  colsample_bytree=0.8, gamma=5, max_depth=4, subsample=0.6, score=0.829, total=   2.9s\n",
            "[CV] colsample_bytree=0.8, gamma=5, max_depth=4, subsample=0.6 .......\n",
            "[CV]  colsample_bytree=0.8, gamma=5, max_depth=4, subsample=0.6, score=0.812, total=   2.9s\n",
            "[CV] colsample_bytree=0.8, gamma=5, max_depth=4, subsample=0.6 .......\n",
            "[CV]  colsample_bytree=0.8, gamma=5, max_depth=4, subsample=0.6, score=0.826, total=   2.9s\n",
            "[CV] colsample_bytree=0.8, gamma=5, max_depth=4, subsample=0.6 .......\n",
            "[CV]  colsample_bytree=0.8, gamma=5, max_depth=4, subsample=0.6, score=0.819, total=   2.9s\n",
            "[CV] colsample_bytree=0.8, gamma=5, max_depth=4, subsample=0.8 .......\n",
            "[CV]  colsample_bytree=0.8, gamma=5, max_depth=4, subsample=0.8, score=0.815, total=   2.7s\n",
            "[CV] colsample_bytree=0.8, gamma=5, max_depth=4, subsample=0.8 .......\n",
            "[CV]  colsample_bytree=0.8, gamma=5, max_depth=4, subsample=0.8, score=0.829, total=   2.7s\n",
            "[CV] colsample_bytree=0.8, gamma=5, max_depth=4, subsample=0.8 .......\n",
            "[CV]  colsample_bytree=0.8, gamma=5, max_depth=4, subsample=0.8, score=0.812, total=   2.7s\n",
            "[CV] colsample_bytree=0.8, gamma=5, max_depth=4, subsample=0.8 .......\n",
            "[CV]  colsample_bytree=0.8, gamma=5, max_depth=4, subsample=0.8, score=0.826, total=   2.7s\n",
            "[CV] colsample_bytree=0.8, gamma=5, max_depth=4, subsample=0.8 .......\n",
            "[CV]  colsample_bytree=0.8, gamma=5, max_depth=4, subsample=0.8, score=0.818, total=   2.7s\n",
            "[CV] colsample_bytree=0.8, gamma=5, max_depth=4, subsample=1.0 .......\n",
            "[CV]  colsample_bytree=0.8, gamma=5, max_depth=4, subsample=1.0, score=0.817, total=   2.5s\n",
            "[CV] colsample_bytree=0.8, gamma=5, max_depth=4, subsample=1.0 .......\n",
            "[CV]  colsample_bytree=0.8, gamma=5, max_depth=4, subsample=1.0, score=0.828, total=   2.5s\n",
            "[CV] colsample_bytree=0.8, gamma=5, max_depth=4, subsample=1.0 .......\n",
            "[CV]  colsample_bytree=0.8, gamma=5, max_depth=4, subsample=1.0, score=0.812, total=   2.4s\n",
            "[CV] colsample_bytree=0.8, gamma=5, max_depth=4, subsample=1.0 .......\n",
            "[CV]  colsample_bytree=0.8, gamma=5, max_depth=4, subsample=1.0, score=0.826, total=   2.5s\n",
            "[CV] colsample_bytree=0.8, gamma=5, max_depth=4, subsample=1.0 .......\n",
            "[CV]  colsample_bytree=0.8, gamma=5, max_depth=4, subsample=1.0, score=0.819, total=   2.5s\n",
            "[CV] colsample_bytree=0.8, gamma=5, max_depth=5, subsample=0.6 .......\n",
            "[CV]  colsample_bytree=0.8, gamma=5, max_depth=5, subsample=0.6, score=0.818, total=   3.6s\n",
            "[CV] colsample_bytree=0.8, gamma=5, max_depth=5, subsample=0.6 .......\n",
            "[CV]  colsample_bytree=0.8, gamma=5, max_depth=5, subsample=0.6, score=0.830, total=   3.6s\n",
            "[CV] colsample_bytree=0.8, gamma=5, max_depth=5, subsample=0.6 .......\n",
            "[CV]  colsample_bytree=0.8, gamma=5, max_depth=5, subsample=0.6, score=0.812, total=   3.6s\n",
            "[CV] colsample_bytree=0.8, gamma=5, max_depth=5, subsample=0.6 .......\n",
            "[CV]  colsample_bytree=0.8, gamma=5, max_depth=5, subsample=0.6, score=0.826, total=   3.6s\n",
            "[CV] colsample_bytree=0.8, gamma=5, max_depth=5, subsample=0.6 .......\n",
            "[CV]  colsample_bytree=0.8, gamma=5, max_depth=5, subsample=0.6, score=0.820, total=   3.6s\n",
            "[CV] colsample_bytree=0.8, gamma=5, max_depth=5, subsample=0.8 .......\n",
            "[CV]  colsample_bytree=0.8, gamma=5, max_depth=5, subsample=0.8, score=0.818, total=   3.4s\n",
            "[CV] colsample_bytree=0.8, gamma=5, max_depth=5, subsample=0.8 .......\n",
            "[CV]  colsample_bytree=0.8, gamma=5, max_depth=5, subsample=0.8, score=0.828, total=   3.4s\n",
            "[CV] colsample_bytree=0.8, gamma=5, max_depth=5, subsample=0.8 .......\n",
            "[CV]  colsample_bytree=0.8, gamma=5, max_depth=5, subsample=0.8, score=0.812, total=   3.4s\n",
            "[CV] colsample_bytree=0.8, gamma=5, max_depth=5, subsample=0.8 .......\n",
            "[CV]  colsample_bytree=0.8, gamma=5, max_depth=5, subsample=0.8, score=0.827, total=   3.4s\n",
            "[CV] colsample_bytree=0.8, gamma=5, max_depth=5, subsample=0.8 .......\n",
            "[CV]  colsample_bytree=0.8, gamma=5, max_depth=5, subsample=0.8, score=0.819, total=   3.4s\n",
            "[CV] colsample_bytree=0.8, gamma=5, max_depth=5, subsample=1.0 .......\n",
            "[CV]  colsample_bytree=0.8, gamma=5, max_depth=5, subsample=1.0, score=0.817, total=   3.1s\n",
            "[CV] colsample_bytree=0.8, gamma=5, max_depth=5, subsample=1.0 .......\n",
            "[CV]  colsample_bytree=0.8, gamma=5, max_depth=5, subsample=1.0, score=0.828, total=   3.1s\n",
            "[CV] colsample_bytree=0.8, gamma=5, max_depth=5, subsample=1.0 .......\n",
            "[CV]  colsample_bytree=0.8, gamma=5, max_depth=5, subsample=1.0, score=0.813, total=   3.1s\n",
            "[CV] colsample_bytree=0.8, gamma=5, max_depth=5, subsample=1.0 .......\n",
            "[CV]  colsample_bytree=0.8, gamma=5, max_depth=5, subsample=1.0, score=0.827, total=   3.1s\n",
            "[CV] colsample_bytree=0.8, gamma=5, max_depth=5, subsample=1.0 .......\n",
            "[CV]  colsample_bytree=0.8, gamma=5, max_depth=5, subsample=1.0, score=0.819, total=   3.1s\n",
            "[CV] colsample_bytree=1.0, gamma=0.5, max_depth=3, subsample=0.6 .....\n",
            "[CV]  colsample_bytree=1.0, gamma=0.5, max_depth=3, subsample=0.6, score=0.816, total=   2.6s\n",
            "[CV] colsample_bytree=1.0, gamma=0.5, max_depth=3, subsample=0.6 .....\n",
            "[CV]  colsample_bytree=1.0, gamma=0.5, max_depth=3, subsample=0.6, score=0.832, total=   2.6s\n",
            "[CV] colsample_bytree=1.0, gamma=0.5, max_depth=3, subsample=0.6 .....\n",
            "[CV]  colsample_bytree=1.0, gamma=0.5, max_depth=3, subsample=0.6, score=0.814, total=   2.6s\n",
            "[CV] colsample_bytree=1.0, gamma=0.5, max_depth=3, subsample=0.6 .....\n",
            "[CV]  colsample_bytree=1.0, gamma=0.5, max_depth=3, subsample=0.6, score=0.824, total=   2.6s\n",
            "[CV] colsample_bytree=1.0, gamma=0.5, max_depth=3, subsample=0.6 .....\n",
            "[CV]  colsample_bytree=1.0, gamma=0.5, max_depth=3, subsample=0.6, score=0.820, total=   2.6s\n",
            "[CV] colsample_bytree=1.0, gamma=0.5, max_depth=3, subsample=0.8 .....\n",
            "[CV]  colsample_bytree=1.0, gamma=0.5, max_depth=3, subsample=0.8, score=0.816, total=   2.4s\n",
            "[CV] colsample_bytree=1.0, gamma=0.5, max_depth=3, subsample=0.8 .....\n",
            "[CV]  colsample_bytree=1.0, gamma=0.5, max_depth=3, subsample=0.8, score=0.831, total=   2.4s\n",
            "[CV] colsample_bytree=1.0, gamma=0.5, max_depth=3, subsample=0.8 .....\n",
            "[CV]  colsample_bytree=1.0, gamma=0.5, max_depth=3, subsample=0.8, score=0.813, total=   2.4s\n",
            "[CV] colsample_bytree=1.0, gamma=0.5, max_depth=3, subsample=0.8 .....\n",
            "[CV]  colsample_bytree=1.0, gamma=0.5, max_depth=3, subsample=0.8, score=0.824, total=   2.4s\n",
            "[CV] colsample_bytree=1.0, gamma=0.5, max_depth=3, subsample=0.8 .....\n",
            "[CV]  colsample_bytree=1.0, gamma=0.5, max_depth=3, subsample=0.8, score=0.818, total=   2.4s\n",
            "[CV] colsample_bytree=1.0, gamma=0.5, max_depth=3, subsample=1.0 .....\n",
            "[CV]  colsample_bytree=1.0, gamma=0.5, max_depth=3, subsample=1.0, score=0.815, total=   2.2s\n",
            "[CV] colsample_bytree=1.0, gamma=0.5, max_depth=3, subsample=1.0 .....\n",
            "[CV]  colsample_bytree=1.0, gamma=0.5, max_depth=3, subsample=1.0, score=0.830, total=   2.2s\n",
            "[CV] colsample_bytree=1.0, gamma=0.5, max_depth=3, subsample=1.0 .....\n",
            "[CV]  colsample_bytree=1.0, gamma=0.5, max_depth=3, subsample=1.0, score=0.812, total=   2.2s\n",
            "[CV] colsample_bytree=1.0, gamma=0.5, max_depth=3, subsample=1.0 .....\n",
            "[CV]  colsample_bytree=1.0, gamma=0.5, max_depth=3, subsample=1.0, score=0.824, total=   2.2s\n",
            "[CV] colsample_bytree=1.0, gamma=0.5, max_depth=3, subsample=1.0 .....\n",
            "[CV]  colsample_bytree=1.0, gamma=0.5, max_depth=3, subsample=1.0, score=0.818, total=   2.2s\n",
            "[CV] colsample_bytree=1.0, gamma=0.5, max_depth=4, subsample=0.6 .....\n",
            "[CV]  colsample_bytree=1.0, gamma=0.5, max_depth=4, subsample=0.6, score=0.815, total=   3.4s\n",
            "[CV] colsample_bytree=1.0, gamma=0.5, max_depth=4, subsample=0.6 .....\n",
            "[CV]  colsample_bytree=1.0, gamma=0.5, max_depth=4, subsample=0.6, score=0.830, total=   3.4s\n",
            "[CV] colsample_bytree=1.0, gamma=0.5, max_depth=4, subsample=0.6 .....\n",
            "[CV]  colsample_bytree=1.0, gamma=0.5, max_depth=4, subsample=0.6, score=0.813, total=   3.4s\n",
            "[CV] colsample_bytree=1.0, gamma=0.5, max_depth=4, subsample=0.6 .....\n",
            "[CV]  colsample_bytree=1.0, gamma=0.5, max_depth=4, subsample=0.6, score=0.825, total=   3.4s\n",
            "[CV] colsample_bytree=1.0, gamma=0.5, max_depth=4, subsample=0.6 .....\n",
            "[CV]  colsample_bytree=1.0, gamma=0.5, max_depth=4, subsample=0.6, score=0.820, total=   3.4s\n",
            "[CV] colsample_bytree=1.0, gamma=0.5, max_depth=4, subsample=0.8 .....\n",
            "[CV]  colsample_bytree=1.0, gamma=0.5, max_depth=4, subsample=0.8, score=0.816, total=   3.2s\n",
            "[CV] colsample_bytree=1.0, gamma=0.5, max_depth=4, subsample=0.8 .....\n",
            "[CV]  colsample_bytree=1.0, gamma=0.5, max_depth=4, subsample=0.8, score=0.829, total=   3.2s\n",
            "[CV] colsample_bytree=1.0, gamma=0.5, max_depth=4, subsample=0.8 .....\n",
            "[CV]  colsample_bytree=1.0, gamma=0.5, max_depth=4, subsample=0.8, score=0.814, total=   3.2s\n",
            "[CV] colsample_bytree=1.0, gamma=0.5, max_depth=4, subsample=0.8 .....\n",
            "[CV]  colsample_bytree=1.0, gamma=0.5, max_depth=4, subsample=0.8, score=0.824, total=   3.2s\n",
            "[CV] colsample_bytree=1.0, gamma=0.5, max_depth=4, subsample=0.8 .....\n",
            "[CV]  colsample_bytree=1.0, gamma=0.5, max_depth=4, subsample=0.8, score=0.819, total=   3.2s\n",
            "[CV] colsample_bytree=1.0, gamma=0.5, max_depth=4, subsample=1.0 .....\n",
            "[CV]  colsample_bytree=1.0, gamma=0.5, max_depth=4, subsample=1.0, score=0.816, total=   2.9s\n",
            "[CV] colsample_bytree=1.0, gamma=0.5, max_depth=4, subsample=1.0 .....\n",
            "[CV]  colsample_bytree=1.0, gamma=0.5, max_depth=4, subsample=1.0, score=0.828, total=   2.9s\n",
            "[CV] colsample_bytree=1.0, gamma=0.5, max_depth=4, subsample=1.0 .....\n",
            "[CV]  colsample_bytree=1.0, gamma=0.5, max_depth=4, subsample=1.0, score=0.812, total=   3.0s\n",
            "[CV] colsample_bytree=1.0, gamma=0.5, max_depth=4, subsample=1.0 .....\n",
            "[CV]  colsample_bytree=1.0, gamma=0.5, max_depth=4, subsample=1.0, score=0.825, total=   3.0s\n",
            "[CV] colsample_bytree=1.0, gamma=0.5, max_depth=4, subsample=1.0 .....\n",
            "[CV]  colsample_bytree=1.0, gamma=0.5, max_depth=4, subsample=1.0, score=0.820, total=   2.9s\n",
            "[CV] colsample_bytree=1.0, gamma=0.5, max_depth=5, subsample=0.6 .....\n",
            "[CV]  colsample_bytree=1.0, gamma=0.5, max_depth=5, subsample=0.6, score=0.816, total=   4.3s\n",
            "[CV] colsample_bytree=1.0, gamma=0.5, max_depth=5, subsample=0.6 .....\n",
            "[CV]  colsample_bytree=1.0, gamma=0.5, max_depth=5, subsample=0.6, score=0.830, total=   4.3s\n",
            "[CV] colsample_bytree=1.0, gamma=0.5, max_depth=5, subsample=0.6 .....\n",
            "[CV]  colsample_bytree=1.0, gamma=0.5, max_depth=5, subsample=0.6, score=0.812, total=   4.3s\n",
            "[CV] colsample_bytree=1.0, gamma=0.5, max_depth=5, subsample=0.6 .....\n",
            "[CV]  colsample_bytree=1.0, gamma=0.5, max_depth=5, subsample=0.6, score=0.827, total=   4.2s\n",
            "[CV] colsample_bytree=1.0, gamma=0.5, max_depth=5, subsample=0.6 .....\n",
            "[CV]  colsample_bytree=1.0, gamma=0.5, max_depth=5, subsample=0.6, score=0.820, total=   4.3s\n",
            "[CV] colsample_bytree=1.0, gamma=0.5, max_depth=5, subsample=0.8 .....\n",
            "[CV]  colsample_bytree=1.0, gamma=0.5, max_depth=5, subsample=0.8, score=0.817, total=   4.0s\n",
            "[CV] colsample_bytree=1.0, gamma=0.5, max_depth=5, subsample=0.8 .....\n",
            "[CV]  colsample_bytree=1.0, gamma=0.5, max_depth=5, subsample=0.8, score=0.827, total=   4.0s\n",
            "[CV] colsample_bytree=1.0, gamma=0.5, max_depth=5, subsample=0.8 .....\n",
            "[CV]  colsample_bytree=1.0, gamma=0.5, max_depth=5, subsample=0.8, score=0.812, total=   4.0s\n",
            "[CV] colsample_bytree=1.0, gamma=0.5, max_depth=5, subsample=0.8 .....\n",
            "[CV]  colsample_bytree=1.0, gamma=0.5, max_depth=5, subsample=0.8, score=0.826, total=   4.0s\n",
            "[CV] colsample_bytree=1.0, gamma=0.5, max_depth=5, subsample=0.8 .....\n",
            "[CV]  colsample_bytree=1.0, gamma=0.5, max_depth=5, subsample=0.8, score=0.818, total=   4.0s\n",
            "[CV] colsample_bytree=1.0, gamma=0.5, max_depth=5, subsample=1.0 .....\n",
            "[CV]  colsample_bytree=1.0, gamma=0.5, max_depth=5, subsample=1.0, score=0.818, total=   3.7s\n",
            "[CV] colsample_bytree=1.0, gamma=0.5, max_depth=5, subsample=1.0 .....\n",
            "[CV]  colsample_bytree=1.0, gamma=0.5, max_depth=5, subsample=1.0, score=0.827, total=   3.6s\n",
            "[CV] colsample_bytree=1.0, gamma=0.5, max_depth=5, subsample=1.0 .....\n",
            "[CV]  colsample_bytree=1.0, gamma=0.5, max_depth=5, subsample=1.0, score=0.812, total=   3.6s\n",
            "[CV] colsample_bytree=1.0, gamma=0.5, max_depth=5, subsample=1.0 .....\n",
            "[CV]  colsample_bytree=1.0, gamma=0.5, max_depth=5, subsample=1.0, score=0.825, total=   3.6s\n",
            "[CV] colsample_bytree=1.0, gamma=0.5, max_depth=5, subsample=1.0 .....\n",
            "[CV]  colsample_bytree=1.0, gamma=0.5, max_depth=5, subsample=1.0, score=0.820, total=   3.6s\n",
            "[CV] colsample_bytree=1.0, gamma=1, max_depth=3, subsample=0.6 .......\n",
            "[CV]  colsample_bytree=1.0, gamma=1, max_depth=3, subsample=0.6, score=0.816, total=   2.6s\n",
            "[CV] colsample_bytree=1.0, gamma=1, max_depth=3, subsample=0.6 .......\n",
            "[CV]  colsample_bytree=1.0, gamma=1, max_depth=3, subsample=0.6, score=0.832, total=   2.6s\n",
            "[CV] colsample_bytree=1.0, gamma=1, max_depth=3, subsample=0.6 .......\n",
            "[CV]  colsample_bytree=1.0, gamma=1, max_depth=3, subsample=0.6, score=0.814, total=   2.6s\n",
            "[CV] colsample_bytree=1.0, gamma=1, max_depth=3, subsample=0.6 .......\n",
            "[CV]  colsample_bytree=1.0, gamma=1, max_depth=3, subsample=0.6, score=0.824, total=   2.6s\n",
            "[CV] colsample_bytree=1.0, gamma=1, max_depth=3, subsample=0.6 .......\n",
            "[CV]  colsample_bytree=1.0, gamma=1, max_depth=3, subsample=0.6, score=0.820, total=   2.6s\n",
            "[CV] colsample_bytree=1.0, gamma=1, max_depth=3, subsample=0.8 .......\n",
            "[CV]  colsample_bytree=1.0, gamma=1, max_depth=3, subsample=0.8, score=0.816, total=   2.4s\n",
            "[CV] colsample_bytree=1.0, gamma=1, max_depth=3, subsample=0.8 .......\n",
            "[CV]  colsample_bytree=1.0, gamma=1, max_depth=3, subsample=0.8, score=0.831, total=   2.4s\n",
            "[CV] colsample_bytree=1.0, gamma=1, max_depth=3, subsample=0.8 .......\n",
            "[CV]  colsample_bytree=1.0, gamma=1, max_depth=3, subsample=0.8, score=0.813, total=   2.4s\n",
            "[CV] colsample_bytree=1.0, gamma=1, max_depth=3, subsample=0.8 .......\n",
            "[CV]  colsample_bytree=1.0, gamma=1, max_depth=3, subsample=0.8, score=0.824, total=   2.4s\n",
            "[CV] colsample_bytree=1.0, gamma=1, max_depth=3, subsample=0.8 .......\n",
            "[CV]  colsample_bytree=1.0, gamma=1, max_depth=3, subsample=0.8, score=0.818, total=   2.4s\n",
            "[CV] colsample_bytree=1.0, gamma=1, max_depth=3, subsample=1.0 .......\n",
            "[CV]  colsample_bytree=1.0, gamma=1, max_depth=3, subsample=1.0, score=0.815, total=   2.2s\n",
            "[CV] colsample_bytree=1.0, gamma=1, max_depth=3, subsample=1.0 .......\n",
            "[CV]  colsample_bytree=1.0, gamma=1, max_depth=3, subsample=1.0, score=0.830, total=   2.2s\n",
            "[CV] colsample_bytree=1.0, gamma=1, max_depth=3, subsample=1.0 .......\n",
            "[CV]  colsample_bytree=1.0, gamma=1, max_depth=3, subsample=1.0, score=0.812, total=   2.2s\n",
            "[CV] colsample_bytree=1.0, gamma=1, max_depth=3, subsample=1.0 .......\n",
            "[CV]  colsample_bytree=1.0, gamma=1, max_depth=3, subsample=1.0, score=0.824, total=   2.2s\n",
            "[CV] colsample_bytree=1.0, gamma=1, max_depth=3, subsample=1.0 .......\n",
            "[CV]  colsample_bytree=1.0, gamma=1, max_depth=3, subsample=1.0, score=0.818, total=   2.2s\n",
            "[CV] colsample_bytree=1.0, gamma=1, max_depth=4, subsample=0.6 .......\n",
            "[CV]  colsample_bytree=1.0, gamma=1, max_depth=4, subsample=0.6, score=0.815, total=   3.4s\n",
            "[CV] colsample_bytree=1.0, gamma=1, max_depth=4, subsample=0.6 .......\n",
            "[CV]  colsample_bytree=1.0, gamma=1, max_depth=4, subsample=0.6, score=0.830, total=   3.4s\n",
            "[CV] colsample_bytree=1.0, gamma=1, max_depth=4, subsample=0.6 .......\n",
            "[CV]  colsample_bytree=1.0, gamma=1, max_depth=4, subsample=0.6, score=0.813, total=   3.4s\n",
            "[CV] colsample_bytree=1.0, gamma=1, max_depth=4, subsample=0.6 .......\n",
            "[CV]  colsample_bytree=1.0, gamma=1, max_depth=4, subsample=0.6, score=0.825, total=   3.4s\n",
            "[CV] colsample_bytree=1.0, gamma=1, max_depth=4, subsample=0.6 .......\n",
            "[CV]  colsample_bytree=1.0, gamma=1, max_depth=4, subsample=0.6, score=0.820, total=   3.4s\n",
            "[CV] colsample_bytree=1.0, gamma=1, max_depth=4, subsample=0.8 .......\n",
            "[CV]  colsample_bytree=1.0, gamma=1, max_depth=4, subsample=0.8, score=0.816, total=   3.2s\n",
            "[CV] colsample_bytree=1.0, gamma=1, max_depth=4, subsample=0.8 .......\n",
            "[CV]  colsample_bytree=1.0, gamma=1, max_depth=4, subsample=0.8, score=0.829, total=   3.2s\n",
            "[CV] colsample_bytree=1.0, gamma=1, max_depth=4, subsample=0.8 .......\n",
            "[CV]  colsample_bytree=1.0, gamma=1, max_depth=4, subsample=0.8, score=0.814, total=   3.2s\n",
            "[CV] colsample_bytree=1.0, gamma=1, max_depth=4, subsample=0.8 .......\n",
            "[CV]  colsample_bytree=1.0, gamma=1, max_depth=4, subsample=0.8, score=0.824, total=   3.2s\n",
            "[CV] colsample_bytree=1.0, gamma=1, max_depth=4, subsample=0.8 .......\n",
            "[CV]  colsample_bytree=1.0, gamma=1, max_depth=4, subsample=0.8, score=0.819, total=   3.2s\n",
            "[CV] colsample_bytree=1.0, gamma=1, max_depth=4, subsample=1.0 .......\n",
            "[CV]  colsample_bytree=1.0, gamma=1, max_depth=4, subsample=1.0, score=0.817, total=   2.9s\n",
            "[CV] colsample_bytree=1.0, gamma=1, max_depth=4, subsample=1.0 .......\n",
            "[CV]  colsample_bytree=1.0, gamma=1, max_depth=4, subsample=1.0, score=0.828, total=   2.9s\n",
            "[CV] colsample_bytree=1.0, gamma=1, max_depth=4, subsample=1.0 .......\n",
            "[CV]  colsample_bytree=1.0, gamma=1, max_depth=4, subsample=1.0, score=0.812, total=   2.9s\n",
            "[CV] colsample_bytree=1.0, gamma=1, max_depth=4, subsample=1.0 .......\n",
            "[CV]  colsample_bytree=1.0, gamma=1, max_depth=4, subsample=1.0, score=0.825, total=   2.9s\n",
            "[CV] colsample_bytree=1.0, gamma=1, max_depth=4, subsample=1.0 .......\n",
            "[CV]  colsample_bytree=1.0, gamma=1, max_depth=4, subsample=1.0, score=0.820, total=   2.9s\n",
            "[CV] colsample_bytree=1.0, gamma=1, max_depth=5, subsample=0.6 .......\n",
            "[CV]  colsample_bytree=1.0, gamma=1, max_depth=5, subsample=0.6, score=0.816, total=   4.3s\n",
            "[CV] colsample_bytree=1.0, gamma=1, max_depth=5, subsample=0.6 .......\n",
            "[CV]  colsample_bytree=1.0, gamma=1, max_depth=5, subsample=0.6, score=0.830, total=   4.3s\n",
            "[CV] colsample_bytree=1.0, gamma=1, max_depth=5, subsample=0.6 .......\n",
            "[CV]  colsample_bytree=1.0, gamma=1, max_depth=5, subsample=0.6, score=0.812, total=   4.2s\n",
            "[CV] colsample_bytree=1.0, gamma=1, max_depth=5, subsample=0.6 .......\n",
            "[CV]  colsample_bytree=1.0, gamma=1, max_depth=5, subsample=0.6, score=0.827, total=   4.3s\n",
            "[CV] colsample_bytree=1.0, gamma=1, max_depth=5, subsample=0.6 .......\n",
            "[CV]  colsample_bytree=1.0, gamma=1, max_depth=5, subsample=0.6, score=0.820, total=   4.3s\n",
            "[CV] colsample_bytree=1.0, gamma=1, max_depth=5, subsample=0.8 .......\n",
            "[CV]  colsample_bytree=1.0, gamma=1, max_depth=5, subsample=0.8, score=0.817, total=   4.0s\n",
            "[CV] colsample_bytree=1.0, gamma=1, max_depth=5, subsample=0.8 .......\n",
            "[CV]  colsample_bytree=1.0, gamma=1, max_depth=5, subsample=0.8, score=0.827, total=   4.0s\n",
            "[CV] colsample_bytree=1.0, gamma=1, max_depth=5, subsample=0.8 .......\n",
            "[CV]  colsample_bytree=1.0, gamma=1, max_depth=5, subsample=0.8, score=0.812, total=   4.0s\n",
            "[CV] colsample_bytree=1.0, gamma=1, max_depth=5, subsample=0.8 .......\n",
            "[CV]  colsample_bytree=1.0, gamma=1, max_depth=5, subsample=0.8, score=0.826, total=   4.0s\n",
            "[CV] colsample_bytree=1.0, gamma=1, max_depth=5, subsample=0.8 .......\n",
            "[CV]  colsample_bytree=1.0, gamma=1, max_depth=5, subsample=0.8, score=0.818, total=   4.0s\n",
            "[CV] colsample_bytree=1.0, gamma=1, max_depth=5, subsample=1.0 .......\n",
            "[CV]  colsample_bytree=1.0, gamma=1, max_depth=5, subsample=1.0, score=0.818, total=   3.7s\n",
            "[CV] colsample_bytree=1.0, gamma=1, max_depth=5, subsample=1.0 .......\n",
            "[CV]  colsample_bytree=1.0, gamma=1, max_depth=5, subsample=1.0, score=0.827, total=   3.6s\n",
            "[CV] colsample_bytree=1.0, gamma=1, max_depth=5, subsample=1.0 .......\n",
            "[CV]  colsample_bytree=1.0, gamma=1, max_depth=5, subsample=1.0, score=0.813, total=   3.6s\n",
            "[CV] colsample_bytree=1.0, gamma=1, max_depth=5, subsample=1.0 .......\n",
            "[CV]  colsample_bytree=1.0, gamma=1, max_depth=5, subsample=1.0, score=0.825, total=   3.6s\n",
            "[CV] colsample_bytree=1.0, gamma=1, max_depth=5, subsample=1.0 .......\n",
            "[CV]  colsample_bytree=1.0, gamma=1, max_depth=5, subsample=1.0, score=0.820, total=   3.6s\n",
            "[CV] colsample_bytree=1.0, gamma=5, max_depth=3, subsample=0.6 .......\n",
            "[CV]  colsample_bytree=1.0, gamma=5, max_depth=3, subsample=0.6, score=0.816, total=   2.6s\n",
            "[CV] colsample_bytree=1.0, gamma=5, max_depth=3, subsample=0.6 .......\n",
            "[CV]  colsample_bytree=1.0, gamma=5, max_depth=3, subsample=0.6, score=0.832, total=   2.6s\n",
            "[CV] colsample_bytree=1.0, gamma=5, max_depth=3, subsample=0.6 .......\n",
            "[CV]  colsample_bytree=1.0, gamma=5, max_depth=3, subsample=0.6, score=0.814, total=   2.6s\n",
            "[CV] colsample_bytree=1.0, gamma=5, max_depth=3, subsample=0.6 .......\n",
            "[CV]  colsample_bytree=1.0, gamma=5, max_depth=3, subsample=0.6, score=0.824, total=   2.6s\n",
            "[CV] colsample_bytree=1.0, gamma=5, max_depth=3, subsample=0.6 .......\n",
            "[CV]  colsample_bytree=1.0, gamma=5, max_depth=3, subsample=0.6, score=0.820, total=   2.6s\n",
            "[CV] colsample_bytree=1.0, gamma=5, max_depth=3, subsample=0.8 .......\n",
            "[CV]  colsample_bytree=1.0, gamma=5, max_depth=3, subsample=0.8, score=0.816, total=   2.4s\n",
            "[CV] colsample_bytree=1.0, gamma=5, max_depth=3, subsample=0.8 .......\n",
            "[CV]  colsample_bytree=1.0, gamma=5, max_depth=3, subsample=0.8, score=0.831, total=   2.5s\n",
            "[CV] colsample_bytree=1.0, gamma=5, max_depth=3, subsample=0.8 .......\n",
            "[CV]  colsample_bytree=1.0, gamma=5, max_depth=3, subsample=0.8, score=0.813, total=   2.4s\n",
            "[CV] colsample_bytree=1.0, gamma=5, max_depth=3, subsample=0.8 .......\n",
            "[CV]  colsample_bytree=1.0, gamma=5, max_depth=3, subsample=0.8, score=0.824, total=   2.4s\n",
            "[CV] colsample_bytree=1.0, gamma=5, max_depth=3, subsample=0.8 .......\n",
            "[CV]  colsample_bytree=1.0, gamma=5, max_depth=3, subsample=0.8, score=0.818, total=   2.4s\n",
            "[CV] colsample_bytree=1.0, gamma=5, max_depth=3, subsample=1.0 .......\n",
            "[CV]  colsample_bytree=1.0, gamma=5, max_depth=3, subsample=1.0, score=0.815, total=   2.2s\n",
            "[CV] colsample_bytree=1.0, gamma=5, max_depth=3, subsample=1.0 .......\n",
            "[CV]  colsample_bytree=1.0, gamma=5, max_depth=3, subsample=1.0, score=0.830, total=   2.2s\n",
            "[CV] colsample_bytree=1.0, gamma=5, max_depth=3, subsample=1.0 .......\n",
            "[CV]  colsample_bytree=1.0, gamma=5, max_depth=3, subsample=1.0, score=0.812, total=   2.2s\n",
            "[CV] colsample_bytree=1.0, gamma=5, max_depth=3, subsample=1.0 .......\n",
            "[CV]  colsample_bytree=1.0, gamma=5, max_depth=3, subsample=1.0, score=0.824, total=   2.2s\n",
            "[CV] colsample_bytree=1.0, gamma=5, max_depth=3, subsample=1.0 .......\n",
            "[CV]  colsample_bytree=1.0, gamma=5, max_depth=3, subsample=1.0, score=0.818, total=   2.2s\n",
            "[CV] colsample_bytree=1.0, gamma=5, max_depth=4, subsample=0.6 .......\n",
            "[CV]  colsample_bytree=1.0, gamma=5, max_depth=4, subsample=0.6, score=0.815, total=   3.4s\n",
            "[CV] colsample_bytree=1.0, gamma=5, max_depth=4, subsample=0.6 .......\n",
            "[CV]  colsample_bytree=1.0, gamma=5, max_depth=4, subsample=0.6, score=0.831, total=   3.4s\n",
            "[CV] colsample_bytree=1.0, gamma=5, max_depth=4, subsample=0.6 .......\n",
            "[CV]  colsample_bytree=1.0, gamma=5, max_depth=4, subsample=0.6, score=0.813, total=   3.4s\n",
            "[CV] colsample_bytree=1.0, gamma=5, max_depth=4, subsample=0.6 .......\n",
            "[CV]  colsample_bytree=1.0, gamma=5, max_depth=4, subsample=0.6, score=0.825, total=   3.4s\n",
            "[CV] colsample_bytree=1.0, gamma=5, max_depth=4, subsample=0.6 .......\n",
            "[CV]  colsample_bytree=1.0, gamma=5, max_depth=4, subsample=0.6, score=0.819, total=   3.4s\n",
            "[CV] colsample_bytree=1.0, gamma=5, max_depth=4, subsample=0.8 .......\n",
            "[CV]  colsample_bytree=1.0, gamma=5, max_depth=4, subsample=0.8, score=0.816, total=   3.2s\n",
            "[CV] colsample_bytree=1.0, gamma=5, max_depth=4, subsample=0.8 .......\n",
            "[CV]  colsample_bytree=1.0, gamma=5, max_depth=4, subsample=0.8, score=0.830, total=   3.2s\n",
            "[CV] colsample_bytree=1.0, gamma=5, max_depth=4, subsample=0.8 .......\n",
            "[CV]  colsample_bytree=1.0, gamma=5, max_depth=4, subsample=0.8, score=0.814, total=   3.2s\n",
            "[CV] colsample_bytree=1.0, gamma=5, max_depth=4, subsample=0.8 .......\n",
            "[CV]  colsample_bytree=1.0, gamma=5, max_depth=4, subsample=0.8, score=0.824, total=   3.2s\n",
            "[CV] colsample_bytree=1.0, gamma=5, max_depth=4, subsample=0.8 .......\n",
            "[CV]  colsample_bytree=1.0, gamma=5, max_depth=4, subsample=0.8, score=0.819, total=   3.2s\n",
            "[CV] colsample_bytree=1.0, gamma=5, max_depth=4, subsample=1.0 .......\n",
            "[CV]  colsample_bytree=1.0, gamma=5, max_depth=4, subsample=1.0, score=0.817, total=   2.9s\n",
            "[CV] colsample_bytree=1.0, gamma=5, max_depth=4, subsample=1.0 .......\n",
            "[CV]  colsample_bytree=1.0, gamma=5, max_depth=4, subsample=1.0, score=0.829, total=   2.9s\n",
            "[CV] colsample_bytree=1.0, gamma=5, max_depth=4, subsample=1.0 .......\n",
            "[CV]  colsample_bytree=1.0, gamma=5, max_depth=4, subsample=1.0, score=0.813, total=   2.9s\n",
            "[CV] colsample_bytree=1.0, gamma=5, max_depth=4, subsample=1.0 .......\n",
            "[CV]  colsample_bytree=1.0, gamma=5, max_depth=4, subsample=1.0, score=0.825, total=   2.9s\n",
            "[CV] colsample_bytree=1.0, gamma=5, max_depth=4, subsample=1.0 .......\n",
            "[CV]  colsample_bytree=1.0, gamma=5, max_depth=4, subsample=1.0, score=0.820, total=   2.9s\n",
            "[CV] colsample_bytree=1.0, gamma=5, max_depth=5, subsample=0.6 .......\n",
            "[CV]  colsample_bytree=1.0, gamma=5, max_depth=5, subsample=0.6, score=0.816, total=   4.3s\n",
            "[CV] colsample_bytree=1.0, gamma=5, max_depth=5, subsample=0.6 .......\n",
            "[CV]  colsample_bytree=1.0, gamma=5, max_depth=5, subsample=0.6, score=0.830, total=   4.3s\n",
            "[CV] colsample_bytree=1.0, gamma=5, max_depth=5, subsample=0.6 .......\n",
            "[CV]  colsample_bytree=1.0, gamma=5, max_depth=5, subsample=0.6, score=0.814, total=   4.3s\n",
            "[CV] colsample_bytree=1.0, gamma=5, max_depth=5, subsample=0.6 .......\n",
            "[CV]  colsample_bytree=1.0, gamma=5, max_depth=5, subsample=0.6, score=0.827, total=   4.3s\n",
            "[CV] colsample_bytree=1.0, gamma=5, max_depth=5, subsample=0.6 .......\n",
            "[CV]  colsample_bytree=1.0, gamma=5, max_depth=5, subsample=0.6, score=0.820, total=   4.3s\n",
            "[CV] colsample_bytree=1.0, gamma=5, max_depth=5, subsample=0.8 .......\n",
            "[CV]  colsample_bytree=1.0, gamma=5, max_depth=5, subsample=0.8, score=0.817, total=   4.0s\n",
            "[CV] colsample_bytree=1.0, gamma=5, max_depth=5, subsample=0.8 .......\n",
            "[CV]  colsample_bytree=1.0, gamma=5, max_depth=5, subsample=0.8, score=0.828, total=   4.0s\n",
            "[CV] colsample_bytree=1.0, gamma=5, max_depth=5, subsample=0.8 .......\n",
            "[CV]  colsample_bytree=1.0, gamma=5, max_depth=5, subsample=0.8, score=0.813, total=   4.0s\n",
            "[CV] colsample_bytree=1.0, gamma=5, max_depth=5, subsample=0.8 .......\n",
            "[CV]  colsample_bytree=1.0, gamma=5, max_depth=5, subsample=0.8, score=0.826, total=   4.0s\n",
            "[CV] colsample_bytree=1.0, gamma=5, max_depth=5, subsample=0.8 .......\n",
            "[CV]  colsample_bytree=1.0, gamma=5, max_depth=5, subsample=0.8, score=0.819, total=   4.0s\n",
            "[CV] colsample_bytree=1.0, gamma=5, max_depth=5, subsample=1.0 .......\n",
            "[CV]  colsample_bytree=1.0, gamma=5, max_depth=5, subsample=1.0, score=0.818, total=   3.6s\n",
            "[CV] colsample_bytree=1.0, gamma=5, max_depth=5, subsample=1.0 .......\n",
            "[CV]  colsample_bytree=1.0, gamma=5, max_depth=5, subsample=1.0, score=0.827, total=   3.7s\n",
            "[CV] colsample_bytree=1.0, gamma=5, max_depth=5, subsample=1.0 .......\n",
            "[CV]  colsample_bytree=1.0, gamma=5, max_depth=5, subsample=1.0, score=0.814, total=   3.6s\n",
            "[CV] colsample_bytree=1.0, gamma=5, max_depth=5, subsample=1.0 .......\n",
            "[CV]  colsample_bytree=1.0, gamma=5, max_depth=5, subsample=1.0, score=0.826, total=   3.6s\n",
            "[CV] colsample_bytree=1.0, gamma=5, max_depth=5, subsample=1.0 .......\n",
            "[CV]  colsample_bytree=1.0, gamma=5, max_depth=5, subsample=1.0, score=0.819, total=   3.6s\n"
          ],
          "name": "stdout"
        },
        {
          "output_type": "stream",
          "text": [
            "[Parallel(n_jobs=1)]: Done 405 out of 405 | elapsed: 18.4min finished\n"
          ],
          "name": "stderr"
        },
        {
          "output_type": "execute_result",
          "data": {
            "text/plain": [
              "GridSearchCV(cv=None, error_score=nan,\n",
              "             estimator=XGBClassifier(base_score=0.5, booster='gbtree',\n",
              "                                     colsample_bylevel=1, colsample_bynode=1,\n",
              "                                     colsample_bytree=1, gamma=0,\n",
              "                                     learning_rate=0.01, max_delta_step=0,\n",
              "                                     max_depth=3, min_child_weight=1,\n",
              "                                     missing=None, n_estimators=100, n_jobs=1,\n",
              "                                     nthread=None, objective='binary:logistic',\n",
              "                                     random_state=0, reg_alpha=0, reg_lambda=1,\n",
              "                                     scale_pos_weight=1, seed=None, silent=None,\n",
              "                                     subsample=1, verbosity=1),\n",
              "             iid='deprecated', n_jobs=None,\n",
              "             param_grid={'colsample_bytree': [0.6, 0.8, 1.0],\n",
              "                         'gamma': [0.5, 1, 5], 'max_depth': [3, 4, 5],\n",
              "                         'subsample': [0.6, 0.8, 1.0]},\n",
              "             pre_dispatch='2*n_jobs', refit=True, return_train_score=False,\n",
              "             scoring=None, verbose=4)"
            ]
          },
          "metadata": {
            "tags": []
          },
          "execution_count": 115
        }
      ]
    },
    {
      "cell_type": "code",
      "metadata": {
        "id": "OdTsOhAJ0Nz_"
      },
      "source": [
        "y_predict_optim = grid.predict(X_test)"
      ],
      "execution_count": null,
      "outputs": []
    },
    {
      "cell_type": "code",
      "metadata": {
        "id": "2ukPNDEo0Sx3",
        "colab": {
          "base_uri": "https://localhost:8080/",
          "height": 34
        },
        "outputId": "47b387b7-73ed-447b-93a0-ab45a23bc590"
      },
      "source": [
        "y_predict_optim"
      ],
      "execution_count": null,
      "outputs": [
        {
          "output_type": "execute_result",
          "data": {
            "text/plain": [
              "array([0, 0, 0, ..., 0, 1, 0])"
            ]
          },
          "metadata": {
            "tags": []
          },
          "execution_count": 118
        }
      ]
    },
    {
      "cell_type": "code",
      "metadata": {
        "id": "be4wECDBJAlw",
        "colab": {
          "base_uri": "https://localhost:8080/",
          "height": 282
        },
        "outputId": "75084414-e26d-4fea-aa67-4f2a139adef3"
      },
      "source": [
        "# Testing Set Performance\n",
        "cm = confusion_matrix(y_predict_optim, y_test)\n",
        "sns.heatmap(cm, annot=True)"
      ],
      "execution_count": null,
      "outputs": [
        {
          "output_type": "execute_result",
          "data": {
            "text/plain": [
              "<matplotlib.axes._subplots.AxesSubplot at 0x7f3333e6d0b8>"
            ]
          },
          "metadata": {
            "tags": []
          },
          "execution_count": 121
        },
        {
          "output_type": "display_data",
          "data": {
            "image/png": "[encoded data removed]",
            "text/plain": [
              "<Figure size 432x288 with 2 Axes>"
            ]
          },
          "metadata": {
            "tags": [],
            "needs_background": "light"
          }
        }
      ]
    },
    {
      "cell_type": "code",
      "metadata": {
        "id": "QrPx8TlLJIrF",
        "colab": {
          "base_uri": "https://localhost:8080/",
          "height": 168
        },
        "outputId": "66e9369a-f881-47f1-8a19-d5fb9d7355bf"
      },
      "source": [
        "print(classification_report(y_test, y_predict_optim))"
      ],
      "execution_count": null,
      "outputs": [
        {
          "output_type": "stream",
          "text": [
            "              precision    recall  f1-score   support\n",
            "\n",
            "           0       0.84      0.95      0.89      5815\n",
            "           1       0.70      0.36      0.47      1685\n",
            "\n",
            "    accuracy                           0.82      7500\n",
            "   macro avg       0.77      0.66      0.68      7500\n",
            "weighted avg       0.81      0.82      0.80      7500\n",
            "\n"
          ],
          "name": "stdout"
        }
      ]
    },
    {
      "cell_type": "markdown",
      "metadata": {
        "id": "NxoqK3wSVIAW"
      },
      "source": [
        "# TASK #9: XG-BOOST ALGORITHM IN AWS SAGEMAKER"
      ]
    },
    {
      "cell_type": "markdown",
      "metadata": {
        "id": "6c50JCGnToQr"
      },
      "source": [
        "![alt text](https://drive.google.com/uc?id=1ThDuQ1Oq_q57ETsDeGzgtAmDaEDWcKUp)"
      ]
    },
    {
      "cell_type": "markdown",
      "metadata": {
        "id": "Zm188bZUTogy"
      },
      "source": [
        "![alt text](https://drive.google.com/uc?id=1Nr2R7kqpUV5dKnV_FynvPQKTvZMPbxJ9)"
      ]
    },
    {
      "cell_type": "markdown",
      "metadata": {
        "id": "XxJRtidpToqE"
      },
      "source": [
        "![alt text](https://drive.google.com/uc?id=17Lojgwxrh_az4MtItAaB6QgZvf_bJ3Ql)"
      ]
    },
    {
      "cell_type": "markdown",
      "metadata": {
        "id": "Vi66pXGQToeR"
      },
      "source": [
        "![alt text](https://drive.google.com/uc?id=1C65sLJA1WmzKWVnckz3RsmRdxS24q_D-)"
      ]
    },
    {
      "cell_type": "markdown",
      "metadata": {
        "id": "DI9BWVNuTobA"
      },
      "source": [
        "![alt text](https://drive.google.com/uc?id=17ebCLeT-d-YFITX_SW-x2v-xEKvopFav)"
      ]
    },
    {
      "cell_type": "markdown",
      "metadata": {
        "id": "ZRVviq1nVqSu"
      },
      "source": [
        "# TASK #10: TRAIN XG-BOOST USING SAGEMAKER"
      ]
    },
    {
      "cell_type": "code",
      "metadata": {
        "id": "h7KAdxi6JJgG"
      },
      "source": [
        "# Convert the array into dataframe in a way that target variable is set as the first column and followed by feature columns\n",
        "# This is because sagemaker built-in algorithm expects the data in this format.\n",
        "\n",
        "train_data = pd.DataFrame({'Target': y_train[:,0]})\n",
        "for i in range(X_train.shape[1]):\n",
        "    train_data[i] = X_train[:,i]"
      ],
      "execution_count": null,
      "outputs": []
    },
    {
      "cell_type": "code",
      "metadata": {
        "id": "mt-itpqwVxQk"
      },
      "source": [
        "train_data.head()"
      ],
      "execution_count": null,
      "outputs": []
    },
    {
      "cell_type": "code",
      "metadata": {
        "id": "h5cI9ZZGVxVD"
      },
      "source": [
        "val_data = pd.DataFrame({'Target':y_val[:,0]})\n",
        "for i in range(X_val.shape[1]):\n",
        "    val_data[i] = X_val[:,i]"
      ],
      "execution_count": null,
      "outputs": []
    },
    {
      "cell_type": "code",
      "metadata": {
        "id": "a2-Hc-FsVxgN"
      },
      "source": [
        "val_data.head()"
      ],
      "execution_count": null,
      "outputs": []
    },
    {
      "cell_type": "code",
      "metadata": {
        "id": "41_J7DykVxk9"
      },
      "source": [
        "val_data.shape"
      ],
      "execution_count": null,
      "outputs": []
    },
    {
      "cell_type": "code",
      "metadata": {
        "id": "ifZToPLsVxqG"
      },
      "source": [
        "# save train_data and validation_data as csv files.\n",
        "\n",
        "train_data.to_csv('train.csv', header = False, index = False)\n",
        "val_data.to_csv('validation.csv', header = False, index = False)"
      ],
      "execution_count": null,
      "outputs": []
    },
    {
      "cell_type": "code",
      "metadata": {
        "id": "5N_vpfK_VxvF"
      },
      "source": [
        "# Boto3 is the Amazon Web Services (AWS) Software Development Kit (SDK) for Python\n",
        "# Boto3 allows Python developer to write software that makes use of services like Amazon S3 and Amazon EC2\n",
        "\n",
        "import sagemaker\n",
        "import boto3\n",
        "\n",
        "# Create a sagemaker session\n",
        "sagemaker_session = sagemaker.Session()\n",
        "\n",
        "#S 3 bucket and prefix that we want to use\n",
        "# default_bucket - creates a Amazon S3 bucket to be used in this session\n",
        "bucket = 'sagemaker-practical-3'\n",
        "prefix = 'XGBoost-Regressor'\n",
        "key = 'XGBoost-Regressor'\n",
        "#Roles give learning and hosting access to the data\n",
        "#This is specified while opening the sagemakers instance in \"Create an IAM role\"\n",
        "role = sagemaker.get_execution_role()"
      ],
      "execution_count": null,
      "outputs": []
    },
    {
      "cell_type": "code",
      "metadata": {
        "id": "DbdoRZ1GVxtD"
      },
      "source": [
        "print(role)"
      ],
      "execution_count": null,
      "outputs": []
    },
    {
      "cell_type": "code",
      "metadata": {
        "id": "qfrO5GPaVxok"
      },
      "source": [
        "# read the data from csv file and then upload the data to s3 bucket\n",
        "import os\n",
        "with open('train.csv','rb') as f:\n",
        "    # The following code uploads the data into S3 bucket to be accessed later for training\n",
        "    boto3.Session().resource('s3').Bucket(bucket).Object(os.path.join(prefix, 'train', key)).upload_fileobj(f)\n",
        "\n",
        "# Let's print out the training data location in s3\n",
        "s3_train_data = 's3://{}/{}/train/{}'.format(bucket, prefix, key)\n",
        "print('uploaded training data location: {}'.format(s3_train_data))"
      ],
      "execution_count": null,
      "outputs": []
    },
    {
      "cell_type": "code",
      "metadata": {
        "id": "QAm6uKHzVxjf"
      },
      "source": [
        "# read the data from csv file and then upload the data to s3 bucket\n",
        "\n",
        "with open('validation.csv','rb') as f:\n",
        "    # The following code uploads the data into S3 bucket to be accessed later for training\n",
        "\n",
        "    boto3.Session().resource('s3').Bucket(bucket).Object(os.path.join(prefix, 'validation', key)).upload_fileobj(f)\n",
        "# Let's print out the validation data location in s3\n",
        "s3_validation_data = 's3://{}/{}/validation/{}'.format(bucket, prefix, key)\n",
        "print('uploaded validation data location: {}'.format(s3_validation_data))"
      ],
      "execution_count": null,
      "outputs": []
    },
    {
      "cell_type": "code",
      "metadata": {
        "id": "zQn_ylRsVxeC"
      },
      "source": [
        "# creates output placeholder in S3 bucket to store the output\n",
        "\n",
        "output_location = 's3://{}/{}/output'.format(bucket, prefix)\n",
        "print('training artifacts will be uploaded to: {}'.format(output_location))"
      ],
      "execution_count": null,
      "outputs": []
    },
    {
      "cell_type": "code",
      "metadata": {
        "id": "_FniO4vjVxcA"
      },
      "source": [
        "# This code is used to get the training container of sagemaker built-in algorithms\n",
        "# all we have to do is to specify the name of the algorithm, that we want to use\n",
        "\n",
        "# Let's obtain a reference to the XGBoost container image\n",
        "# Note that all regression models are named estimators\n",
        "# You don't have to specify (hardcode) the region, get_image_uri will get the current region name using boto3.Session\n",
        "\n",
        "from sagemaker.amazon.amazon_estimator import get_image_uri\n",
        "\n",
        "container = get_image_uri(boto3.Session().region_name, 'xgboost','0.90-2') # Latest version of XGboost"
      ],
      "execution_count": null,
      "outputs": []
    },
    {
      "cell_type": "code",
      "metadata": {
        "id": "givvDwooVxat"
      },
      "source": [
        "# Specify the type of instance that we would like to use for training \n",
        "# output path and sagemaker session into the Estimator. \n",
        "# We can also specify how many instances we would like to use for training\n",
        "\n",
        "# Recall that XGBoost works by combining an ensemble of weak models to generate accurate/robust results. \n",
        "# The weak models are randomized to avoid overfitting\n",
        "\n",
        "# num_round: The number of rounds to run the training.\n",
        "\n",
        "\n",
        "# Alpha: L1 regularization term on weights. Increasing this value makes models more conservative.\n",
        "\n",
        "# colsample_by_tree: fraction of features that will be used to train each tree.\n",
        "\n",
        "# eta: Step size shrinkage used in updates to prevent overfitting. \n",
        "# After each boosting step, eta parameter shrinks the feature weights to make the boosting process more conservative.\n",
        "\n",
        "\n",
        "Xgboost_regressor1 = sagemaker.estimator.Estimator(container,\n",
        "                                       role, \n",
        "                                       train_instance_count = 1, \n",
        "                                       train_instance_type = 'ml.m5.2xlarge',\n",
        "                                       output_path = output_location,\n",
        "                                       sagemaker_session = sagemaker_session)\n",
        "\n",
        "#We can tune the hyper-parameters to improve the performance of the model\n",
        "\n",
        "Xgboost_regressor1.set_hyperparameters(max_depth = 10,\n",
        "                           objective = 'reg:linear',\n",
        "                           colsample_bytree = 0.3,\n",
        "                           alpha = 10,\n",
        "                           eta = 0.1,\n",
        "                           num_round = 100\n",
        "                           )\n",
        "\n"
      ],
      "execution_count": null,
      "outputs": []
    },
    {
      "cell_type": "code",
      "metadata": {
        "id": "ExKC0xVpVxXf"
      },
      "source": [
        "# Creating \"train\", \"validation\" channels to feed in the model\n",
        "# Source: https://docs.aws.amazon.com/sagemaker/latest/dg/sagemaker-algo-docker-registry-paths.html\n",
        "\n",
        "train_input = sagemaker.session.s3_input(s3_data = s3_train_data, content_type='csv',s3_data_type = 'S3Prefix')\n",
        "valid_input = sagemaker.session.s3_input(s3_data = s3_validation_data, content_type='csv',s3_data_type = 'S3Prefix')\n",
        "\n",
        "\n",
        "data_channels = {'train': train_input,'validation': valid_input}\n",
        "\n",
        "\n",
        "Xgboost_regressor1.fit(data_channels)"
      ],
      "execution_count": null,
      "outputs": []
    },
    {
      "cell_type": "markdown",
      "metadata": {
        "id": "w0Kw6K67WJAm"
      },
      "source": [
        "# TASK #11: DEPLOY MODEL TO PERFORM INFERENCE"
      ]
    },
    {
      "cell_type": "code",
      "metadata": {
        "id": "nwEvEyVvVxTj"
      },
      "source": [
        "# Deploy the model to perform inference \n",
        "\n",
        "Xgboost_regressor = Xgboost_regressor1.deploy(initial_instance_count = 1, instance_type = 'ml.m5.2xlarge')"
      ],
      "execution_count": null,
      "outputs": []
    },
    {
      "cell_type": "code",
      "metadata": {
        "id": "C6aMpTPwWUZE"
      },
      "source": [
        "'''\n",
        "Content type over-rides the data that will be passed to the deployed model, since the deployed model expects data\n",
        "in text/csv format, we specify this as content -type.\n",
        "\n",
        "Serializer accepts a single argument, the input data, and returns a sequence of bytes in the specified content\n",
        "type\n",
        "\n",
        "Reference: https://sagemaker.readthedocs.io/en/stable/predictors.html\n",
        "'''\n",
        "from sagemaker.predictor import csv_serializer, json_deserializer\n",
        "\n",
        "Xgboost_regressor.content_type = 'text/csv'\n",
        "Xgboost_regressor.serializer = csv_serializer\n",
        "Xgboost_regressor.deserializer = None"
      ],
      "execution_count": null,
      "outputs": []
    },
    {
      "cell_type": "code",
      "metadata": {
        "id": "wqWx9AuIWUdh"
      },
      "source": [
        "X_test.shape"
      ],
      "execution_count": null,
      "outputs": []
    },
    {
      "cell_type": "code",
      "metadata": {
        "id": "Wg-w_2jGWUgU"
      },
      "source": [
        "# making prediction\n",
        "\n",
        "predictions1 = Xgboost_regressor.predict(X_test[0:10000])"
      ],
      "execution_count": null,
      "outputs": []
    },
    {
      "cell_type": "code",
      "metadata": {
        "id": "iXM7-8eVWUol"
      },
      "source": [
        "predictions2 = Xgboost_regressor.predict(X_test[10000:20000])"
      ],
      "execution_count": null,
      "outputs": []
    },
    {
      "cell_type": "code",
      "metadata": {
        "id": "04TwH3H7WcuS"
      },
      "source": [
        "predictions3 = Xgboost_regressor.predict(X_test[20000:30000])"
      ],
      "execution_count": null,
      "outputs": []
    },
    {
      "cell_type": "code",
      "metadata": {
        "id": "skW2KXkSWc09"
      },
      "source": [
        "predictions4 = Xgboost_regressor.predict(X_test[30000:31618])"
      ],
      "execution_count": null,
      "outputs": []
    },
    {
      "cell_type": "code",
      "metadata": {
        "id": "jN0Th7fdWc5X"
      },
      "source": [
        "# custom code to convert the values in bytes format to array\n",
        "\n",
        "def bytes_2_array(x):\n",
        "    \n",
        "    # makes entire prediction as string and splits based on ','\n",
        "    l = str(x).split(',')\n",
        "    \n",
        "    # Since the first element contains unwanted characters like (b,',') we remove them\n",
        "    l[0] = l[0][2:]\n",
        "    #same-thing as above remove the unwanted last character (')\n",
        "    l[-1] = l[-1][:-1]\n",
        "    \n",
        "    # iterating through the list of strings and converting them into float type\n",
        "    for i in range(len(l)):\n",
        "        l[i] = float(l[i])\n",
        "        \n",
        "    # converting the list into array\n",
        "    l = np.array(l).astype('float32')\n",
        "    \n",
        "    # reshape one-dimensional array to two-dimensional array\n",
        "    return l.reshape(-1,1)"
      ],
      "execution_count": null,
      "outputs": []
    },
    {
      "cell_type": "code",
      "metadata": {
        "id": "-IO-hnu_Wc34"
      },
      "source": [
        "predicted_values_1 = bytes_2_array(predictions1)"
      ],
      "execution_count": null,
      "outputs": []
    },
    {
      "cell_type": "code",
      "metadata": {
        "id": "o5l6F7JLWcy4"
      },
      "source": [
        "predicted_values_1.shape"
      ],
      "execution_count": null,
      "outputs": []
    },
    {
      "cell_type": "code",
      "metadata": {
        "id": "vRPi4YAiWcxN"
      },
      "source": [
        "predicted_values_2 = bytes_2_array(predictions2)\n",
        "predicted_values_2.shape"
      ],
      "execution_count": null,
      "outputs": []
    },
    {
      "cell_type": "code",
      "metadata": {
        "id": "00a3zWcrWcsE"
      },
      "source": [
        "predicted_values_3 = bytes_2_array(predictions3)\n",
        "predicted_values_3.shape"
      ],
      "execution_count": null,
      "outputs": []
    },
    {
      "cell_type": "code",
      "metadata": {
        "id": "sSaOxKWZWUb_"
      },
      "source": [
        "predicted_values_4 = bytes_2_array(predictions4)\n",
        "predicted_values_4.shape"
      ],
      "execution_count": null,
      "outputs": []
    },
    {
      "cell_type": "code",
      "metadata": {
        "id": "ls7kOoCqWnKN"
      },
      "source": [
        "predicted_values = np.concatenate((predicted_values_1, predicted_values_2, predicted_values_3, predicted_values_4))"
      ],
      "execution_count": null,
      "outputs": []
    },
    {
      "cell_type": "code",
      "metadata": {
        "id": "DZ61FPBAWnQ3"
      },
      "source": [
        "predicted_values.shape"
      ],
      "execution_count": null,
      "outputs": []
    },
    {
      "cell_type": "code",
      "metadata": {
        "id": "7FGdRyoHWnf5"
      },
      "source": [
        "from sklearn.metrics import r2_score, mean_squared_error, mean_absolute_error\n",
        "from math import sqrt\n",
        "k = X_test.shape[1]\n",
        "n = len(X_test)\n",
        "RMSE = float(format(np.sqrt(mean_squared_error(y_test, predicted_values)),'.3f'))\n",
        "MSE = mean_squared_error(y_test, predicted_values)\n",
        "MAE = mean_absolute_error(y_test, predicted_values)\n",
        "r2 = r2_score(y_test, predicted_values)\n",
        "adj_r2 = 1-(1-r2)*(n-1)/(n-k-1)\n",
        "\n",
        "print('RMSE =',RMSE, '\\nMSE =',MSE, '\\nMAE =',MAE, '\\nR2 =', r2, '\\nAdjusted R2 =', adj_r2) "
      ],
      "execution_count": null,
      "outputs": []
    },
    {
      "cell_type": "code",
      "metadata": {
        "id": "yhGR_kDpWni4"
      },
      "source": [
        "# Delete the end-point\n",
        "\n",
        "Xgboost_regressor.delete_endpoint()"
      ],
      "execution_count": null,
      "outputs": []
    },
    {
      "cell_type": "markdown",
      "metadata": {
        "id": "fqRKoCr7Yylg"
      },
      "source": [
        "# EXCELLENT JOB! YOU SHOULD BE PROUD OF YOUR NEWLY ACQUIRED SKILLS"
      ]
    }
  ]
}